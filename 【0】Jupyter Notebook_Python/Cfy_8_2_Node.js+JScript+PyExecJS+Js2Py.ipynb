{
 "cells": [
  {
   "cell_type": "code",
   "execution_count": null,
   "metadata": {
    "code_folding": [
     0
    ]
   },
   "outputs": [],
   "source": [
    "# 【1】 python调用js的库之execjs 安装及简介+ node.js：\n",
    "'''\n",
    "pip install PyExecJS\n",
    "\n",
    "一.通过相关库调用JavaScript引擎执行JS\n",
    "    PyExecJS，推荐，有多个引擎可选，一般选择NodeJS\n",
    "    Node.js ,下载官网：https://nodejs.org/dist/v10.15.3/\n",
    "    JScript :windows自带JS解释器，IE浏览器.在windows上不需要其他的依赖便可运行execjs，也可以调用其他的JS环境\n",
    "\n",
    "    源码中给出， 可执行execjs的环境：\n",
    "        PyV8         = \"PyV8\"\n",
    "        Node.js         = \"Node\"\n",
    "        JavaScriptCore    = \"JavaScriptCore\"\n",
    "        SpiderMonkey    = \"SpiderMonkey\"\n",
    "        JScript       = \"JScript\"\n",
    "        PhantomJS      = \"PhantomJS\"\n",
    "        SlimerJS       = \"SlimerJS\"\n",
    "        Nashorn       = \"Nashorn\"\n",
    "_____________________导入本地js文件___________________________________\n",
    "    有时候js代码过长，我们可以将js代码先保存到文件中。\n",
    "　　由于历史遗留问题，ExecJS以前使用python2编写的，所以在代码实现过程中会涉及到文件编码的问题。\n",
    "  ExecJS先将js代码读到内存中，然后再把调用js的代码和js文件的代码一同写入到一个临时文件\n",
    "  （C:\\Users\\user\\AppData\\Local\\Temp\\xx.js）中，如果js文件采用的是UTF-8编码，那么在写入到临时文件时，\n",
    "  模块会报UnicodeEncodeError: 'gbk' codec can't encode character xxx ， 主要是因为模块在进行文件写入时\n",
    "  采用的是windows的默认编码gbk，而没有指定encoding=utf-8，所以js文件需要以gbk编码保存。\n",
    "_____________________ 通过os.environ 环境切换___________________________________\n",
    "    os.environ[\"EXECJS_RUNTIME\"] = \"Node\"\n",
    "    execjs.get().name\n",
    "    execjs.eval(\"1 + 2\")\n",
    "_____________________ 通过execjs.get  环境切换___________________________________\n",
    "通过execjs.get 切换\n",
    "jscript = execjs.get(execjs.runtime_names.JScript)  # runtime_names 便是execjs源码中给出的执行环境的。 \n",
    "execjs.runtime_names.xxx  xxx必须在上一节 #3中取\n",
    "jscript.eval(\"1 + 2\")\n",
    "——————————————————————————————————————————————————\n",
    "（一）安装 Node.js \n",
    "https://nodejs.org/dist/v10.15.3/\n",
    "'''"
   ]
  },
  {
   "cell_type": "code",
   "execution_count": 1,
   "metadata": {
    "code_folding": [
     0
    ]
   },
   "outputs": [
    {
     "name": "stdout",
     "output_type": "stream",
     "text": [
      "Node.js (V8)\n",
      "3\n",
      "2\n"
     ]
    }
   ],
   "source": [
    "# 【1】 execjs + node.js : 检测运行环境 + 手动指定引擎\n",
    "import execjs\n",
    "import os\n",
    "# ——————————————————————\n",
    "print(execjs.get().name)   # 检测运行环境\n",
    "default = execjs.get()\n",
    "print(default.eval(\"1 + 2\"))\n",
    "print(execjs.get().eval('1+1'))\n",
    "# —————————————————————— 手动指定引擎\n",
    "# os.environ[\"EXECJS_RUNTIME\"] = \"Node\"\n",
    "# print(execjs.get().name)\n",
    "# os.environ[\"EXECJS_RUNTIME\"] = \"JScript\"\n",
    "# print(execjs.get().name)\n",
    "# —————————————————————— 手动指定引擎\n",
    "# js1=execjs.get(execjs.runtime_names.JScript)\n",
    "# print(js1.eval('1+2'))\n",
    "# js2=execjs.get(execjs.runtime_names.Node)\n",
    "# print(js2.eval('2+3'))\n"
   ]
  },
  {
   "cell_type": "code",
   "execution_count": null,
   "metadata": {
    "code_folding": [
     0
    ]
   },
   "outputs": [],
   "source": [
    "# （一）execjs 基础练习：\n",
    "import execjs\n",
    "'''____________________ execjs会自动使用当前电脑上的运行时环境,运行js：_______________________'''\n",
    "# print(execjs.get().name) # 检测运行环境\n",
    "# default = execjs.get()\n",
    "# default.eval(\"1 + 2\")\n",
    "'''____________________ eval + split 直接运算_______________________'''\n",
    "# print(execjs.eval(\"'red yellow blue'.split(' ')\"))\n",
    "'''____________________ compile + function + call / eval 编译后再调用 ___________________'''\n",
    "# ctx = execjs.compile('''function add(x, y) \n",
    "#                         { return x + y};''')\n",
    "# print(ctx.call(\"add\", 1, 2))\n",
    "# 使用eval的写法同上，但是在传入字符串或者其他类型的数据时需要添加对应的格式,如下所示，具体可在程序中debug\n",
    "# print(ctx.eval(\"add({0}, {1})\".format(1,2)))  \n",
    "'''____________________ 调用本地 js 文件 + compile + eval ___________________'''\n",
    "with open(r\"C:\\Users\\hp\\Desktop\\python_js.txt\", 'r') as f:\n",
    "       content = f.read()  #读取js文件的全部内容到content变量中\n",
    "ctx = execjs.compile(content)\n",
    "jscode =\"add({0}, {1})\".format(1,2)\n",
    "print(ctx.eval(jscode))\n"
   ]
  },
  {
   "cell_type": "code",
   "execution_count": null,
   "metadata": {
    "code_folding": [
     0
    ]
   },
   "outputs": [],
   "source": [
    "# （一）execjs 基础练习：华氏度转换为摄氏度\n",
    "import execjs\n",
    "'''____________________ function 编译后再运算 并返回结果_________________________'''\n",
    "# jsFormula='''function toCelsius(f) {\n",
    "#     return (5/9) * (f-32);\n",
    "# } '''\n",
    "# jsFunc=execjs.compile(jsFormula)\n",
    "# jsFunc.call('toCelsius',80)\n",
    "# jsFunc.eval('toCelsius(80)')\n",
    "\n",
    "'''____________________ split 分割对比 直接运算 与 编译后运算_________________________'''\n",
    "# jsFomula=\"'Hello Girl'.split(' ')\"\n",
    "# execjs.eval(jsFomula)\n",
    "# execjs.eval(\"'Hello Girl'.split(' ')\")\n",
    "\n",
    "jsFormula=\"function js_split(str_para){return str_para.split(' ');}\"\n",
    "jsFunc=execjs.compile(jsFormula)\n",
    "print(jsFunc.call('js_split','Hello Girl'))\n",
    "print(jsFunc.eval('js_split(\"Hello Girl\")'))\n",
    "'''____________________ var 定义变量 与 typeof _________________________'''\n",
    "# jsFormula='function myfunc(){ var carName = \"Volvo\";return typeof carName + \" \" + carName;}'\n",
    "# jsFunc=execjs.compile(jsFormula)\n",
    "# jsFunc.eval('myfunc()')\n",
    "'''____________________ var 定义对象object _________________________'''\n",
    "# jsFormula='''function myfunc() {var person = {\n",
    "#   firstName: \"Bill\",\n",
    "#   lastName : \"Gates\",\n",
    "#   id       : 678,\n",
    "#   fullName : function() {return this.firstName + \" \" + this.lastName;}};\n",
    "#   return person['firstName'] + \",\" + person.lastName + \",\" +person.fullName()+ \",\" +person.fullName;\n",
    "# }''' \n",
    "# # this 指的是“拥有” fullName 函数的 person 对象\n",
    "# jsFunc=execjs.compile(jsFormula)\n",
    "# # jsFunc.eval('myfunc()')\n",
    "# jsFunc.call('myfunc')"
   ]
  },
  {
   "cell_type": "code",
   "execution_count": null,
   "metadata": {
    "code_folding": [
     0
    ]
   },
   "outputs": [],
   "source": [
    "# （二）百度翻译(request直接访问https://fanyi.baidu.com/?aldtype=16047#en/zh/失败)\n",
    "import requests\n",
    "from lxml import etree\n",
    "class Bdfanyi():\n",
    "    def __init__(self):\n",
    "        self.url='https://fanyi.baidu.com/?aldtype=16047#en/zh/{}'\n",
    "        self.header={\n",
    "            'accept-encoding':'gzip, deflate, br',\n",
    "            'accept-language': 'zh-CN,zh;q=0.9',\n",
    "            'upgrade-insecure-requests': '1',\n",
    "            'user-agent':'Mozilla/5.0 (Windows NT 6.1; WOW64) AppleWebKit/537.36 (KHTML, like Gecko) Chrome/86.0.4240.193 Safari/537.36'\n",
    "        }\n",
    "    def get_Bdfy(self,url):\n",
    "        res=requests.get(url=url,headers=self.header)\n",
    "        html=res.content.decode(res.encoding)\n",
    "        parse_html=etree.HTML(html)\n",
    "        result=parse_html.xpath(\"//p[@class='ordinary-output target-output clearfix']//span/text()\")\n",
    "        print(result)\n",
    "        \n",
    "    def main(self):\n",
    "        url=self.url.format('Hello')\n",
    "        self.get_Bdfy(url)\n",
    "\n",
    "if __name__=='__main__':\n",
    "    start_bdfy=Bdfanyi()\n",
    "    start_bdfy.main()"
   ]
  },
  {
   "cell_type": "code",
   "execution_count": null,
   "metadata": {
    "code_folding": [
     0
    ]
   },
   "outputs": [],
   "source": [
    "# （二）百度翻译 sign参数 js解密：\n",
    "import execjs\n",
    "inputDate='hello'\n",
    "with open(r'C:\\Users\\hp\\Desktop\\bdfy.txt','r') as f:\n",
    "    jsFunction=f.read()\n",
    "sign=execjs.compile(jsFunction).call('e',inputDate)\n",
    "print(sign)\n",
    "    "
   ]
  },
  {
   "cell_type": "code",
   "execution_count": null,
   "metadata": {
    "code_folding": [
     0
    ]
   },
   "outputs": [],
   "source": [
    "# （二）百度翻译:\n",
    "import requests\n",
    "import re\n",
    "import execjs\n",
    "import json\n",
    "\n",
    "with open(r'C:\\Users\\hp\\Desktop\\bdfy.txt','r') as f:\n",
    "    jsFunction=f.read()\n",
    "jsFunc=execjs.compile(jsFunction)\n",
    "\n",
    "class BDfy():\n",
    "    def __init__(self):\n",
    "        self.tokenUrl=r'https://fanyi.baidu.com/?aldtype=16047#en/zh/{}'\n",
    "        self.tokenHeader={\n",
    "            'accept-encoding':'gzip, deflate, br',\n",
    "            'accept-language': 'zh-CN,zh;q=0.9',\n",
    "            'referer':'https://fanyi.baidu.com/?aldtype=16047',\n",
    "            'upgrade-insecure-requests': '1',\n",
    "            'user-agent':'Mozilla/5.0 (Windows NT 6.1; WOW64) AppleWebKit/537.36 (KHTML, like Gecko) Chrome/86.0.4240.193 Safari/537.36',\n",
    "        }\n",
    "        self.transUrl='https://fanyi.baidu.com/v2transapi'\n",
    "        \n",
    "    def get_token(self,url):  # 获取 postdata 参数 token \n",
    "        res=requests.get(url=self.tokenUrl,headers=self.tokenHeader)\n",
    "#         print(res.cookies)\n",
    "        html=res.content.decode(res.encoding)\n",
    "        result=re.compile(\"token: '(.{32})\",re.S).search(html)\n",
    "        token=result.groups()[0]\n",
    "        return token\n",
    "    def get_trans(self,inputData,token,sign):\n",
    "        data={\n",
    "            'from': 'en',\n",
    "            'to': 'zh',\n",
    "            'query': inputData,\n",
    "            'transtype': 'enter',\n",
    "            'simple_means_flag': '3',\n",
    "            'sign': sign,\n",
    "            'token':token,\n",
    "            'domain': 'common',\n",
    "        }\n",
    "        print(data)\n",
    "        res=requests.post(url=self.transUrl,headers=self.tokenHeader,data=data)\n",
    "        jsonResult=json.loads(res.text)\n",
    "        print(res.text)\n",
    "    def main(self):\n",
    "        inputData=input('请输入需要百度翻译的内容：')\n",
    "        url=self.tokenUrl.format(inputData)\n",
    "        token=self.get_token(url)    # 获取 postdata 参数 token \n",
    "        sign=jsFunc.call('e',inputData)\n",
    "        print('token=',token)\n",
    "        print('sign=',sign)\n",
    "        self.get_trans(inputData,token,sign)\n",
    "\n",
    "if __name__=='__main__':\n",
    "    bdfy=BDfy()\n",
    "    bdfy.main()"
   ]
  },
  {
   "cell_type": "code",
   "execution_count": null,
   "metadata": {
    "code_folding": [
     0
    ]
   },
   "outputs": [],
   "source": [
    "# 【2】Js2Py 库： 不需要依赖别的环境，可以独立运行Js文件，运行速度会稍微慢\n",
    "#  pip install Js2Py\n",
    "import execjs\n",
    "import js2py\n",
    "import re\n",
    "# ——————————————————————————————  常规操作\n",
    "# print(js2py.eval_js('var a=\"hello\";console.log(a)'))\n",
    "# —————————————————————————————— 循环遍历\n",
    "aa=js2py.eval_js(\"\"\"\n",
    "    for(var i=1;i<6;i++){\n",
    "        console.log(i);\n",
    "    }\n",
    "\"\"\")\n",
    "print(aa)\n",
    "\n",
    "# —————————————————————————————— 读取Js文件\n",
    "# 我们可以把JS文件写入文件中，以便我们进行调用，如下：\n",
    "# function f(aa){\n",
    "#     if(aa>11){\n",
    "#         console.log('OK')\n",
    "\n",
    "#     }else{\n",
    "#         console.log('Fail')\n",
    "#   }\n",
    "# }\n",
    "# ———————————\n",
    "# with open(r'C:\\Users\\hp\\Desktop\\python_js.js','r') as f:\n",
    "#     aa=js2py.eval_js(f.read())\n",
    "#     print(aa(12))\n"
   ]
  }
 ],
 "metadata": {
  "kernelspec": {
   "display_name": "Python 3",
   "language": "python",
   "name": "python3"
  },
  "language_info": {
   "codemirror_mode": {
    "name": "ipython",
    "version": 3
   },
   "file_extension": ".py",
   "mimetype": "text/x-python",
   "name": "python",
   "nbconvert_exporter": "python",
   "pygments_lexer": "ipython3",
   "version": "3.7.7"
  }
 },
 "nbformat": 4,
 "nbformat_minor": 4
}
