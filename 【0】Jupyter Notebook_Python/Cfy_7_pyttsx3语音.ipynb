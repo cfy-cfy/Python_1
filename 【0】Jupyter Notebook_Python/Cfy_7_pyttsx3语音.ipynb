{
 "cells": [
  {
   "cell_type": "code",
   "execution_count": 11,
   "metadata": {
    "code_folding": [
     0
    ]
   },
   "outputs": [],
   "source": [
    "# 【0】pyttsx3 语音：pip install pyttsx3\n",
    "import pyttsx3\n",
    "\n",
    "word = pyttsx3.init()\n",
    "# word.say('I am a big big girl , in a big big world ! ')\n",
    "word.say('床前明月光，疑是地上霜，举头望明月，低头思故乡')\n",
    "word.runAndWait()"
   ]
  }
 ],
 "metadata": {
  "kernelspec": {
   "display_name": "Python 3",
   "language": "python",
   "name": "python3"
  },
  "language_info": {
   "codemirror_mode": {
    "name": "ipython",
    "version": 3
   },
   "file_extension": ".py",
   "mimetype": "text/x-python",
   "name": "python",
   "nbconvert_exporter": "python",
   "pygments_lexer": "ipython3",
   "version": "3.7.7"
  }
 },
 "nbformat": 4,
 "nbformat_minor": 4
}
