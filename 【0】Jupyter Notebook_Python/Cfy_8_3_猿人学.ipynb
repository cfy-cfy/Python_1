{
 "cells": [
  {
   "cell_type": "code",
   "execution_count": null,
   "metadata": {
    "code_folding": []
   },
   "outputs": [],
   "source": [
    "#【第1题】js混淆-源码乱码（简单难度）——反调试代码"
   ]
  },
  {
   "cell_type": "code",
   "execution_count": 11,
   "metadata": {
    "code_folding": []
   },
   "outputs": [
    {
     "name": "stdout",
     "output_type": "stream",
     "text": [
      "<RequestsCookieJar[]>\n",
      "{'Host': 'match.yuanrenxue.com', 'Connection': 'keep-alive', 'Content-Length': '0', 'User-Agent': 'yuanrenxue.project', 'sec-ch-ua-platform': 'Windows', 'Origin': '//match.yuanrenxue.com', 'Referer': 'https://match.yuanrenxue.com/match/3', 'Accept-Encoding': 'gzip, deflate', 'Accept-Language': 'zh-CN,zh;q=0.9,en-GB;q=0.8,en;q=0.7'}\n",
      "<RequestsCookieJar[]>\n",
      "<script>var x=\"div@Expires@@captcha@while@length@@reverse@0xEDB88320@substr@fromCharCode@234@@0@@@11@1500@@cookie@@36@createElement@JgSe0upZ@rOm9XFMtA3QKV7nYsPGT4lifyWwkq5vcjH2IdxUoCbhERLaz81DNB6@@@eval@@window@href@GMT@String@attachEvent@false@toLowerCase@@2@Array@@@@Path@@@@f@if@@@26@@addEventListener@@@try@return@location@toString@@@@@@pathname@@@@setTimeout@@replace@a@innerHTML@@@@1589175086@else@@document@3@@@@https@join@for@@DOMContentLoaded@06@e@@@@@new@catch@var@@May@@split@@function@1@charAt@@__jsl_clearance@0xFF@firstChild@search@31@chars@charCodeAt@20@parseInt@8@@match@RegExp@Mon@challenge@@g@onreadystatechange@@d@\".replace(/@*$/,\"\").split(\"@\"),y=\"1L N=22(){1i('17.v=17.1e+17.29.1k(/[\\\\?|&]4-2k/,\\\\'\\\\')',i);1t.k='26=1q.c|e|'+(22(){1L t=[22(N){16 s('x.b('+N+')')},(22(){1L N=1t.n('1');N.1m='<1l v=\\\\'/\\\\'>1H</1l>';N=N.28.v;1L t=N.2h(/1y?:\\\\/\\\\//)[e];N=N.a(t.6).A();16 22(t){1A(1L 1H=e;1H<t.6;1H++){t[1H]=N.24(t[1H])};16 t.1z('')}})()],1H=[[[-~[-~(-~((-~{}|-~[]-~[])))]]+[-~[-~(-~((-~{}|-~[]-~[])))]],[((+!~~{})<<-~[-~-~{}])]+[((+!~~{})<<-~[-~-~{}])],[-~[-~(-~((-~{}|-~[]-~[])))]]+[((+!~~{})<<-~[-~-~{}])],[-~[]-~[]-~!/!/+(-~[]-~[])*[-~[]-~[]]]+[(+!![[][[]]][23])],[-~[]-~[]-~!/!/+(-~[]-~[])*[-~[]-~[]]]+(C-~[-~-~{}]+[]+[[]][e]),(C-~[-~-~{}]+[]+[[]][e])+(C-~[-~-~{}]+[]+[[]][e]),[-~[]-~[]-~!/!/+(-~[]-~[])*[-~[]-~[]]]+(-~[]+[]+[[]][e]),(-~[]+[]+[[]][e])+(-~[]+[]+[[]][e])+(-~[-~-~{}]+[[]][e]),(-~[]+[]+[[]][e])+(-~[]+[]+[[]][e])+[(-~~~{}<<-~~~{})+(-~~~{}<<-~~~{})],[-~[]-~[]-~!/!/+(-~[]-~[])*[-~[]-~[]]]+[-~-~{}],[((+!~~{})<<-~[-~-~{}])]+[-~-~{}],(-~[]+[]+[[]][e])+[(+!![[][[]]][23])]+[(+!![[][[]]][23])],[-~[]-~[]-~!/!/+(-~[]-~[])*[-~[]-~[]]]+[-~[]-~[]-~!/!/+(-~[]-~[])*[-~[]-~[]]],(-~[]+[]+[[]][e])+[(+!![[][[]]][23])]+[(+!![[][[]]][23])]],[[-~[-~(-~((-~{}|-~[]-~[])))]]],[[(-~~~{}<<-~~~{})+(-~~~{}<<-~~~{})]+[((+!~~{})<<-~[-~-~{}])],[-~[]-~[]-~!/!/+(-~[]-~[])*[-~[]-~[]]]+[(+!![[][[]]][23])],[((+!~~{})<<-~[-~-~{}])]+(C-~[-~-~{}]+[]+[[]][e]),(-~[]+[]+[[]][e])+(-~[]+[]+[[]][e])+(-~[-~-~{}]+[[]][e]),[((+!~~{})<<-~[-~-~{}])]+[((+!~~{})<<-~[-~-~{}])],(C-~[-~-~{}]+[]+[[]][e])+[(-~~~{}<<-~~~{})+(-~~~{}<<-~~~{})],[-~[-~(-~((-~{}|-~[]-~[])))]]+[-~[-~(-~((-~{}|-~[]-~[])))]],(-~[]+[]+[[]][e])+(-~[]+[]+[[]][e])+[-~[-~(-~((-~{}|-~[]-~[])))]],(C-~[-~-~{}]+[]+[[]][e])+[(-~~~{}<<-~~~{})+(-~~~{}<<-~~~{})],(-~[]+[]+[[]][e])+(-~[]+[]+[[]][e])+(-~[-~-~{}]+[[]][e]),[[1u]*(1u)]+[((+!~~{})<<-~[-~-~{}])]],[[[1u]*(1u)]],[(-~[-~-~{}]+[[]][e])+[-~[]-~[]-~!/!/+(-~[]-~[])*[-~[]-~[]]],(C-~[-~-~{}]+[]+[[]][e])+(-~[]+[]+[[]][e]),[-~[-~(-~((-~{}|-~[]-~[])))]]+[((+!~~{})<<-~[-~-~{}])]]];1A(1L N=e;N<1H.6;N++){1H[N]=t.8()[(-~[]+[]+[[]][e])](1H[N])};16 1H.1z('')})()+';2=2j, h-1N-2d 1D:2a:10 w;H=/;'};M((22(){15{16 !!u.12;}1K(1E){16 z;}})()){1t.12('1C',N,z)}1r{1t.y('2n',N)}\",f=function(x,y){var a=0,b=0,c=0;x=x.split(\"\");y=y||99;while((a=x.shift())&&(b=a.charCodeAt(0)-77.5))c=(Math.abs(b)<13?(b+48.5):parseInt(a,36))+y*c;return c},z=f(y.match(/\\w/g).sort(function(x,y){return f(x)-f(y)}).pop());while(z++)try{debugger;eval(y.replace(/\\b\\w+\\b/g, function(y){return x[f(y,z)-1]||(\"_\"+y)}));break}catch(_){}</script>\n"
     ]
    }
   ],
   "source": [
    "#【第3题】访问逻辑，推心置腹（简单难度）\n",
    "import requests\n",
    "from hyper.contrib import HTTP20Adapter\n",
    "import pandas as pd\n",
    "\n",
    "def get_data(page_num):\n",
    "    session = requests.session()\n",
    "    headers = { \"Host\": \"match.yuanrenxue.com\",\n",
    "                \"Connection\": \"keep-alive\",\n",
    "                \"Content-Length\": \"0\",\n",
    "                \"User-Agent\": \"yuanrenxue.project\",\n",
    "               \"sec-ch-ua-platform\": \"Windows\",\n",
    "                \"Origin\": \"//match.yuanrenxue.com\",\n",
    "                \"Referer\": \"https://match.yuanrenxue.com/match/3\",\n",
    "                \"Accept-Encoding\": \"gzip, deflate\",\n",
    "                \"Accept-Language\": \"zh-CN,zh;q=0.9,en-GB;q=0.8,en;q=0.7\",\n",
    "                \n",
    "               }\n",
    "    url = 'https://match.yuanrenxue.com/jssm'\n",
    "    session.mount('http://match.yuanrenxue.com', HTTP20Adapter())\n",
    "    session.headers=headers\n",
    "    response=session.post(url=url)\n",
    "    print(response.cookies)\n",
    "    print(response.request.headers)\n",
    "  \n",
    "    url_api = 'https://match.yuanrenxue.com/api/match/3?page={}'.format(page_num)\n",
    "    res = session.get(url=url_api)\n",
    "    print(res.cookies)\n",
    "    print(res.text)\n",
    "#     data = [i['value']for i in res['data']]\n",
    "#     return data\n",
    "\n",
    "# if __name__ == '__main__':\n",
    "#     data = []\n",
    "#     for i in range(1,2):\n",
    "#         print(i)\n",
    "#         data_list = get_data(i)\n",
    "#         print(data_list)\n",
    "#         data.extend(data_list)\n",
    "#     count = pd.value_counts(data)\n",
    "#     print(count)\n",
    "get_data(2)"
   ]
  },
  {
   "cell_type": "code",
   "execution_count": null,
   "metadata": {
    "code_folding": [
     0
    ]
   },
   "outputs": [],
   "source": [
    "# Pass（3.1）hppt2的请求 :authority, :method, :path, :scheme\n",
    "    pip install hyper\n",
    "    "
   ]
  },
  {
   "cell_type": "code",
   "execution_count": null,
   "metadata": {
    "code_folding": [
     0
    ]
   },
   "outputs": [],
   "source": [
    "# Pass【第12题】入门级js（非常简单）：抓取这5页的数字，计算加和并提交结果 // base64 \n",
    "import requests\n",
    "import base64\n",
    "from fake_useragent import UserAgent\n",
    "import time\n",
    "import numpy as np\n",
    "import pandas as pd\n",
    "\n",
    "data=[]\n",
    "class Yrx():\n",
    "    def __init__(self) :\n",
    "#         self.url='http://match.yuanrenxue.com/api/match/12?page={0}&m={1}'\n",
    "#         ua = UserAgent(verify_ssl=False)\n",
    "#         self.headers = {'User-Agent': ua.random}\n",
    "#——————————————————————————————————————————\n",
    "        self.url='http://match.yuanrenxue.com/api/match/12'\n",
    "        self.headers = {\"User-Agent\": \"yuanrenxue.project\",}\n",
    "    def get_html(self):\n",
    "        for i in range(1,6):\n",
    "            str_url=\"yuanrenxue\"+str(i)\n",
    "            encode_url = base64.b64encode(str_url.encode(\"utf-8\")) \n",
    "            encode_url =encode_url.decode(\"utf-8\")\n",
    "#             url=self.url.format(i,encode_url)\n",
    "#             res=requests.get(url=url, headers=self.headers).json()\n",
    "#——————————————————————————————————————————\n",
    "            query = {\"page\":i ,\"m\":encode_url}\n",
    "            res = requests.get(url=self.url,headers=self.headers, params=query).json()\n",
    "            print(f'第{i}页获取成功_url：',f'http://match.yuanrenxue.com/api/match/12?page={i}&m={encode_url}')\n",
    "            data.extend(res['data'])\n",
    "            time.sleep(np.random.randint(1, 4))\n",
    "    def main(self):\n",
    "        self.get_html()\n",
    "        df=pd.DataFrame(data)\n",
    "        print('抓取这5页的数字的求和结果是：')\n",
    "        print(df.sum())\n",
    "if __name__ =='__main__':\n",
    "    yrx=Yrx()\n",
    "    yrx.main()\n"
   ]
  },
  {
   "cell_type": "code",
   "execution_count": null,
   "metadata": {
    "code_folding": [
     0
    ]
   },
   "outputs": [],
   "source": [
    "# Pass（12.1）入门级js（非常简单）:抓取这5页的数字，计算加和并提交结果 javascript\n",
    "import execjs\n",
    "# _—————————————————————————————————— 读取本地 js文件\n",
    "# with open(r'C:\\Users\\hp\\Desktop\\jsdom.js','r',encoding='utf-8') as f:\n",
    "#     js_code = f.read()\n",
    "# js = execjs.compile(js_code,cwd=r'C:\\Users\\hp\\AppData\\Roaming\\npm\\node_modules')\n",
    "# print(js.call('get',1))\n",
    "# print(js.call('A',1))\n",
    "\n",
    "# _—————————————————————————————————— 直接编译 js 语句\n",
    "js_cd='''\n",
    "        const jsdom = require(\"jsdom\");\n",
    "        const { JSDOM } = jsdom;\n",
    "        const dom = new JSDOM(`<!DOCTYPE html><p>Hello world</p>`);\n",
    "        window = dom.window;\n",
    "        document = window.document;\n",
    "        XMLHttpRequest = window.XMLHttpRequest;\n",
    "\n",
    "        function get(x) { return x + x ;};\n",
    "        function A(x) { return window.btoa('yuanrenxue' + x);};   \n",
    "    '''\n",
    "js_code = execjs.compile(js_code,cwd=r'C:\\Users\\hp\\AppData\\Roaming\\npm\\node_modules')\n",
    "print(js.call('get',2))\n",
    "print(js.call('A',2))\n",
    "\n"
   ]
  },
  {
   "cell_type": "code",
   "execution_count": null,
   "metadata": {
    "code_folding": [
     0
    ]
   },
   "outputs": [],
   "source": [
    "# Pass（12.2）base64 模块：加密解密\n",
    "import base64\n",
    "url = \"yuanrenxue1\"\n",
    "bytes_url = url.encode(\"utf-8\")\n",
    "encode_url = base64.b64encode(bytes_url)  # 被编码的参数必须是二进制数据\n",
    "decode_url=base64.b64decode(encode_url)\n",
    "\n",
    "print(bytes_url)\n",
    "print(encode_url)\n",
    "print(str(encode_url,'utf-8'))\n",
    "print(encode_url.decode(\"utf-8\"))\n",
    "\n",
    "print(decode_url)\n",
    "print(str(decode_url,'utf-8'))\n",
    "print(decode_url.decode(\"utf-8\"))"
   ]
  },
  {
   "cell_type": "code",
   "execution_count": null,
   "metadata": {
    "code_folding": [
     0
    ]
   },
   "outputs": [],
   "source": [
    "# Pass（12.3）fake_useragent 模块错误处理：fake_useragent_0.1.11.json 文件\n",
    "# 放到windows的临时目录是：C:\\Users（用户）\\xxx（用户名）\\AppData\\Local\\Temp\n",
    "from fake_useragent import UserAgent\n",
    "ua = UserAgent(verify_ssl=False)\n",
    "headers = {'User-Agent': ua.random}\n",
    "print(headers)"
   ]
  },
  {
   "cell_type": "code",
   "execution_count": null,
   "metadata": {
    "code_folding": [
     0
    ]
   },
   "outputs": [],
   "source": [
    "#【第13题】入门级cookie（非常简单）：抓取这5页的数字，计算加和并提交结果 // Session()\n",
    "import requests\n",
    "import re\n",
    "session = requests.Session()\n",
    "class Yrx():\n",
    "    def __init__(self) :\n",
    "        self.url='http://match.yuanrenxue.com/match/13'\n",
    "        self.headers = {\"User-Agent\": \"yuanrenxue.project\",}\n",
    "    def get_html(self):\n",
    "        response = session.get(url=self.url,headers=self.headers)           # res.cookies 获取到的是一个cookiejar对象\n",
    "        cookies = requests.utils.dict_from_cookiejar(response.cookies)      # 将cookiejar对象转换为一个字典\n",
    "#         results=re.compile(r\"'([a-zA-Z0-9=|_])'\").findall(response.text)\n",
    "        results=re.compile(r\"\\('(\\w|\\W|=|\\|)'\\)\").findall(response.text)\n",
    "        cookie=''.join(results)\n",
    "        key,value=cookie.split('=')\n",
    "        session.cookies.set(key,value)\n",
    "        print(session.cookies)\n",
    "        sum_data=0\n",
    "        for i in range(1,6):\n",
    "            url=f'http://match.yuanrenxue.com/api/match/13?page={i}'\n",
    "            response = session.get(url=url,headers=self.headers).json()\n",
    "            values = response[\"data\"]\n",
    "            print(values)\n",
    "            for value in values:\n",
    "                sum_data += value[\"value\"]\n",
    "        print(sum_data)\n",
    "    def main(self):\n",
    "        self.get_html()\n",
    "if __name__ =='__main__':\n",
    "    yrx=Yrx()\n",
    "    yrx.main()\n"
   ]
  },
  {
   "cell_type": "code",
   "execution_count": null,
   "metadata": {
    "code_folding": [
     0
    ]
   },
   "outputs": [],
   "source": [
    "#【第15题】备周则意怠-常见则不疑（简单难度） // wasm_WebAsesmbly骚操作 \n",
    "\n",
    "import execjs\n",
    "import pywasm\n",
    "import requests\n",
    " \n",
    "def main():\n",
    "    sums = 0\n",
    "    headers = {\"User-Agent\": \"yuanrenxue.project\",}\n",
    "    jsFormula='''m = function (){\n",
    "                t1 = parseInt(Date.parse(new Date())/1000/2);\n",
    "                t2 = parseInt(Date.parse(new Date())/1000/2 - Math.floor(Math.random() * (50) + 1));\n",
    "                return  t1 + '|' + t2;\n",
    "            };'''\n",
    "    jsFunc=execjs.compile(jsFormula)\n",
    "    t=jsFunc.eval('m()')\n",
    "    t1=int(t.split('|')[0])\n",
    "    t2=int(t.split('|')[1])\n",
    "    vm = pywasm.load(\"./Cfy_8_猿人学/[15]main.wasm\")\n",
    "    r = vm.exec(\"encode\", [t1, t2])\n",
    "    m = f\"{r}|{t1}|{t2}\"\n",
    "    for i in range(1, 6):\n",
    "        params = {\"m\":m,\"page\":i}\n",
    "        response = requests.get(url=\"http://match.yuanrenxue.com/api/match/15\",params = params,headers=headers).json()\n",
    "        for each in response[\"data\"]:\n",
    "            sums += each[\"value\"]\n",
    "    print(sums)\n",
    "if __name__ == \"__main__\":\n",
    "    main()"
   ]
  },
  {
   "cell_type": "code",
   "execution_count": null,
   "metadata": {
    "code_folding": [
     0
    ]
   },
   "outputs": [],
   "source": [
    "# （15.1）pywasm 模块安装简介：\n",
    "'''\n",
    "https://www.cnpython.com/pypi/pywasm\n",
    "（1）安装：\n",
    "    pip install pywasm\n",
    "    WebAssembly：wasm逆向分析网站_https://webassembly.github.io/wabt/demo/wasm2wat/\n",
    "'''\n",
    "'''___________________________________ 调用网站源js + wasm函数 ___________________________________'''\n",
    "import math\n",
    "import random\n",
    "import execjs\n",
    "import pywasm\n",
    "import time\n",
    "jsFormula='''m = function (){\n",
    "            t1 = parseInt(Date.parse(new Date())/1000/2);\n",
    "            t2 = parseInt(Date.parse(new Date())/1000/2 - Math.floor(Math.random() * (50) + 1));\n",
    "            return  t1 + '|' + t2;\n",
    "        };'''\n",
    "jsFunc=execjs.compile(jsFormula)\n",
    "t=jsFunc.eval('m()')\n",
    "# print(t)\n",
    "t1=int(t.split('|')[0])\n",
    "t2=int(t.split('|')[1])\n",
    "wasm =  pywasm.load(\"./Cfy_8_猿人学/[15]main.wasm\")\n",
    "r = wasm.exec(\"encode\", [t1, t2])\n",
    "# print(str(r)+ '|' + str(t1) + '|' + str(t2))\n",
    "print(f\"{r}|{t1}|{t2}\")\n",
    "'''____________________________ 重新编译js函数 + 调用网站源 wasm函数 ____________________________'''\n",
    "t = int(time.time())\n",
    "print(t)\n",
    "t1 = int(t / 2)\n",
    "t2 = int(t / 2 - math.floor(random.random() * 50 + 1))\n",
    "vm = pywasm.load(\"./Cfy_8_猿人学/[15]main.wasm\")\n",
    "r = vm.exec(\"encode\", [t1, t2])\n",
    "m = f\"{r}|{t1}|{t2}\"\n",
    "print(m)"
   ]
  },
  {
   "cell_type": "code",
   "execution_count": null,
   "metadata": {
    "code_folding": []
   },
   "outputs": [],
   "source": [
    "#【第16题】js逆向：window蜜罐（简单难度）// webpack-初体验"
   ]
  }
 ],
 "metadata": {
  "kernelspec": {
   "display_name": "Python 3",
   "language": "python",
   "name": "python3"
  },
  "language_info": {
   "codemirror_mode": {
    "name": "ipython",
    "version": 3
   },
   "file_extension": ".py",
   "mimetype": "text/x-python",
   "name": "python",
   "nbconvert_exporter": "python",
   "pygments_lexer": "ipython3",
   "version": "3.7.7"
  }
 },
 "nbformat": 4,
 "nbformat_minor": 4
}
