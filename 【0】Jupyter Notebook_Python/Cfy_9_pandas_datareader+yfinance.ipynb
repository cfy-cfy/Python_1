{
 "cells": [
  {
   "cell_type": "code",
   "execution_count": null,
   "metadata": {
    "code_folding": [
     0
    ]
   },
   "outputs": [],
   "source": [
    "# （1）简介安装 pandas_datareader + fix_yahoo_finance\n",
    "'''\n",
    "https://www.pythonheidong.com/blog/article/506127/761b8148666c6be1571e/\n",
    "\n",
    "pip install pandas_datareader\n",
    "\n",
    "最近在调用Yahoo的数据是发现因为一些收购的计划，所以雅虎的导入也发生了改变\n",
    "将—— pip install fix_yahoo_finance --upgrade --no-cache-dir\n",
    "改为—— pip install yfinance --upgrade --no-cache-dir\n",
    "\n",
    "将 import fix_yahoo_finance as yf\n",
    "改为 import yfinance as yf\n",
    "————————————————————————————————————\n",
    "（1）Pandas库提供了专门从财经网站获取金融数据的API接口，可作为量化交易股票数据获取的另一种途径，\n",
    "该接口在urllib3库基础上实现了以客户端身份访问网站的股票数据。需要注意的是目前模块已经迁徙到pandas-datareader包中，\n",
    "因此导入模块时需要由import pandas.io.data as web更改为import pandas_datareader.data as web。\n",
    "\n",
    "（2）DataReader方法介绍：\n",
    "查看Pandas的操作文档可以发现，第一个参数为股票代码，苹果公司的代码为\"AAPL\"，\n",
    "国内股市采用的输入方式“股票代码”+“对应股市”，上证股票在股票代码后面加上“.SS”，\n",
    "深圳股票在股票代码后面加上“.SZ”。\n",
    "DataReader可从多个金融网站获取到股票数据，如“Yahoo! Finance” 、“Google Finance”等，\n",
    "这里以Yahoo为例。第三、四个参数为股票数据的起始时间断。返回的数据格式为DataFrame。\n",
    "'''"
   ]
  },
  {
   "cell_type": "code",
   "execution_count": null,
   "metadata": {
    "code_folding": [
     0
    ]
   },
   "outputs": [],
   "source": [
    "# （2）获取股票财经数据——会受网络的影响有时错误\n",
    "from datetime import date, timedelta\n",
    "import yfinance as yf\n",
    "from pandas_datareader import data as pdr\n",
    "\n",
    "'''//////_______________ 指定正确的日期范围 ____________________////// '''\n",
    "start = date(2021,8, 1)\n",
    "end = date(2021, 8, 15)\n",
    "'''________________________ 国外股票 ___________________________________'''\n",
    "# a = yf.download('AAPL', start=start, end=end)\n",
    "# a = pdr.get_data_yahoo('AAPL', start=start, end=end)\n",
    "# display(a.head())\n",
    "'''__________________________  上证  _________________________________'''\n",
    "# a = yf.download('601288.SS', start=start, end=end)\n",
    "a = pdr.get_data_yahoo('601288.SS', start=start, end=end)\n",
    "display(a.head())\n",
    "'''___________________________  深证  ________________________________'''\n",
    "# a = yf.download('000513.SZ', start=start, end=end)\n",
    "# a = pdr.get_data_yahoo('000513.SZ', start=start, end=end)\n",
    "# display(a.head())\n",
    "\n",
    "'''//////_______________ 根据您的日期范围 _____________________//////'''\n",
    "# today = date.today()\n",
    "# yesterday = today - timedelta(7)\n",
    "# a = yf.download('000513.SZ', start=yesterday, end=today)\n",
    "# a = pdr.get_data_yahoo('000513.SZ', start=yesterday, end=today)\n",
    "# display(a.head())"
   ]
  },
  {
   "cell_type": "code",
   "execution_count": 27,
   "metadata": {},
   "outputs": [
    {
     "name": "stdout",
     "output_type": "stream",
     "text": [
      "2006-10-01\n"
     ]
    }
   ],
   "source": []
  }
 ],
 "metadata": {
  "kernelspec": {
   "display_name": "Python 3",
   "language": "python",
   "name": "python3"
  },
  "language_info": {
   "codemirror_mode": {
    "name": "ipython",
    "version": 3
   },
   "file_extension": ".py",
   "mimetype": "text/x-python",
   "name": "python",
   "nbconvert_exporter": "python",
   "pygments_lexer": "ipython3",
   "version": "3.7.7"
  }
 },
 "nbformat": 4,
 "nbformat_minor": 4
}
