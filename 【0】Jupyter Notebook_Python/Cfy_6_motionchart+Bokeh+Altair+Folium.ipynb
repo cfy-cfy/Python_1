{
 "cells": [
  {
   "cell_type": "code",
   "execution_count": null,
   "metadata": {
    "code_folding": [
     0
    ]
   },
   "outputs": [],
   "source": [
    "# 【0】motionchart 安装+使用：\n",
    "（1）安装：\n",
    "    pip install motionchart\n",
    "\n",
    "（2）motionchart有4种输出方式：\n",
    "    mc.to_notebook()   #在jupyter中显示\n",
    "    mc.to_browser()    #在浏览器中显示\n",
    "    mc.to_clipboard()  #复制到鼠标\n",
    "    mc.to_file()       #保存成html文件\n",
    "（3）MotionChart的参数介绍如下：\n",
    "        df：指定名称的pandas dataframe，用于创建运动图,默认是df\n",
    "        title：图像标题     \n",
    "        key:“运动”变量的列号(不需要时间)\n",
    "        x:x轴\n",
    "        y:y轴\n",
    "        size:该变量用于确定圆的大小\n",
    "        color:该变量用于确定圆的颜色\n",
    "        category: 该变量用于确定圆的种类\n",
    "        play:决定立即开始运动或者你必须先点击播放\n",
    "        loop:决定立即开始运动或者你必须先点击播放\n",
    "        width:宽度像素图,默认900\n",
    "        height:高度图的像素,默认700\n",
    "        varLabels:列的标签列表(默认是dataframe的列标题)"
   ]
  },
  {
   "cell_type": "code",
   "execution_count": null,
   "metadata": {
    "code_folding": [
     0
    ]
   },
   "outputs": [],
   "source": [
    "# 【1】MotionChart实例：\n",
    "from motionchart.motionchart import MotionChart\n",
    "import numpy as np\n",
    "import pandas as pd\n",
    "data={'年份':np.random.randint(2000,2021,10),\n",
    "      '商品':['猪肉','白菜','苹果','白菜','苹果','猪肉','白菜','猪肉','苹果','白菜'],\n",
    "     '进价':np.random.randint(10,15,10),\n",
    "     '售价':np.random.randint(15,20,10),\n",
    "     '售量':np.random.randint(100,150,10)}\n",
    "data=pd.DataFrame(data)\n",
    "mc = MotionChart(df = data,\n",
    "              title = \"商品价格与售量变化图\",\n",
    "              key = '年份',\n",
    "              x = '售价',\n",
    "              y = '售量',\n",
    "              size = '售量',\n",
    "              category = '商品',)\n",
    "mc.to_notebook()"
   ]
  },
  {
   "cell_type": "code",
   "execution_count": null,
   "metadata": {},
   "outputs": [],
   "source": []
  }
 ],
 "metadata": {
  "kernelspec": {
   "display_name": "Python 3",
   "language": "python",
   "name": "python3"
  },
  "language_info": {
   "codemirror_mode": {
    "name": "ipython",
    "version": 3
   },
   "file_extension": ".py",
   "mimetype": "text/x-python",
   "name": "python",
   "nbconvert_exporter": "python",
   "pygments_lexer": "ipython3",
   "version": "3.7.7"
  }
 },
 "nbformat": 4,
 "nbformat_minor": 4
}
