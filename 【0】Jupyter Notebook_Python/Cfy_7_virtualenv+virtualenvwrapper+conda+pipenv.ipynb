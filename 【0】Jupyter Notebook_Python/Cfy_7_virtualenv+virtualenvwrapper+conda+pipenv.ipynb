{
 "cells": [
  {
   "cell_type": "code",
   "execution_count": null,
   "metadata": {},
   "outputs": [],
   "source": [
    "# 【-】 常用命令：\n",
    "1.查看包\n",
    "    conda list查看安装了哪些包\n",
    "    conda env list查看有哪些虚拟环境\n",
    "    conda -V查看conda的版本\n"
   ]
  },
  {
   "cell_type": "code",
   "execution_count": null,
   "metadata": {
    "code_folding": [
     0
    ]
   },
   "outputs": [],
   "source": [
    "# 【0】virtualenv 安装使用：只是指定创建不同python版本的虚拟环境，前提是你的电脑上已经安装了不同版本的python\n",
    "'''\n",
    " pip install virtualenv\n",
    "1.创建虚拟环境目录\n",
    "    mkdir myproject\n",
    "    cd myproject\n",
    "2. 创建运行环境\n",
    "    virtualenv venv\n",
    "    virtualenv --system-site-packages myenv\n",
    "    注： 1）参数：--system-site-packages （可省略）复制已经安装到系统Python环境中的所有第三方包，\n",
    "        也可以省略从而得到一个“纯净”的运行环境。\n",
    "3. 激活环境：每次开启之前要去虚拟环境所在目录下activate，这就需要我们记住每个虚拟环境所在的目录。\n",
    "    > venv\\Scripts\\activate.bat\n",
    "4. 退出环境\n",
    "    > deactivate 或\n",
    "    > .\\Scripts\\deactivate.bat\n",
    "5. 删除环境\n",
    "    没有使用virtualenvwrapper前，可以直接删除venv文件夹来删除环境\n",
    "6. 使用环境\n",
    "    进入环境后，一切操作和正常使用python一样 安装包使用pip install 包\n",
    "'''"
   ]
  },
  {
   "cell_type": "code",
   "execution_count": null,
   "metadata": {
    "code_folding": [
     0
    ]
   },
   "outputs": [],
   "source": [
    "# 【0】Virtaulenvwrapper是virtualenv的扩展包，用于更方便管理虚拟环境\n",
    "'''\n",
    "【1】window下使用\n",
    "pip install virtualenvwrapper-win\n",
    "它可以做： - 将所有虚拟环境整合在一个目录下 - 管理（新增，删除，复制）虚拟环境 - 快速切换虚拟环境，安装完成后，\n",
    "    位于 ~/.local/bin。\n",
    "1.配置环境变量：需要对 virtualenvwrapper进行配置。它需要指定一个环境变量，叫做WORKON_HOME，\n",
    "    a.依次点击我的电脑>高级系统设置>环境变量\n",
    "    b.新建有一个变量名叫 WORKON_HOME ，变量值就是我们专门用户存放虚拟环境的文件夹地址，H:\\Anacando\\Pratice _cfy\n",
    "     就会在刚才的WORKON_HOME所设置的目录下创建指定的虚拟环境并且自动进入，退出的话也是使用deactivate。\n",
    "     再次进入的话，就不用向virtualenv那样去寻找路径，直接可以使用命令就可以进入虚拟环境：\n",
    "    c.重新打开一个cmd，不打开是不行的，然后执行 workon ,就可以列出所有的虚拟环境\n",
    "2. 创建虚拟环境\n",
    "    mkvirtualenv --python=python3 venv\n",
    "3. 激活环境\n",
    "    workon #列出虚拟环境列表\n",
    "    workon [venv] #切换环境\n",
    "4. 退出环境\n",
    "    deactivate\n",
    "5. 删除环境\n",
    "    rmvirtualenv venv\n",
    "6. 其他有用指令\n",
    "    pip freeze #查看当前安装库版本\n",
    "    #创建 requirements.txt 文件，其中包含了当前环境中所有包及 各自的版本的简单列表\n",
    "    #保持部署相同，一键安装所有包\n",
    "    pip install -r requirements.txt\n",
    "    pip freeze > requirements.txt \n",
    "    lsvirtualenv    #列举所有的环境\n",
    "    cdvirtualenv    #导航到当前激活的虚拟环境的目录中，相当于pushd 目录\n",
    "    cdsitepackages   # 和上面的类似，直接进入到 site-packages 目录\n",
    "    lssitepackages     #显示 site-packages 目录中的内容\n",
    "——————————————————————————————————————————————\n",
    "【2】linux中可以直接使用：pip install virtualenvwrapper\n",
    "    但是安装之后并不能直接使用，我们需要配置之后才能使用相关命令。\n",
    "    首选找到对应的virtualenvwrapper.sh文件的路径：find / -name virtualenvwrapper.sh\n",
    "1。找到路径之后在/etc/profile中进行配置：\n",
    "    export WORKON_HOME=/root/virtualenvs\n",
    "    source /usr/bin/virtualenvwrapper.sh\n",
    "    之后source /etc/profile就可以使用相关命令来操作虚拟环境了，对应的命令与windows下一致。\n",
    "'''"
   ]
  },
  {
   "cell_type": "code",
   "execution_count": null,
   "metadata": {
    "code_folding": [
     0
    ]
   },
   "outputs": [],
   "source": [
    "# 【1】conda可以直接创建不同python版本的虚拟环境\n",
    "'''\n",
    "2. 创建虚拟环境\n",
    "    创建不同的python版本，直接写出版本号就好了，还可以同时安装想要的库。\n",
    "    # Python 2.7  \n",
    "    $ conda create -n venv python=2.7  \n",
    "    # Python 3.4  \n",
    "    $ conda create -n venv python=3.4  \n",
    "    # Python 3.5  \n",
    "    $ conda create -n venv python=3.5\n",
    "3. 激活虚拟环境\n",
    "    #on windows\n",
    "    activate venv\n",
    "    #on linux\n",
    "    source activate venv\n",
    "4. 退出虚拟环境\n",
    "    #on windows\n",
    "    deactivate\n",
    "    #on linux\n",
    "    source deactivate\n",
    "5. 删除虚拟环境\n",
    "    conda remove --name venv --all\n",
    "6. 其他有用指令\n",
    "    # 列出系统存在虚拟环境\n",
    "    conda info -e\n",
    "    conda env list\n",
    "\n",
    "    # 查看当前环境下已安装的包\n",
    "    conda list\n",
    "\n",
    "    # 查看某个指定环境的已安装包\n",
    "    conda list -n venv\n",
    "\n",
    "    # 查找package信息\n",
    "    conda search numpy\n",
    "\n",
    "    # 安装package\n",
    "    conda install -n venv numpy\n",
    "    # 如果不用-n指定环境名称，则被安装在当前激活环境\n",
    "    # 也可以通过-c指定通过某个channel安装\n",
    "\n",
    "    # 更新package\n",
    "    conda update -n venv numpy\n",
    "\n",
    "    # 删除package\n",
    "    conda remove -n venv numpy\n",
    "    \n",
    "    # 退出\n",
    "    exit()\n",
    "'''"
   ]
  },
  {
   "cell_type": "code",
   "execution_count": null,
   "metadata": {
    "code_folding": [
     0
    ]
   },
   "outputs": [],
   "source": [
    "# 【2】pipenv是Python官方推荐的包管理工具。 它综合了 virtualenv , pip 和 pyenv 三者的功能。\n",
    "'''\n",
    "能够自动为项目创建和管理虚拟环境。pipenv使用 Pipfile 和 Pipfile.lock 来管理依赖包，并且在使用pipenv添加或删除包时，\n",
    "自动维护 Pipfile 文件，同时生成 Pipfile.lock 来锁定安装包的版本和依赖信息，避免构建错误。相比pip需要手动维护\n",
    "requirements.txt 中的安装包和版本，具有很大的进步。\n",
    "\n",
    "1. 安装\n",
    "    pip install pipenv  # 全局安装，如果只想在当前用户模式下安装，可添加参数：--user\n",
    "    pip install --user --upgrade pipenv\n",
    "Pipenv 常用命令\n",
    "    pipenv --two  # 使用当前系统中的Python2 创建环境\n",
    "    pipenv --three  # 使用当前系统中的Python3 创建环境\n",
    "\n",
    "    pipenv --python 3  # 指定使用Python3创建环境\n",
    "    pipenv --python 3.6  # 指定使用Python3.6创建环境\n",
    "    pipenv --python 2.7.14  # 指定使用Python2.7.14创建环境\n",
    "\n",
    "2. 创建虚拟环境\n",
    "    $ cd myproject\n",
    "    $ pipenv install # 安装XXX模块并加入到Pipfile\n",
    "    $ pipenv install requests # 或者直接安装库\n",
    "    如果不存在pipfile,会生成一个pipfile，并且如果有的库添加会自动编辑该文件，不会我们手动更新requirements.txt文件了。\n",
    "3. 激活Pipenv Shell\n",
    "    $ pipenv shell   # 虚拟环境会在 C:\\Users\\hp\\.virtualenvs 目录下默认创建。\n",
    "    （1）如果要自定义：将这个虚环境的文件的位置更改一下：新建一个名为“ WORKON_HOME ”的环境变量，\n",
    "        然后将环境变量的值设置为指定路径（另一种方法，先在命令行下配置环境变量PIPENV_VENV_IN_PROJECT=True）\n",
    "    （2）在使用pipenv install之前先在项目文件夹下创建一个文件.venv，然后再运行pipenv install就可以了\n",
    "    $ python --version\n",
    "Pipenv 常用命令  \n",
    "    pipenv --where  # 显示目录信息\n",
    "    pipenv --venv  # 显示虚拟环境信息\n",
    "    pipenv --py  # 显示Python解释器信息\n",
    "    pipenv graph  # 查看目前安装的库及其依赖\n",
    "    pipenv check  # 检查安全漏洞\n",
    "    pipenv update --outdated  # 查看所有需要更新的依赖项\n",
    "    pipenv update  # 更新所有包的依赖项\n",
    "    pipenv update <包名>  # 更新指定的包的依赖项\n",
    "    pipenv uninstall XXX  # 卸载XXX模块并从Pipfile中移除\n",
    "    pipenv uninstall --all  # 卸载全部包并从Pipfile中移除\n",
    "    pipenv uninstall --all-dev  # 卸载全部开发包并从Pipfile中移除\n",
    "4.退出当前虚拟环境\n",
    "    exit  \n",
    "5.删除虚拟环境  \n",
    "    pipenv --rm  # \n",
    "'''\n"
   ]
  }
 ],
 "metadata": {
  "kernelspec": {
   "display_name": "Python 3",
   "language": "python",
   "name": "python3"
  },
  "language_info": {
   "codemirror_mode": {
    "name": "ipython",
    "version": 3
   },
   "file_extension": ".py",
   "mimetype": "text/x-python",
   "name": "python",
   "nbconvert_exporter": "python",
   "pygments_lexer": "ipython3",
   "version": "3.7.7"
  }
 },
 "nbformat": 4,
 "nbformat_minor": 4
}
