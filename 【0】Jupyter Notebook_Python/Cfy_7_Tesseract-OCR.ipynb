{
 "cells": [
  {
   "cell_type": "code",
   "execution_count": null,
   "metadata": {
    "code_folding": [
     0
    ]
   },
   "outputs": [],
   "source": [
    "# 【0】Tesseract-OCR 安装和配置:https://www.cnblogs.com/111testing/p/12383290.html\n",
    "1、安装 Tesseract exe 实现OCR \n",
    "    https://github.com/UB-Mannheim/tesseract/wiki\n",
    "    安装时可以将语言包选上,选择中文就可以了，不用全选（比如不选择的话，默认的只能解析英文）\n",
    "    将“F:\\Tesseract-OCR”添加到系统环境变量——path中\n",
    "    系统增加一个TESSDATA_PREFIX变量名，变量值还是我的安装路径F:\\Tesseract-OCR\\tessdata这是将语言字库文件夹添加到变量中。\n",
    "    \n",
    "2、安装 Pillow + pytesseract依赖的PIL端口：\n",
    "    【1】pip install pillow\n",
    "    【2】pip install pytesseract\n",
    "    【3】pip install tesseract\n",
    "    【4】安装tesserocr的话  ： https://pypi.org/project/tesserocr/\n",
    "    （1）conda install -c conda-forge tesserocr\n",
    "    （2）pip 安装tesserocr的话：\n",
    "    Download the wheel file corresponding to your Windows platform and Python installation from ：\n",
    "    https://github.com/simonflueckiger/tesserocr-windows_build/releases\n",
    "    切换 cmd 到  .whl + Tesseract-OCR\\tessdata 这个文件在同一路径。\n",
    "    > pip install <package_name>.whl\n",
    "3、cmd输入命令\n",
    "    打开命令终端，输入：tesseract -v，可以看到版本信息\n",
    "    输入命令tesseract --list -langs 可以支持的语言：\n",
    "\n",
    "三，在网上下载中文识别库 chi_sim.traineddata\n",
    "    可以在官网下载https://github.com/tesseract-ocr/tessdata\n",
    "    如果官网下载很慢的话也可以在百度网盘下载 https://pan.baidu.com/s/1G5vZO2B4Mxx5JaiQtfIqCw 提取码: mp1u\n"
   ]
  },
  {
   "cell_type": "code",
   "execution_count": null,
   "metadata": {
    "code_folding": [
     0
    ]
   },
   "outputs": [],
   "source": [
    "# 【1】Tesseract-OCR 识别图片文字\n",
    "import pytesseract\n",
    "from PIL import Image\n",
    "# import tesserocr\n",
    "\n",
    "fp=r'C:\\Users\\hp\\Desktop\\123.jpg'\n",
    "im=Image.open(fp)\n",
    "print(pytesseract.image_to_string(im))\n",
    "# print(pytesseract.image_to_string(im,lang='chi_sim'))\n",
    "# print(pytesseract.image_to_string(im,lang='chi_tra'))"
   ]
  },
  {
   "cell_type": "code",
   "execution_count": 19,
   "metadata": {
    "code_folding": [
     0
    ]
   },
   "outputs": [
    {
     "name": "stdout",
     "output_type": "stream",
     "text": [
      "JPEG (120, 40) RGB\n"
     ]
    },
    {
     "data": {
      "text/plain": [
       "'2H19\\n\\x0c'"
      ]
     },
     "execution_count": 19,
     "metadata": {},
     "output_type": "execute_result"
    }
   ],
   "source": [
    "# 【1】Tesseract-OCR 识别图片文字\n",
    "from PIL import Image\n",
    "import os\n",
    "import numpy as np\n",
    "dp=os.path.join(os.path.expanduser(\"~\"),\"DeskTop\")\n",
    "fp=os.path.join(os.path.expanduser(\"~\"),\"DeskTop\",\"123.jpg\")\n",
    "img=Image.open(fp)\n",
    "print(img.format, img.size, img.mode)\n",
    "imgry = img.convert('L')         # 灰度化图像\n",
    "\n",
    "threshold = 200\n",
    "Table = []\n",
    "for j in range(256):\n",
    "    if j < threshold:\n",
    "        Table.append(0)\n",
    "    else:\n",
    "        Table.append(1)\n",
    "out = imgry.point(Table,'1')         # 二值化处理，让字符颜色跟背景颜色反差更为明显\n",
    "out.show()\n",
    "# out.save(dp + '\\out.jpg')\n",
    "\n",
    "import pytesseract\n",
    "pytesseract.image_to_string(out)"
   ]
  },
  {
   "cell_type": "code",
   "execution_count": null,
   "metadata": {},
   "outputs": [],
   "source": [
    "\n",
    "\n"
   ]
  }
 ],
 "metadata": {
  "kernelspec": {
   "display_name": "Python 3",
   "language": "python",
   "name": "python3"
  },
  "language_info": {
   "codemirror_mode": {
    "name": "ipython",
    "version": 3
   },
   "file_extension": ".py",
   "mimetype": "text/x-python",
   "name": "python",
   "nbconvert_exporter": "python",
   "pygments_lexer": "ipython3",
   "version": "3.7.7"
  }
 },
 "nbformat": 4,
 "nbformat_minor": 4
}
