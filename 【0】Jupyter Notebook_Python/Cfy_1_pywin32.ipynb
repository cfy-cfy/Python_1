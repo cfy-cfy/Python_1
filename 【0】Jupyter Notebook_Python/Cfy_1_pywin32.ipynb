{
 "cells": [
  {
   "cell_type": "code",
   "execution_count": null,
   "metadata": {},
   "outputs": [],
   "source": [
    "# （0）pywin32的安装与模块：\n",
    "'''\n",
    "pip install pywin32\n",
    "模块pywin32它直接包装了几乎所有的Windows API，可以方便地从Python直接调用，\n",
    "该模块另一大主要功能是通过Python进行COM编程。安装完毕后，在Python安装路径下的\n",
    "Lib\\site-packages\\win32可以看到所有的API支撑模块，Lib\\site-packages\\win32com下则是COM的支撑模块。\n",
    "\n",
    "'''\n"
   ]
  }
 ],
 "metadata": {
  "kernelspec": {
   "display_name": "Python 3",
   "language": "python",
   "name": "python3"
  },
  "language_info": {
   "codemirror_mode": {
    "name": "ipython",
    "version": 3
   },
   "file_extension": ".py",
   "mimetype": "text/x-python",
   "name": "python",
   "nbconvert_exporter": "python",
   "pygments_lexer": "ipython3",
   "version": "3.7.7"
  }
 },
 "nbformat": 4,
 "nbformat_minor": 4
}
