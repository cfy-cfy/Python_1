{
 "cells": [
  {
   "cell_type": "code",
   "execution_count": null,
   "metadata": {
    "code_folding": [
     0
    ]
   },
   "outputs": [],
   "source": [
    "# 【0】Streamlit 安装 + 运行： \n",
    "# 安装streamlit\n",
    "pip install streamlit -i https://mirror.baidu.com/pypi/simple/\n",
    "# 安装Plotly Express\n",
    "pip install plotly_express==0.4.0 -i https://mirror.baidu.com/pypi/simple/\n",
    "# 安装xlrd\n",
    "pip install xlrd==1.2.0 -i https://mirror.baidu.com/pypi/simple/\n",
    "# ——————————————————————————————————————\n",
    "# 命令行终端打开文件所在路径  cd Excel_Webapp\n",
    "# 运行网页  streamlit run app.py\n",
    "# 打开网页 http://localhost:8501/ \n",
    "          http://192.168.1.100:8501//"
   ]
  },
  {
   "cell_type": "code",
   "execution_count": null,
   "metadata": {
    "code_folding": [
     0
    ]
   },
   "outputs": [],
   "source": [
    "# 【0】args，*args，**kwargs\n",
    "a=list(\"1234\")\n",
    "c=dict(one=1,two=2,three=3)\n",
    "# def func(args):\n",
    "#     for i in args:\n",
    "#         print(i)\n",
    "# func(a)\n",
    "# ——————————————————————\n",
    "# def func(*args):\n",
    "#     for i in args:\n",
    "#         print(i)\n",
    "# func(\"123\",\"456\",a,c)\n",
    "# ——————————————————————\n",
    "def func(*kwargs):\n",
    "    for i in kwargs:\n",
    "        print(i)\n",
    "func(c,b)\n",
    "# # ——————————————————————\n"
   ]
  },
  {
   "cell_type": "code",
   "execution_count": null,
   "metadata": {
    "code_folding": [
     0
    ]
   },
   "outputs": [],
   "source": [
    "# 【1】Streamlit ：制作Web可视化页面 https://mp.weixin.qq.com/s/7Ljbyaw7RqtOnlzB0cOsAw\n",
    "import pandas as pd\n",
    "import streamlit as st\n",
    "import plotly.express as px\n",
    "from PIL import Image\n",
    "import os\n",
    "\n",
    "fp=os.path.join(os.path.expanduser(\"~\"),'Desktop',\"web\",\"各部门对生产部的评分情况.xlsx\")\n",
    "imgp=os.path.join(os.path.expanduser(\"~\"),'Desktop',\"web\",\"survey.jpg\")\n",
    "st.set_page_config(page_title='调查结果')          # 设置网页名称\n",
    "st.header('2020年调查问卷')                        # 设置网页标题\n",
    "st.subheader('2020年各部门对生产部的评分情况')     # 设置网页子标题\n",
    "\n",
    "df = pd.read_excel(fp,sheet_name='DATA',usecols='B:D',header=3)\n",
    "\n",
    "# 此处为各部门参加问卷调查人数\n",
    "df_participants = pd.read_excel(fp,sheet_name='DATA',usecols='F:G',header=3)\n",
    "df_participants.dropna(inplace=True)\n",
    "\n",
    "department = df['部门'].unique().tolist()    # streamlit的多重选择(选项数据)\n",
    "ages = df['年龄'].unique().tolist()          # streamlit的滑动条(年龄数据)\n",
    "\n",
    "# 滑动条, 最大值、最小值、区间值\n",
    "age_selection = st.slider('年龄:',min_value=min(ages), max_value=max(ages),value=(min(ages), max(ages)))\n",
    "\n",
    "# 多重选择, 默认全选\n",
    "department_selection = st.multiselect('部门:',department,default=department)\n",
    "\n",
    "# 根据选择过滤数据\n",
    "mask = (df['年龄'].between(*age_selection)) & (df['部门'].isin(department_selection))\n",
    "number_of_result = df[mask].shape[0]\n",
    "\n",
    "# 根据筛选条件, 得到有效数据\n",
    "st.markdown(f'*有效数据: {number_of_result}*')\n",
    "\n",
    "# 根据选择分组数据\n",
    "df_grouped = df[mask].groupby(by=['评分']).count()[['年龄']]\n",
    "df_grouped = df_grouped.rename(columns={'年龄': '计数'})\n",
    "df_grouped = df_grouped.reset_index()\n",
    "dispaly(df_grouped)\n",
    "# 绘制柱状图, 配置相关参数\n",
    "bar_chart = px.bar(df_grouped,x='评分',y='计数',text='计数',\n",
    "                   color_discrete_sequence=['#F63366']*len(df_grouped),template='plotly_white')\n",
    "st.plotly_chart(bar_chart)\n",
    "\n",
    "# 添加图片和交互式表格\n",
    "col1, col2 = st.beta_columns(2)\n",
    "image = Image.open('survey.jpg')\n",
    "col1.image(image,caption='Designed by 小F / 法纳斯特', use_column_width=True)\n",
    "col2.dataframe(df[mask], width=300)\n",
    "\n",
    "# 绘制饼图\n",
    "pie_chart = px.pie(df_participants,title='总的参加人数',values='人数',names='公司部门')\n",
    "st.plotly_chart(pie_chart)\n"
   ]
  },
  {
   "cell_type": "code",
   "execution_count": null,
   "metadata": {
    "code_folding": [
     0
    ]
   },
   "outputs": [],
   "source": [
    "# 【2】Streamlit ：j\n",
    "streamlit as st\n",
    "st.write('Hello, world!')"
   ]
  },
  {
   "cell_type": "code",
   "execution_count": null,
   "metadata": {},
   "outputs": [],
   "source": [
    "import pandas as pd\n",
    "import os\n",
    "\n",
    "pd.set_option(\"display.max_rows\",None)\n",
    "fp=os.path.join(os.path.expanduser(\"~\"),'Desktop',\"web\",\"各部门对生产部的评分情况.xlsx\")\n",
    "df = pd.read_excel(fp,sheet_name='DATA',usecols='B:D',header=3)\n",
    "# department = df['部门'].unique().tolist() \n",
    "print(df.shape)\n",
    "# display(df.head())\n",
    "\n",
    "# mask = df[(df['年龄'].between(30,35)) & (df['部门'].isin(['市场','物流']))]\n",
    "# print(mask.shape)\n",
    "# display(mask)\n",
    "\n",
    "mask = (df['年龄'].between(30,35)) & (df['部门'].isin(['市场','物流']))\n",
    "display(df[mask])\n",
    "print(mask)"
   ]
  }
 ],
 "metadata": {
  "kernelspec": {
   "display_name": "Python 3",
   "language": "python",
   "name": "python3"
  },
  "language_info": {
   "codemirror_mode": {
    "name": "ipython",
    "version": 3
   },
   "file_extension": ".py",
   "mimetype": "text/x-python",
   "name": "python",
   "nbconvert_exporter": "python",
   "pygments_lexer": "ipython3",
   "version": "3.7.7"
  }
 },
 "nbformat": 4,
 "nbformat_minor": 4
}
