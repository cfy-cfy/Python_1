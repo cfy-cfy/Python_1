{
 "cells": [
  {
   "cell_type": "code",
   "execution_count": null,
   "metadata": {
    "code_folding": [
     0
    ]
   },
   "outputs": [],
   "source": [
    "# 【0】Mito 简介+安装：pip install mitosheet——弃用，会导致jupyter lab 降级2.3.0\n",
    "Mito是Jupyter notebook的一个插件，作用是编辑电子表格，并在编辑表格（带格式转换功能）时，可以生成相对应的Python代码。\n",
    "\n",
    "二、Mito 安装\n",
    "Mito的安装要求比较简单，有两个：\n",
    "\n",
    "Python 3.6或更高版本\n",
    "需要安装了Node\n",
    "打开终端，直接pip安装：\n",
    "\n",
    "pip install mitosheet\n",
    "然后，安装JupyterLab扩展管理器。这个命令可能需要运行个几分钟：\n",
    "\n",
    "jupyter labextension install @jupyter-widgets/jupyterlab-manager@2\n",
    "最后，启动JupyterLab就完事了。\n",
    "\n",
    "jupyter lab"
   ]
  },
  {
   "cell_type": "code",
   "execution_count": 1,
   "metadata": {},
   "outputs": [],
   "source": [
    "# https://zhuanlan.zhihu.com/p/87403131\n",
    "https://mp.weixin.qq.com/s/6izvrckgiNCT9cJn8KoCZg\n",
    "import pandas as pd\n",
    "pd.Data\n",
    "# df=pd.DataFrame\n",
    "\n"
   ]
  }
 ],
 "metadata": {
  "kernelspec": {
   "display_name": "Python 3",
   "language": "python",
   "name": "python3"
  },
  "language_info": {
   "codemirror_mode": {
    "name": "ipython",
    "version": 3
   },
   "file_extension": ".py",
   "mimetype": "text/x-python",
   "name": "python",
   "nbconvert_exporter": "python",
   "pygments_lexer": "ipython3",
   "version": "3.8.8"
  }
 },
 "nbformat": 4,
 "nbformat_minor": 4
}
