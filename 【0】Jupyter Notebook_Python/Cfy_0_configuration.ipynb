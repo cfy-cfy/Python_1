{
 "cells": [
  {
   "cell_type": "markdown",
   "metadata": {},
   "source": [
    "### (一)设置jupyt·er notebook登陆密码：cfy122333.."
   ]
  },
  {
   "cell_type": "code",
   "execution_count": 1,
   "metadata": {
    "code_folding": [
     0
    ],
    "collapsed": true,
    "jupyter": {
     "outputs_hidden": true,
     "source_hidden": true
    },
    "tags": []
   },
   "outputs": [
    {
     "name": "stdout",
     "output_type": "stream",
     "text": [
      "Enter password: ········\n",
      "Verify password: ········\n"
     ]
    },
    {
     "data": {
      "text/plain": [
       "'sha1:995eb528bae1:f1d9db7cd535ed7aefb8b063d75065739483c884'"
      ]
     },
     "execution_count": 1,
     "metadata": {},
     "output_type": "execute_result"
    }
   ],
   "source": [
    "\n",
    "'''1 生成配置文件：windows系统打开anaconda自带的终端\n",
    "        jupyter notebook --generate-config\n",
    "    此时系统会生成 ~/.jupyter/ 这个隐藏文件夹，且文件夹中生成了一个jupyter的配置文件jupyter_notebook_config.py\n",
    "    c:\\users\\hp\\.jupyter\\jupyter_notebook_config.py\n",
    "2 配置密码+端口+远程登陆+工作目录+启动mathjax\n",
    "    2.1 生成jupyter的密码\n",
    "    输入passwd()后需要两次键入密码，之后会产生一段密文\n",
    "'''\n",
    "from notebook.auth import passwd\n",
    "passwd()\n",
    "\n",
    "'''\n",
    "修改./jupyter/jupyter_notebook_config.py中对应行如下：\n",
    "    c.NotebookApp.ip='*'          # 关闭启动后的自动开启浏览器\n",
    "    c.NotebookApp.password = u    # sha:ce...刚才复制的那个密文'\n",
    "    c.NotebookApp.open_browser = False\n",
    "    c.NotebookApp.port =8888       #可自行指定一个端口, 访问时使用该端口\n",
    "'''"
   ]
  },
  {
   "cell_type": "markdown",
   "metadata": {},
   "source": [
    "### jupyter 可选主题与切换主题 + Nbextensions 常用配置"
   ]
  },
  {
   "cell_type": "code",
   "execution_count": null,
   "metadata": {
    "code_folding": [
     0
    ],
    "jupyter": {
     "source_hidden": true
    },
    "tags": []
   },
   "outputs": [],
   "source": [
    "\n",
    "'''\n",
    "（一）安装nbextensions插件——如果你已经安装了，先执行卸载命令：\n",
    "    pip uninstall jupyter_contrib_nbextensions\n",
    "    pip uninstall jupyter_nbextensions_configurator\n",
    "\n",
    "打开Anaconda Prompt窗口，执行第一个命令，用于安装nbextensions：\n",
    "    pip install jupyter_contrib_nbextensions\n",
    "\n",
    "再执行第二个命令，用于安装 javascript and css files\n",
    "    jupyter contrib nbextension install --user\n",
    "\n",
    "最后执行，用于安装configurator\n",
    "    pip install jupyter_nbextensions_configurator\n",
    "    jupyter nbextensions_configurator enable --user\n",
    "\n",
    "然后重新启动Jupyter Notebook后，就会发现已经有Nbextensions标签了。\n",
    "（二）常用扩展功能，勾选上即可：\n",
    "最常用功能说明，建议勾选上：\n",
    "Collapsible headings 折叠标题\n",
    "Notify 通知机制，跑一些耗时较久的任务，完成后通知\n",
    "Codefolding 折叠代码\n",
    "Zen mode extension 隐藏活动状态栏，方便注意代码\n",
    "Execute time extension 显示运行的时间\n",
    "\n",
    "（三）常用快捷键\n",
    "执行当前cell，并自动跳到下一个cell：Shift Enter\n",
    "执行当前cell，执行后不自动调转到下一个cell：Ctrl-Enter\n",
    "是当前的cell进入编辑模式：Enter\n",
    "退出当前cell的编辑模式：Esc\n",
    "删除当前的cell：双D\n",
    "为当前的cell加入line number：单L\n",
    "将当前的cell转化为具有一级标题的maskdown：单1\n",
    "将当前的cell转化为具有二级标题的maskdown：单2\n",
    "将当前的cell转化为具有三级标题的maskdown：单3\n",
    "为一行或者多行添加/取消注释：Crtl /\n",
    "撤销对某个cell的删除：z\n",
    "浏览器的各个Tab之间切换：Crtl PgUp和Crtl PgDn\n",
    "快速跳转到首个cell：Crtl Home\n",
    "快速跳转到最后一个cell：Crtl End\n",
    "（四）Jupyter Notebook如何导入代码\n",
    "4.1将本地的.py文件load到jupyter的一个cell中\n",
    "在需要导入该段代码的cell中输入\n",
    "%load test.py    #test.py是当前路径下的一个python文件\n",
    "4.2 从网络load代码到jupyter\n",
    "在cell中输入%load http://.....，然后运行该cell，就会将load后面所对应地址的代码load到当前的cell中；\n",
    "（五）Jupyter运行python文件\n",
    "利用jupyter的cell是可以运行python文件的，即在cell中运行如下代码：\n",
    "%run file.py\n",
    "'''\n",
    "'''jupyter 可选主题与切换主题 '''\n",
    "# !jt -l                  #可选主题\n",
    "# !jt -t oceans16 -T -N   #切换主题\n",
    "\n",
    "''' Nbextensions 常用配置：'''\n",
    "# Collapsible Headings\n",
    "# Coldfolding \n",
    "# Nbextensions dashboard tab\n",
    "# Snippets Menu\n",
    "# Hinterland\n",
    "# Nbextensions edit menu item"
   ]
  },
  {
   "cell_type": "markdown",
   "metadata": {},
   "source": [
    "### 更新、安装、卸载包 ——常用命令"
   ]
  },
  {
   "cell_type": "code",
   "execution_count": null,
   "metadata": {
    "code_folding": [],
    "jupyter": {
     "source_hidden": true
    },
    "tags": []
   },
   "outputs": [],
   "source": [
    "\n",
    "'''\n",
    "pip list 查看所有包\n",
    "（1）升级Anaconda需要先升级conda\n",
    "        conda update conda\n",
    "        conda update anaconda\n",
    "        conda update anaconda-navigator # 最新版本的anaconda-navigator\n",
    "        \n",
    "（2）更新所有包:conda update --all\n",
    "     安装指定包：conda install package\n",
    "     更新指定包：conda update package 或 conda upgrade package\n",
    "     \n",
    "     安装指定包：pip install package\n",
    "     更新指定包pip install --upgrade package 这一步相当于conda的安装包+更新包两步\n",
    "     \n",
    "     更新pip包：pip install --upgrade pip\n",
    "         如果更新不成功，上面的命令是直接把pip或所需的依赖包直接删掉了，所以在用pip下载其他安装包时，出现错误。\n",
    "    最终出现Scripts\\pip-script.py’ is not present.报错，\n",
    "    应该调用easy_install -i https://mirrors.aliyun.com/pypi/simple pip。轻松解决问题。\n",
    "    \n",
    "（3）卸载包：pip uninstall ffmpeg\n",
    "（4）更新jupyter notebook: pip install --upgrade jupyter\n",
    "（5）jupyter入口：http://localhost:8888/tree\n",
    "（6）登陆jupyter需要获取token: Jupyter notebook list\n",
    "（7）指定安装包的版本：pip install jedi==0.17.2\n",
    "（8）查看已安装的第三库：pip list\n",
    "\n",
    "\n",
    "'''`"
   ]
  },
  {
   "cell_type": "markdown",
   "metadata": {},
   "source": [
    "### 镜像安装：去C：/用户/用户名，你会发现一个.condarc文件，你可以打开该文件看看，这里面就定义了Anaconda下载源"
   ]
  },
  {
   "cell_type": "markdown",
   "metadata": {
    "code_folding": [
     0
    ],
    "jupyter": {
     "source_hidden": true
    },
    "tags": []
   },
   "source": [
    "\n",
    "'''\n",
    "conda list                  # 查看所有已经安装的包\n",
    "conda list -n xxxx          # 指定查看 xxxx 虚拟环境下安装的 package\n",
    "conda install -n xxxx xxx   # 在指定环境中安装 xxx 包\n",
    "conda update xxx            # 更新包 xxx\n",
    "conda uninstall xxx         # 卸载包 xxx\n",
    "\n",
    "conda config --show                        # 查看已经安装过的镜像源\n",
    "conda config --remove channels url         # 删除 url 源\n",
    "conda config --add channels                # 添加 url 源\n",
    "conda config --set show_channel_urls yes   # 从channel中安装包时显示channel的url\n",
    "'''\n",
    "（1）临时安装：\n",
    "      例如——镜像安装：pip install -i https://pypi.tuna.tsinghua.edu.cn/simple ffmpeg\n",
    "（2）添加国内镜像源\n",
    "      1）运行Anaconda Prompt：\n",
    "            conda config --add channels https://mirrors.ustc.edu.cn/anaconda/pkgs/free/\n",
    "            conda config --add channels https://mirrors.ustc.edu.cn/anaconda/pkgs/main/\n",
    "        or\n",
    "            conda config --add channels https://mirrors.tuna.tsinghua.edu.cn/anaconda/pkgs/free/\n",
    "            conda config --add channels https://mirrors.tuna.tsinghua.edu.cn/anaconda/pkgs/main/\n",
    "      2）设置启动设置好的国内镜像源\n",
    "            conda config --set show_channel_urls yes\n",
    "      3）查看是否添加上了源\n",
    "            conda config --show\n",
    "      4）如果镜像源失效了，或者想换成其他的源，怎么删除呢？\n",
    "            conda config --remove channels https://mirrors.ustc.edu.cn/anaconda/pkgs/free/\n",
    "            conda config --remove channels https://mirrors.ustc.edu.cn/anaconda/pkgs/main/\n",
    "（3）永久修改：windows：C:\\Users\\hp\\pip\\pip.ini\n",
    "    [global]\n",
    "    index-url = https://pypi.tuna.tsinghua.edu.cn/simple\n",
    "    # 阿里云 http://mirrors.aliyun.com/pypi/simple/ \n",
    "    # 中国科技大学 https://pypi.mirrors.ustc.edu.cn/simple/ \n",
    "    # 豆瓣(douban) http://pypi.douban.com/simple/ \n",
    "    # 清华大学 https://pypi.tuna.tsinghua.edu.cn/simple/ \n",
    "    # 中国科学技术大学 http://pypi.mirrors.ustc.edu.cn/simple/\n",
    "    [install]\n",
    "    trusted-host = mirrors.aliyun.com\n",
    "（4）验证一下：运行 conda clean -i 清除索引缓存，保证用的是镜像站提供的索引。\n",
    "（5）conda换回默认源：\n",
    "    如果你由于某些因素清华的conda镜像登不上去了，所以需要换回conda的默认源。直接删除channels即可。命令如下：\n",
    "    conda config --remove-key channels"
   ]
  },
  {
   "cell_type": "markdown",
   "metadata": {},
   "source": [
    "### jupyter notebook 特殊用途+常遇问题："
   ]
  },
  {
   "cell_type": "markdown",
   "metadata": {
    "code_folding": [
     0
    ],
    "jupyter": {
     "source_hidden": true
    },
    "tags": []
   },
   "source": [
    "\n",
    "'''\n",
    "（1）Ipython 的Tab不能补全代码，nbextension的hinterland插件也不起作用：\n",
    "    原因：最新的ipython 7.19.0无法使用jedi 0.18.0\n",
    "    解决方法：降级jedi到7.19，parso到0.7即可解决问题——  pip install jedi==0.17.2 \n",
    "    \n",
    "（2）在Jupyter Notebook中，如果使用Matplotlib绘图，有时是弹不出图像框的，此时，可以在开头加入\n",
    "%matplotlib inline\n",
    "%matplotlib notebook   \n",
    "\n",
    "——————————————————————————————————————————————\n",
    "（1）将本地的.py文件load到jupyter的一个cell中:\n",
    "%load test.py    #test.py是当前路径下的一个python文件\n",
    "\n",
    "（2）Jupyter运行python文件:\n",
    "%run file.py\n",
    "\n",
    "（3）运行python文件：\n",
    "!python myfile.py\n",
    "\n",
    "（4）查看python版本：\n",
    "!python --version \n",
    "\n",
    "（5）从网络load代码到jupyter:\n",
    "在cell中输入%load http://.....，然后运行该cell，就会将load后面所对应地址的代码load到当前的cell中；\n",
    "'''"
   ]
  },
  {
   "cell_type": "code",
   "execution_count": null,
   "metadata": {
    "code_folding": [
     0
    ],
    "jupyter": {
     "source_hidden": true
    }
   },
   "outputs": [],
   "source": [
    "# 【2】Python 源码混淆与加密 \n",
    "https://mp.weixin.qq.com/s/oQUfFIX3BK8_5-cRz-BaRg\n",
    "目前保护 Python 代码主要有以下几种方式：\n",
    "    对代码进行混淆以降低源码可读性\n",
    "    将 py 文件编译为二进制 pyc 文件\n",
    "    使用 Pyinstaller 打包源码为二进制可执行文件\n",
    "    使用 PyArmor 加密脚本\n",
    "    将 py/pyc 文件使用 AES 加密为 pye 文件\n",
    "    将 py 文件转为 c 文件后编译为动态链接库文件\n",
    "\n"
   ]
  },
  {
   "cell_type": "code",
   "execution_count": null,
   "metadata": {},
   "outputs": [],
   "source": [
    "# 【1】jupyter lab 代码补全 kite 安装与配置：https://www.cnblogs.com/feffery/p/13199472.html\n",
    "要求 pip install jupyterlab==3.0.14\n",
    "（1）官网下载安装kite软件：https://www.kite.com/kite-is-temporarily-unavailable/?source=download\n",
    "\n",
    "（2）jupyter lab的配置：\n",
    "    pip install \"jupyterlab-kite>=2.0.2\""
   ]
  },
  {
   "cell_type": "markdown",
   "metadata": {
    "tags": []
   },
   "source": [
    "### 【2】使用setup.py工具对自定义package进行打包操作"
   ]
  },
  {
   "cell_type": "markdown",
   "metadata": {
    "jupyter": {
     "source_hidden": true
    },
    "tags": []
   },
   "source": [
    "———————————————————————————— Python的打包工具(setup.py)实战篇\n",
    "https://www.cnblogs.com/yinzhengjie/p/14124623.html\n",
    "\n",
    "1>.查看setup.py工具的帮助信息\n",
    "\n",
    "python setup.py --help-commands\n",
    "\n",
    "2>.编译python的包(本质上是新建了一个build目录，而后将指定的packages列表包下的所有\".py\"文件拷贝过去)\n",
    "\n",
    "python setup.py build\n",
    "\n",
    "3>.将源文件进行打包操作\n",
    "\n",
    "python setup.py sdist\n",
    "\n",
    "4>.基于我们刚刚打包的文件进行安装\n",
    "\n",
    "pip install test/dist/devops-0.1.1.tar.gz\n",
    "\n",
    "5>.卸载咱们刚刚安装的包\n",
    "\n",
    "pip uninstall devops\n"
   ]
  },
  {
   "cell_type": "markdown",
   "metadata": {},
   "source": [
    "### 【3】pip 安装方法"
   ]
  },
  {
   "cell_type": "markdown",
   "metadata": {
    "jupyter": {
     "source_hidden": true
    },
    "tags": []
   },
   "source": [
    "https://blog.csdn.net/tandelin/article/details/103664721\n",
    "\n",
    "方法一：通过在线网站下载安装Python包\n",
    "\n",
    "Python安装包下载网站“”https://www.lfd.uci.edu/~gohlke/pythonlibs/#rpy2\n",
    "pip install https://www.lfd.uci.edu/~gohlke/pythonlibs/#rpy2/rpy2?2.9.5?cp35?cp35m?win_amd64.whl --default-timeout=100\n",
    "\n",
    "方法二：官网下载python包后离线安装\n",
    "\n",
    "也可以使用切换到D盘，然后运行pip install xxx.whl即可完成安装。\n",
    "pip install C:\\Users\\Administrator\\Desktop\\test\\rpy2-2.9.5-cp35-cp35m-win_amd64.whl\n",
    "\n",
    "\n",
    "方法三：python在线直接安装github上包\n",
    "\n",
    "包的网站：https://github.com/euske/pdfminer/\n",
    "例：安装pdfminer\n",
    "pip install git+https://github.com/farizrahman4u/pdfminer.git\n",
    "\n",
    "方法四：离线安装Github上的包\n",
    "https://github.com/kiteco/jupyterlab-kite/archive/refs/heads/master.zip\n",
    "\n",
    "找到下载好的Github上的python包，并对github下载的包进行解压。进入到离线包的路径，进行cmd安装。windows上以管理员身份运行cmd\n",
    "\n",
    "用CD命令进入 pip 解压目录\n",
    "从CMD状态下，用CD命令进入到刚才解包后文件夹，如下图，一般可以找到setup.py文件\n",
    "键入python setup.py build命令先进行编译，如下图，确保python命令已经在搜索目录中。\n",
    "然后键入python setup.py install命令进行包安装，一般小程序几秒就安装完成后，后面就可以用import命令直接使用该模块了。\n",
    "\n",
    "方法五：离线安装Github上的包\n",
    "pip download/install 下载/离线安装第三方包\n",
    "\n",
    "pip download 你的包名 -d \"下载的路径(windows下双引号来表示文件夹)\" pip download pymysql -d \"D:\\pipDownloadTest\"\n",
    "\n",
    "pip离线安装 pip install <包名>     举个栗子：\n",
    "1 # 切换终端在待安装文件目录下（D:\\pipDownloadTest）\n",
    "2 pip install PyMySQL-0.9.3-py2.py3-none-any.whl\n"
   ]
  },
  {
   "cell_type": "code",
   "execution_count": null,
   "metadata": {
    "code_folding": [
     0
    ],
    "jupyter": {
     "source_hidden": true
    },
    "tags": []
   },
   "outputs": [],
   "source": [
    "# 【1】安装包的八种方法\n",
    "1. 使用 easy_install\n",
    "easy_install 这应该是最古老的包安装方式了，目前基本没有人使用了。下面是 easy_install 的一些安装示例\n",
    "\n",
    "# 通过包名，从PyPI寻找最新版本，自动下载、编译、安装\n",
    "$ easy_install pkg_name\n",
    "\n",
    "# 通过包名从指定下载页寻找链接来安装或升级包\n",
    "$ easy_install -f http://pythonpaste.org/package_index.html \n",
    "\n",
    "# 指定线上的包地址安装\n",
    "$ easy_install http://example.com/path/to/MyPackage-1.2.3.tgz\n",
    "\n",
    "# 从本地的 .egg 文件安装\n",
    "$ easy_install xxx.egg\n",
    "2. 使用 pip install\n",
    "pip 是最主流的包管理方案，使用 pip install xxx 就可以从 PYPI 上搜索并安装 xxx （如果该包存在的话）。\n",
    "\n",
    "下面仅列出一些常用的 pip install的安装示例\n",
    "\n",
    "$ pip install requests\n",
    "\n",
    "# 前提你得保证你已经下载 pkg 包到 /local/wheels 目录下\n",
    "$ pip install --no-index --find-links=/local/wheels pkg\n",
    "\n",
    "# 所安装的包的版本为 2.1.2\n",
    "$ pip install pkg==2.1.2\n",
    "\n",
    "# 所安装的包必须大于等于 2.1.2\n",
    "$ pip install pkg>=2.1.2\n",
    "\n",
    "# 所安装的包必须小于等于 2.1.2\n",
    "$ pip install pkg<=2.1.2\n",
    "更多 pip 的使用方法，可参考我之前写的文章，介绍得非常清楚：最全的 pip 使用指南，50% 你可能没用过。\n",
    "\n",
    "3. 使用 pipx\n",
    "pipx 是一个专门用于安装和管理 cli 应用程序的工具，使用它安装的 Python 包会单独安装到一个全新的独有虚拟环境。\n",
    "\n",
    "由于它是一个第三方工具，因此在使用它之前，需要先安装\n",
    "\n",
    "$ python3 -m pip install --user pipx\n",
    "$ python3 -m userpath append ~/.local/bin\n",
    "Success!\n",
    "安装就可以使用 pipx 安装cli 工具了。\n",
    "\n",
    "# 创建虚拟环境并安装包\n",
    "$ pipx install pkg\n",
    "更多 pipx 的使用方法，可参考我之前写的文章，介绍得非常清楚：解锁装包新姿势，这个场景下 pip 真的难用~\n",
    "\n",
    "4. 使用 setup.py\n",
    "如果你有编写 setup.py 文件，可以使用如下命令直接安装\n",
    "\n",
    "# 使用源码直接安装\n",
    "$ python setup.py install\n",
    "5. 使用 yum\n",
    "Python 包在使用 setup.py 构建的时候，对于包的发布格式有多种选项，其中有一个选项是 bdist_rpm，以这个选项发布出来的包是 rpm 的包格式。\n",
    "\n",
    "# 发布 rpm 包\n",
    "$ python setup.py bdist_rpm\n",
    "对于rpm 这种格式，你需要使用 yum install xxx 或者 rpm install xxx 来安装。\n",
    "\n",
    "# 使用 yum 安装\n",
    "$ yum install pkg\n",
    "\n",
    "# 使用 rpm 安装\n",
    "$ rpm -ivh pkg\n",
    "6. 使用 pipenv\n",
    "如果你在使用 pipenv 创建的虚拟环境中，可以使用下面这条命令把包安装到虚拟环境中\n",
    "\n",
    "$ pipenv install pkg\n",
    "7. 使用 poetry\n",
    "如果你有使用 poetry 管理项目依赖，那么可以使用下面这条命令安装包\n",
    "\n",
    "# 直接安装包\n",
    "$ poetry add pkg\n",
    "\n",
    "# 指定为开发依赖\n",
    "$ poetry add pytest --dev\n",
    "8. 使用 curl + 管道\n",
    "有一些第三方工具包提供的安装方法，是直接使用 curl 配置管道来安装\n",
    "\n",
    "$ curl -sSL <url> | python\n",
    "比如上面提到的 poetry 就可以用这种方法安装。\n",
    "\n",
    "$ curl -sSL https://raw.githubusercontent.com/python-poetry/poetry/master/get-poetry.py | python"
   ]
  }
 ],
 "metadata": {
  "kernelspec": {
   "display_name": "Python 3",
   "language": "python",
   "name": "python3"
  },
  "language_info": {
   "codemirror_mode": {
    "name": "ipython",
    "version": 3
   },
   "file_extension": ".py",
   "mimetype": "text/x-python",
   "name": "python",
   "nbconvert_exporter": "python",
   "pygments_lexer": "ipython3",
   "version": "3.8.8"
  }
 },
 "nbformat": 4,
 "nbformat_minor": 4
}
