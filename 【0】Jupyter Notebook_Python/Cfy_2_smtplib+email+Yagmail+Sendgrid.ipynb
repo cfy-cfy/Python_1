{
 "cells": [
  {
   "cell_type": "code",
   "execution_count": null,
   "metadata": {
    "code_folding": [
     0
    ]
   },
   "outputs": [],
   "source": [
    "# （一）smtplib 邮件发送 ：qq.com / 163.com——不带附件\n",
    "import smtplib\n",
    "from email.mime.text import MIMEText\n",
    "from email.header import Header\n",
    " \n",
    "mail_host=\"smtp.qq.com\"  #设置服务器\n",
    "mail_user=\"1021931267@qq.com\"    #用户名\n",
    "mail_pass=\"eiynadlvgjrebajj\"   #口令 \n",
    " \n",
    "sender = '1021931267@qq.com'\n",
    "receivers = ['cfy7788999@163.com']  # 接收邮件，可设置为你的QQ邮箱或者其他邮箱\n",
    "# receivers = ['cfy7788999@outlook.com']  \n",
    "'''—————————————发送HTML格式的邮件（带连接）————————'''\n",
    "mail_msg = \"\"\"\n",
    "<p>Python 邮件发送测试...</p>\n",
    "<p><a href=\"http://www.runoob.com\">这是一个链接</a></p>\n",
    "\"\"\"\n",
    "message = MIMEText(mail_msg, 'html', 'utf-8')\n",
    "'''——————————————发送plain格式的邮件————————————'''\n",
    "# message = MIMEText('Python 邮件发送测试...', 'plain', 'utf-8')\n",
    "'''————————————————————————————————————'''\n",
    "message['From'] = Header(sender, 'utf-8')\n",
    "message['To'] =  Header(receivers[0], 'utf-8')\n",
    "message['Subject'] = Header('Python SMTP 邮件测试', 'utf-8')\n",
    "\n",
    "try:\n",
    "    smtpObj = smtplib.SMTP() \n",
    "    smtpObj.connect(mail_host, 587)    # 25/587/465 为 SMTP 端口号\n",
    "    smtpObj.login(mail_user,mail_pass)  \n",
    "    smtpObj.sendmail(sender, receivers, message.as_string())\n",
    "    print(\"邮件发送成功\")\n",
    "except smtplib.SMTPException:\n",
    "    print(\"Error: 无法发送邮件\")"
   ]
  },
  {
   "cell_type": "code",
   "execution_count": null,
   "metadata": {
    "code_folding": [
     0
    ]
   },
   "outputs": [],
   "source": [
    "# （一）smtplib 邮件发送 ：qq.com / 163.com——带附件\n",
    "import smtplib\n",
    "from email.mime.text import MIMEText\n",
    "from email.mime.multipart import MIMEMultipart\n",
    "from email.header import Header\n",
    "\n",
    "mail_host=\"smtp.qq.com\"  #设置服务器\n",
    "mail_user=\"1021931267@qq.com\"    #用户名\n",
    "mail_pass=\"eiynadlvgjrebajj\"   #口令 \n",
    " \n",
    "sender = '1021931267@qq.com'\n",
    "receivers = ['cfy7788999@163.com']  # 接收邮件，可设置为你的QQ邮箱或者其他邮箱\n",
    "\n",
    "message = MIMEMultipart()           # 创建一个带附件的实例\n",
    "message['From'] = Header(sender, 'utf-8')\n",
    "message['To'] =  Header(receivers[0], 'utf-8')\n",
    "message['Subject'] = Header('Python SMTP 邮件测试', 'utf-8')\n",
    "#邮件正文内容\n",
    "message.attach(MIMEText('这是菜鸟教程Python 邮件发送测试……', 'plain', 'utf-8'))\n",
    "# 构造附件\n",
    "att2 = MIMEText(open(r'C:\\Users\\hp\\Desktop\\test.xls', 'rb').read(), 'base64', 'utf-8')\n",
    "att2[\"Content-Type\"] = 'application/octet-stream'\n",
    "att2[\"Content-Disposition\"] = 'attachment; filename=\"test.xls\"'\n",
    "message.attach(att2)\n",
    "try:\n",
    "    smtpObj = smtplib.SMTP() \n",
    "    smtpObj.connect(mail_host, 25)    # 25 为 SMTP 端口号\n",
    "    smtpObj.login(mail_user,mail_pass)  \n",
    "    smtpObj.sendmail(sender, receivers, message.as_string())\n",
    "    print(\"邮件发送成功\")\n",
    "except smtplib.SMTPException:\n",
    "    print(\"Error: 无法发送邮件\")"
   ]
  },
  {
   "cell_type": "code",
   "execution_count": null,
   "metadata": {
    "code_folding": [
     0
    ]
   },
   "outputs": [],
   "source": [
    "# （一）smtplib 邮件发送 ：qq.com / 163.com——带图片\n",
    "import smtplib\n",
    "from email.mime.image import MIMEImage\n",
    "from email.mime.multipart import MIMEMultipart\n",
    "from email.mime.text import MIMEText\n",
    "from email.header import Header\n",
    "\n",
    "mail_host=\"smtp.qq.com\"          #设置服务器\n",
    "mail_user=\"1021931267@qq.com\"    #用户名\n",
    "mail_pass=\"eiynadlvgjrebajj\"     #口令 \n",
    " \n",
    "sender = '1021931267@qq.com'\n",
    "receivers = ['cfy7788999@163.com']  # 接收邮件，可设置为你的QQ邮箱或者其他邮箱\n",
    "\n",
    "message = MIMEMultipart()          # 创建一个带附件的实例\n",
    "message['From'] = Header(sender, 'utf-8')\n",
    "message['To'] =  Header(receivers[0], 'utf-8')\n",
    "message['Subject'] = Header('Python SMTP 邮件测试', 'utf-8')\n",
    "\n",
    "mail_msg = \"\"\"\n",
    "<p>Python 邮件发送测试...</p>\n",
    "<p><a href=\"http://www.runoob.com\">菜鸟教程链接</a></p>\n",
    "<p>图片演示：</p>\n",
    "<p><img src=\"cid:image1\"></p>\n",
    "\"\"\"\n",
    "message.attach(MIMEText(mail_msg, 'html', 'utf-8'))\n",
    "# 指定图片为当前目录\n",
    "fp = open(r'C:\\Users\\hp\\Desktop\\猫猫图片.jpg', 'rb')\n",
    "msgImage = MIMEImage(fp.read())\n",
    "fp.close()\n",
    "# 定义图片 ID，在 HTML 文本中引用\n",
    "msgImage.add_header('Content-ID', '<image1>')\n",
    "message.attach(msgImage)\n",
    "try:\n",
    "    smtpObj = smtplib.SMTP() \n",
    "    smtpObj.connect(mail_host, 25)    # 25 为 SMTP 端口号\n",
    "    smtpObj.login(mail_user,mail_pass)  \n",
    "    smtpObj.sendmail(sender, receivers, message.as_string())\n",
    "    print(\"邮件发送成功\")\n",
    "except smtplib.SMTPException:\n",
    "    print(\"Error: 无法发送邮件\")"
   ]
  },
  {
   "cell_type": "code",
   "execution_count": 13,
   "metadata": {
    "code_folding": [
     0
    ]
   },
   "outputs": [],
   "source": [
    "# 【0】smtplib 邮件发送 ：outlook.com(starttls)——不带附件+正文+header\n",
    "import smtplib, ssl\n",
    "\n",
    "port = 587 \n",
    "smtp_server = \"smtp.office365.com\"\n",
    "sender_email = \"cfy7788999@outlook.com\"\n",
    "receiver_email = \"1021931267@qq.com\"\n",
    "password = 'cfy122333..'\n",
    "message = \"\"\"Subject: Hi there\n",
    "            This message is sent from Python.\"\"\"    # header\n",
    "context = ssl.create_default_context()\n",
    "with smtplib.SMTP(smtp_server, port) as server:\n",
    "    server.starttls(context=context)\n",
    "    server.login(sender_email, password)\n",
    "    server.sendmail(sender_email, receiver_email, message)"
   ]
  },
  {
   "cell_type": "code",
   "execution_count": null,
   "metadata": {
    "code_folding": [
     0
    ]
   },
   "outputs": [],
   "source": [
    "# 【0】smtplib 邮件发送 ：outlook.com(starttls)——1 带正文+header \n",
    "import smtplib, ssl\n",
    "from email.mime.text import MIMEText\n",
    "from email.mime.multipart import MIMEMultipart\n",
    "\n",
    "sender_email = \"cfy7788999@outlook.com\"\n",
    "# receiver_email = \"1021931267@qq.com\"\n",
    "receiver_email = \"cfy7788999@gmail.com\"\n",
    "password = 'cfy122333..'\n",
    "\n",
    "message = MIMEMultipart(\"alternative\")\n",
    "message[\"Subject\"] = \"multipart test\"\n",
    "message[\"From\"] = sender_email\n",
    "message[\"To\"] = receiver_email\n",
    "# ———————— Header ————————\n",
    "text = \"\"\"\n",
    "Hi,CatCat\n",
    "How are you?\n",
    "Real Python has many great tutorials:\n",
    "www.realpython.com\"\"\"\n",
    "# ———————— 正文内容 ————————\n",
    "html = \"\"\"\\\n",
    "<html>\n",
    "  <body>\n",
    "    <p>Hi,DogDog<br>\n",
    "       How are you?<br>\n",
    "       <a href=\"http://www.realpython.com\">Real Python</a> \n",
    "       has many great tutorials.\n",
    "    </p>\n",
    "  </body>\n",
    "</html>\n",
    "\"\"\"\n",
    "part1 = MIMEText(text, \"plain\")\n",
    "# part2 = MIMEText(html, \"html\")\n",
    "message.attach(part1)\n",
    "# message.attach(part2)\n",
    "\n",
    "context = ssl.create_default_context()\n",
    "with smtplib.SMTP(\"smtp.office365.com\", 587) as server:\n",
    "    server.starttls(context=context)\n",
    "    server.login(sender_email, password)\n",
    "    server.sendmail(sender_email, receiver_email, message.as_string())\n",
    "print(\"邮件发送成功！\")"
   ]
  },
  {
   "cell_type": "code",
   "execution_count": null,
   "metadata": {
    "code_folding": [
     0
    ]
   },
   "outputs": [],
   "source": [
    "# 【0】smtplib 邮件发送 ：outlook.com(starttls)——2 带正文+header\n",
    "import smtplib\n",
    "from email.mime.text import MIMEText\n",
    " \n",
    "sender_email = 'cfy7788999@outlook.com'\n",
    "receiver_email = '1021931267@qq.com'\n",
    "password='cfy122333..'\n",
    "\n",
    "mail_msg = \"\"\"\n",
    "<p>Python 邮件发送测试...</p>\n",
    "<p><a href=\"http://www.runoob.com\">这是一个链接</a></p>\n",
    "\"\"\"\n",
    "message = MIMEText(mail_msg, 'html', 'utf-8')\n",
    "message['From'] = sender_email\n",
    "message['To'] =  receiver_email\n",
    "message['Subject'] = 'Python SMTP 邮件测试'\n",
    "\n",
    "context = ssl.create_default_context()\n",
    "with smtplib.SMTP(\"smtp.office365.com\", 587) as server:\n",
    "    server.starttls(context=context)\n",
    "    server.login(sender_email, password)\n",
    "    server.sendmail(sender_email, receiver_email, message.as_string())\n",
    "print(\"邮件发送成功！\")"
   ]
  },
  {
   "cell_type": "code",
   "execution_count": null,
   "metadata": {
    "code_folding": [
     0
    ]
   },
   "outputs": [],
   "source": [
    "# 【0】smtplib 邮件发送 ：outlook.com(starttls)——带正文+header+附件.xls + .pdf\n",
    "import email, smtplib, ssl\n",
    "from email.mime.multipart import MIMEMultipart\n",
    "from email.mime.text import MIMEText\n",
    "from email import encoders\n",
    "from email.mime.base import MIMEBase\n",
    "\n",
    "sender_email = \"cfy7788999@outlook.com\"\n",
    "receiver_email = \"1021931267@qq.com\"\n",
    "password ='cfy122333..'\n",
    "\n",
    "message = MIMEMultipart()\n",
    "message[\"From\"] = sender_email\n",
    "message[\"To\"] = receiver_email\n",
    "message[\"Subject\"] = \"An email with attachment from Python\"\n",
    "message[\"Bcc\"] = receiver_email         # Recommended for mass emails\n",
    "body = \"This is an email with attachment sent from Python\"\n",
    "message.attach(MIMEText(body, \"plain\"))\n",
    "\n",
    "filename = r\"C:\\Users\\hp\\Desktop\\test.xls\" \n",
    "# ———————————————— 构造附件.xls 1\n",
    "# att2 = MIMEText(open(filename, 'rb').read(), 'base64', 'utf-8')\n",
    "# att2[\"Content-Type\"] = 'application/octet-stream'\n",
    "# att2[\"Content-Disposition\"] = 'attachment; filename=\"test.xls\"'\n",
    "# message.attach(att2)\n",
    "# ———————————————— 构造附件.xls 2\n",
    "# with open(filename, \"rb\") as attachment:\n",
    "#     part = MIMEBase(\"application\", \"octet-stream\")\n",
    "#     part.set_payload(attachment.read()) \n",
    "# encoders.encode_base64(part)\n",
    "# part.add_header(\"Content-Disposition\",\"attachment; filename= test.xls\")\n",
    "# message.attach(part)\n",
    "filename = r\"C:\\Users\\hp\\Desktop\\test.xls\" \n",
    "# ———————————————— 构造附件.pdf 3\n",
    "att3 = MIMEText(open(r\"C:\\Users\\hp\\Desktop\\11.pdf\", 'rb').read(), 'base64', 'utf-8')\n",
    "att3[\"Content-Type\"] = 'application/octet-stream'\n",
    "att3[\"Content-Disposition\"] = 'attachment; filename=\"11.pdf\"'\n",
    "message.attach(att3)\n",
    "# ———————————————— \n",
    "context = ssl.create_default_context()\n",
    "with smtplib.SMTP(\"smtp.office365.com\", 587) as server:\n",
    "    server.starttls(context=context)   \n",
    "    server.login(sender_email, password)\n",
    "    server.sendmail(sender_email, receiver_email, message.as_string())\n",
    "print('邮件发送成功！')"
   ]
  },
  {
   "cell_type": "code",
   "execution_count": null,
   "metadata": {
    "code_folding": [
     0
    ]
   },
   "outputs": [],
   "source": [
    "# 【0】smtplib 邮件发送 ：outlook.com(starttls)——从.csv批量发送邮件\n",
    "import csv, smtplib, ssl\n",
    "\n",
    "from_address = \"cfy7788999@outlook.com\"\n",
    "password = 'cfy122333..'\n",
    "\n",
    "context = ssl.create_default_context()\n",
    "with smtplib.SMTP(\"smtp.office365.com\", 587) as server:\n",
    "    server.starttls(context=context) \n",
    "    server.login(from_address, password)\n",
    "    with open(r\"C:\\Users\\hp\\Desktop\\customer.csv\") as file:\n",
    "        reader = csv.reader(file)\n",
    "        next(reader)              # Skip header row\n",
    "        for name, email, note in reader:\n",
    "            message= 'Subject: Hi {0}, your favourite is {1} '.format(name,note)\n",
    "            server.sendmail(from_address,email, message)\n",
    "            print(message)\n",
    "print(\"邮件发送成功！\")"
   ]
  },
  {
   "cell_type": "code",
   "execution_count": null,
   "metadata": {
    "code_folding": [
     0
    ]
   },
   "outputs": [],
   "source": [
    "# 【0】smtplib 邮件发送 ：outlook.com(starttls)——pandas + .xlsx批量发送邮件\n",
    "import smtplib, ssl\n",
    "import pandas as pd\n",
    "from_address = \"cfy7788999@outlook.com\"\n",
    "password = 'cfy122333..'\n",
    "\n",
    "context = ssl.create_default_context()\n",
    "# with smtplib.SMTP_SSL(\"smtp.gmail.com\", 465, context=context) as server:\n",
    "with smtplib.SMTP(\"smtp.office365.com\", 587) as server:\n",
    "    server.starttls(context=context) \n",
    "    server.login(from_address, password)\n",
    "    df=pd.read_excel(r\"C:\\Users\\hp\\Desktop\\customer.xlsx\")\n",
    "# ————————————————————————\n",
    "#     for i in range(0,df.shape[0]):\n",
    "    for i in df.index:\n",
    "        message= 'Subject: Hi {0}, your favourite is {1} '.format(df.loc[i][0],df.loc[i][2])\n",
    "        server.sendmail(from_address,df.loc[i][1], message)\n",
    "        print(message)\n",
    "print(\"邮件发送成功！\")"
   ]
  },
  {
   "cell_type": "code",
   "execution_count": null,
   "metadata": {
    "code_folding": [
     0
    ]
   },
   "outputs": [],
   "source": [
    "# 【0】smtplib 邮件发送 ：outlook.com(starttls)——xlwings + .xlsx批量发送邮件\n",
    "import smtplib, ssl\n",
    "import xlwings as xw\n",
    "from_address = \"cfy7788999@outlook.com\"\n",
    "password = 'cfy122333..'\n",
    "\n",
    "context = ssl.create_default_context()\n",
    "# with smtplib.SMTP_SSL(\"smtp.gmail.com\", 465, context=context) as server:\n",
    "with smtplib.SMTP(\"smtp.office365.com\", 587) as server:\n",
    "    server.starttls(context=context) \n",
    "    server.login(from_address, password)\n",
    "# ————————————————————————\n",
    "    app=xw.App(visible=True,add_book=False)\n",
    "    filepath=r\"C:\\Users\\hp\\Desktop\\customer.xlsx\"\n",
    "    wb=app.books.open(filepath)\n",
    "    sht=wb.sheets[0]\n",
    "    for i in range(1,sht.range(\"A1\").end('down').row):\n",
    "        message= 'Subject: Hi {0}, your favourite is {1} '.format(sht[i,0].value,sht[i,2].value)\n",
    "        server.sendmail(from_address,sht[i,1].value, message)\n",
    "        print(message)\n",
    "print(\"邮件发送成功！\")\n",
    "app.quit()"
   ]
  },
  {
   "cell_type": "code",
   "execution_count": null,
   "metadata": {
    "code_folding": [
     0
    ]
   },
   "outputs": [],
   "source": [
    "# 【0】smtplib 邮件发送 ：outlook.com(starttls)——openpyxl + .xlsx批量发送邮件\n",
    "import smtplib, ssl\n",
    "from openpyxl import *\n",
    "from_address = \"cfy7788999@outlook.com\"\n",
    "password = 'cfy122333..'\n",
    "\n",
    "context = ssl.create_default_context()\n",
    "# with smtplib.SMTP_SSL(\"smtp.gmail.com\", 465, context=context) as server:\n",
    "with smtplib.SMTP(\"smtp.office365.com\", 587) as server:\n",
    "    server.starttls(context=context) \n",
    "    server.login(from_address, password)\n",
    "# ————————————————————————\n",
    "    wb=load_workbook(r\"C:\\Users\\hp\\Desktop\\customer.xlsx\")\n",
    "    ws=wb.active\n",
    "    for i in range(2, ws.max_row+1):\n",
    "        message= 'Subject: Hi {0}, your favourite is {1} '.format(ws.cell(i,1).value,ws.cell(i,3).value)\n",
    "        server.sendmail(from_address,ws.cell(i,2).value, message)\n",
    "        print(message)\n",
    "print(\"邮件发送成功！\")\n",
    "wb.close()"
   ]
  },
  {
   "cell_type": "code",
   "execution_count": null,
   "metadata": {
    "code_folding": [
     0
    ]
   },
   "outputs": [],
   "source": [
    "# 【1】Yagmail 发送邮件：pip install yagmail\n",
    "'''有多个库可以让您更轻松地发送电子邮件，例如 Envelopes，Flanker 和 Yagmail。 Yagmail旨在专门用于Gmail，\n",
    "它通过友好的API大大简化了发送电子邮件的过程，如下面的代码示例所示：'''\n",
    "\n",
    "import yagmail\n",
    "yag = yagmail.SMTP( user=\"cfy7788999@gmail.com\", password=\"cfy122333..\", host='smtp.gmail.com',port=465,\n",
    "                   smtp_ssl=True)\n",
    "# yag1 = yagmail.SMTP( user=\"cfy7788999@outlook.com\", password=\"cfy122333..\", host=\"smtp.office365.com\",port=587,\n",
    "#                     smtp_starttls=True, smtp_ssl=False)\n",
    "# yag = yagmail.SMTP( user=\"1021931267@qq.com\", password=\"eiynadlvgjrebajj\", host='smtp.qq.com',port=465) # 成功\n",
    "receiver = \"cfy7788999@gmail.com\"\n",
    "body = \"Hello there from Yagmail\"\n",
    "filename = r\"C:\\Users\\hp\\Desktop\\11.pdf\"\n",
    "\n",
    "yag.send(\n",
    "    to=receiver,\n",
    "    subject=\"Yagmail test with attachment\",\n",
    "    contents=body, \n",
    "    attachments=filename,)\n",
    "print('邮件发送成功！')"
   ]
  },
  {
   "cell_type": "code",
   "execution_count": null,
   "metadata": {
    "code_folding": [
     0
    ]
   },
   "outputs": [],
   "source": [
    "# 【1】smtplib 邮件发送 ：gmail.com(starttls+TLS)——带正文+header+附件.xls + .pdf\n",
    "import smtplib, ssl\n",
    "from email import encoders\n",
    "from email.mime.base import MIMEBase\n",
    "from email.mime.multipart import MIMEMultipart\n",
    "from email.mime.text import MIMEText\n",
    "\n",
    "sender_email = \"cfy7788999@gmail.com\"\n",
    "receiver_email = \"1021931267@qq.com\"\n",
    "password = 'cfy122333..'\n",
    "\n",
    "message = MIMEMultipart()\n",
    "message[\"From\"] = sender_email\n",
    "message[\"To\"] = receiver_email\n",
    "message[\"Subject\"] =\"2 An email with attachment from Python\"\n",
    "message[\"Bcc\"] = receiver_email\n",
    "body = \"This is an email with attachment sent from Python\"\n",
    "message.attach(MIMEText(body, \"plain\"))\n",
    "\n",
    "# ———————————————— 构造附件.xls 1\n",
    "# att2 = MIMEText(open(r\"C:\\Users\\hp\\Desktop\\11.pdf\", 'rb').read(), 'base64', 'utf-8')\n",
    "# att2[\"Content-Type\"] = 'application/octet-stream'\n",
    "# att2[\"Content-Disposition\"] = 'attachment; filename=\"11.pdf\"'\n",
    "# message.attach(att2)\n",
    "# ———————————————— 构造附件.xls 2\n",
    "# with open(r\"C:\\Users\\hp\\Desktop\\11.pdf\", \"rb\") as attachment:\n",
    "#     part = MIMEBase(\"application\", \"octet-stream\")\n",
    "#     part.set_payload(attachment.read())\n",
    "# encoders.encode_base64(part)\n",
    "# part.add_header(\"Content-Disposition\",\"attachment; filename=11.pdf\")\n",
    "# message.attach(part)\n",
    "# ———————————————— \n",
    "context = ssl.create_default_context()\n",
    "with smtplib.SMTP_SSL(\"smtp.gmail.com\", 465, context=context) as server:   # 测试成功\n",
    "# with smtplib.SMTP(\"smtp.gmail.com\", 587) as server:                        # 测试成功\n",
    "#     server.starttls(context=context) \n",
    "    server.login(sender_email, password)\n",
    "    server.sendmail(sender_email, receiver_email,message.as_string())\n",
    "print('邮件发送成功!')"
   ]
  },
  {
   "cell_type": "code",
   "execution_count": null,
   "metadata": {
    "code_folding": [
     0
    ]
   },
   "outputs": [],
   "source": [
    "# 【2】Sendgrid代码示例——https://zhuanlan.zhihu.com/p/57252226?utm_source=wechat_session\n",
    "'''\n",
    "要运行此代码，你必须先：\n",
    "注册一个（免费）Sendgrid帐户\n",
    "请求一个API密钥用于进行用户验证\n",
    "通过在命令提示符中键入 setx SENDGRID_API_KEY “YOUR_API_KEY”（永久存储此API密钥）来添加API密钥，或者设置 SENDGRID_API_KEY YOUR_API_KEY 以仅为当前客户端会话存储它\n",
    "有关如何在Mac和Windows设置Sendgrid，可以在Github上的存储库README中找到更多信息。\n",
    "'''\n",
    "import os\n",
    "import sendgrid\n",
    "from sendgrid.helpers.mail import Content, Email, Mail\n",
    "\n",
    "sg = sendgrid.SendGridAPIClient(\n",
    "    apikey=os.environ.get(\"SENDGRID_API_KEY\")\n",
    ")\n",
    "from_email = Email(\"my@gmail.com\")\n",
    "to_email = Email(\"your@gmail.com\")\n",
    "subject = \"A test email from Sendgrid\"\n",
    "content = Content(\n",
    "    \"text/plain\", \"Here's a test email sent through Python\"\n",
    ")\n",
    "mail = Mail(from_email, subject, to_email, content)\n",
    "response = sg.client.mail.send.post(request_body=mail.get())\n",
    "\n",
    "# The statements below can be included for debugging purposes\n",
    "print(response.status_code)\n",
    "print(response.body)\n",
    "print(response.headers)\n"
   ]
  },
  {
   "cell_type": "code",
   "execution_count": null,
   "metadata": {},
   "outputs": [],
   "source": []
  }
 ],
 "metadata": {
  "kernelspec": {
   "display_name": "Python 3",
   "language": "python",
   "name": "python3"
  },
  "language_info": {
   "codemirror_mode": {
    "name": "ipython",
    "version": 3
   },
   "file_extension": ".py",
   "mimetype": "text/x-python",
   "name": "python",
   "nbconvert_exporter": "python",
   "pygments_lexer": "ipython3",
   "version": "3.7.7"
  }
 },
 "nbformat": 4,
 "nbformat_minor": 4
}
