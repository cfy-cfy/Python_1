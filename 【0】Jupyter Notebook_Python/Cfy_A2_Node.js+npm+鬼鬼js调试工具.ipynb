{
 "cells": [
  {
   "cell_type": "code",
   "execution_count": null,
   "metadata": {
    "code_folding": [
     0
    ]
   },
   "outputs": [],
   "source": [
    "# 【0】Node.js 学习安装教程+ JavaScript 基本语法 ：\n",
    "'''\n",
    "（0）安装 Node.js \n",
    "    https://nodejs.org/dist/v10.15.3/\n",
    "（1）学习网站：\n",
    "    https://www.runoob.com/nodejs/nodejs-http-server.html\n",
    "（2）JavaScript基础语法：https://www.w3school.com.cn/js/js_loop_for.asp\n",
    "'''_____________ 0 switch ____________'''\n",
    "# switch (new Date().getDay()) {\n",
    "#     default: \n",
    "#         text = \"期待周末！\";\n",
    "#          break;\n",
    "#     case 6:\n",
    "#         text = \"今天是周六\";\n",
    "#         break; \n",
    "#     case 0:\n",
    "#         text = \"今天是周日\";\n",
    "# } \n",
    "'''_____________ 1 定义函数 ____________'''\n",
    "# const x = (x, y) => x * y;\n",
    "# var x=function(x,y){return x*y;}\n",
    "# function x(x,y){return x*y;}\n",
    "# document.getElementById(\"demo\").innerHTML = x(5, 5);\n",
    "'''_____________ 2 比较运算符 ____________'''\n",
    "# ————-————————-————————-———— 条件（三元）运算符\n",
    "# age = Number(age);\n",
    "# if (isNaN(age)) {\n",
    "#     voteable = \"输入错误\";\n",
    "# } else {\n",
    "#     voteable = (age < 18) ? \"太年轻\" : \"足够成熟\";\n",
    "# } \n",
    "# ————-————————-————————-———— 一般比较运算符\n",
    "# if (age < 18) text = \"太年轻\";\n",
    "# 我们给定 x = 6 且 y = 3，下表解释了逻辑运算符：\n",
    "# &&\t与\t(x < 10 && y > 1) 为 true\n",
    "# ||\t或\t(x == 5 || y == 5) 为 false\n",
    "# !\t非\t!(x == y) 为 true\n",
    "'''_____________ 3 循环 ____________'''\n",
    "# for (i = 0; i < 5; i++) {\n",
    "#      text += \"数字是 \" + i + \"<br>\";\n",
    "# }\n",
    "# ————————————————————————\n",
    "# for (i = 0; i < cars.length; i++) { \n",
    "#     text += cars[i] + \"<br>\";\n",
    "#  }\n",
    "# ————————————————————————\n",
    "# for (i = 0, len = cars.length, text = \"\"; i < len; i++) { \n",
    "#     text += cars[i] + \"<br>\";\n",
    "# }\n",
    "# ————————————————————————\n",
    "# var i = 0;\n",
    "# var len = cars.length;\n",
    "# for (; i < len; ) { \n",
    "#     text += cars[i] + \"<br>\";\n",
    "#       i++;\n",
    "# }\n",
    "# ———————————————————————— for in 循环\n",
    "# var person = {fname:\"Bill\", lname:\"Gates\", age:62}; \n",
    "# var text = \"\";\n",
    "# var x;\n",
    "# for (x in person) {\n",
    "#     text += person[x];\n",
    "# }\n",
    "# ———————————————————————— While 循环\n",
    "# while (i < 10) {\n",
    "#     text += \"数字是 \" + i;\n",
    "#     i++;\n",
    "# }\n",
    "# ————————————————————————  Do/While 循环\n",
    "# do {\n",
    "#     text += \"The number is \" + i;\n",
    "#     i++;\n",
    "#  }\n",
    "# while (i < 10);\n",
    "\n",
    "'''\n",
    "\n"
   ]
  },
  {
   "cell_type": "code",
   "execution_count": null,
   "metadata": {
    "code_folding": [
     0
    ]
   },
   "outputs": [],
   "source": [
    "# 【1】npm 和 pip 的区别：https://www.runoob.com/nodejs/nodejs-npm.html\n",
    "一. pip\n",
    "    pip是python的一个包管理工具，在通过python创建项目的时候，我们有python虚拟环境的概念，\n",
    "    如果我们想在虚拟环境下安装我们需要的第三方包，那么我们首先要激活我们的虚拟环境，然后在pip install。\n",
    "    如果不激活虚拟环境，则默认安装在python安装目录里的site-packages目录下\n",
    "二. npm\n",
    "    npm是node.js提供的一个包管理工具，前端开发必知必会。通过npm init会给你创建一个package.json的包。\n",
    "    如果我们想在当前工程项目下通过npm安装我们需要的第三方包，那么需要我们进入该工程目录，\n",
    "    然后执行npm install来安装。\n",
    "    如果想安装到全局，则需要npm install -g\n",
    "    如果想安装的时候也安装依赖，则需要npm install --save"
   ]
  },
  {
   "cell_type": "code",
   "execution_count": null,
   "metadata": {
    "code_folding": [
     0
    ]
   },
   "outputs": [],
   "source": [
    "# 【1】npm 基本命令使用：\n",
    "https://www.npmjs.com/package/jsdom 安装包源\n",
    "npm 中文文档—— https://www.npmjs.cn/ \n",
    "1、安装命令\n",
    "    直接 npm install 包名   —— 安装在了 C:\\Users\\hp\\node_modules\n",
    "        本地安装需要自己 cd 切换至安装路径下：\n",
    "        进入目录，在当前目录下打开 cmd 命令窗口，执行 npm init 命令，\n",
    "        点击回车之后会让你输入一些关于本项目的一些基本信息（可忽略，一直回车直到初始化完成后即可）\n",
    "        将安装包放在 ./node_modules 下（运行 npm 命令时所在的目录）如果没有 node_modules 目录，\n",
    "        会在当前执行npm 命令的目录下生成node_modules 目录\n",
    "        可以通过 require() 来引入本地安装的包\n",
    "        \n",
    "    全局安装 npm i jsdom -g —— 安装在了 C:\\Users\\hp\\AppData\\Roaming\\npm\\node_modules  // install可以缩写为i\n",
    "     npm install lodash -g\n",
    "     npm uninstall lodash -g\n",
    "\n",
    "2、基本命令\n",
    "    npm -v  查看 npm 的版本\n",
    "    npm view <Module Name> repository.url 查看模块地址\n",
    "    npm  list  <Module Name> 查看模块信息\n",
    "    npm uninstall <Module Name> 卸载模块/建议直接删除node-modules文件夹\n",
    "    npm update <Module Name> 更新模块 / 更新升级时应该把原本的node-modules文件夹删除，不然的话可能会报错\n",
    "    npm help 查看帮助信息\n",
    "    npm search  <Module Name> 验证某个模块是否存在/发布一个npm包的时候，需要检验某个模块是否已存在\n",
    "    \n",
    "3、安装指定版本: npm install 默认安装最新版本，如果想要安装指定版本，可以在库名称后加 @版本号\n",
    "    npm install <Module Name>@latest\n",
    "    npm install <Module Name>@0.1.1\n",
    "    npm install <Module Name>@\">=0.1.0 <0.2.0\"\n",
    "\n",
    "4、  \n",
    "    \n",
    "    \n"
   ]
  }
 ],
 "metadata": {
  "kernelspec": {
   "display_name": "Python 3",
   "language": "python",
   "name": "python3"
  },
  "language_info": {
   "codemirror_mode": {
    "name": "ipython",
    "version": 3
   },
   "file_extension": ".py",
   "mimetype": "text/x-python",
   "name": "python",
   "nbconvert_exporter": "python",
   "pygments_lexer": "ipython3",
   "version": "3.7.7"
  }
 },
 "nbformat": 4,
 "nbformat_minor": 4
}
