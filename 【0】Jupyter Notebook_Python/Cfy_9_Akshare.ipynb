{
 "cells": [
  {
   "cell_type": "code",
   "execution_count": null,
   "metadata": {
    "code_folding": [
     0
    ]
   },
   "outputs": [],
   "source": [
    "# 【0】akshare安装+简介:\n",
    "'''\n",
    "https://www.akshare.xyz/zh_CN/latest/index.html\n",
    "（1）安装：\n",
    "    pip install akshare  --upgrade\n",
    "    pip install akshare -i http://mirrors.aliyun.com/pypi/simple/ --trusted-host=mirrors.aliyun.com  --upgrade\n",
    "    pip install akshare -i http://mirrors.aliyun.com/pypi/simple/ --trusted-host=mirrors.aliyun.com\n",
    "'''"
   ]
  },
  {
   "cell_type": "code",
   "execution_count": 2,
   "metadata": {
    "code_folding": [
     0
    ]
   },
   "outputs": [
    {
     "name": "stdout",
     "output_type": "stream",
     "text": [
      "(2698, 5)\n"
     ]
    },
    {
     "data": {
      "text/html": [
       "<div>\n",
       "<style scoped>\n",
       "    .dataframe tbody tr th:only-of-type {\n",
       "        vertical-align: middle;\n",
       "    }\n",
       "\n",
       "    .dataframe tbody tr th {\n",
       "        vertical-align: top;\n",
       "    }\n",
       "\n",
       "    .dataframe thead th {\n",
       "        text-align: right;\n",
       "    }\n",
       "</style>\n",
       "<table border=\"1\" class=\"dataframe\">\n",
       "  <thead>\n",
       "    <tr style=\"text-align: right;\">\n",
       "      <th></th>\n",
       "      <th>open</th>\n",
       "      <th>high</th>\n",
       "      <th>low</th>\n",
       "      <th>close</th>\n",
       "      <th>volume</th>\n",
       "    </tr>\n",
       "    <tr>\n",
       "      <th>date</th>\n",
       "      <th></th>\n",
       "      <th></th>\n",
       "      <th></th>\n",
       "      <th></th>\n",
       "      <th></th>\n",
       "    </tr>\n",
       "  </thead>\n",
       "  <tbody>\n",
       "    <tr>\n",
       "      <th>2010-07-15</th>\n",
       "      <td>2.74</td>\n",
       "      <td>2.74</td>\n",
       "      <td>2.69</td>\n",
       "      <td>2.70</td>\n",
       "      <td>4,039,725,056.00</td>\n",
       "    </tr>\n",
       "    <tr>\n",
       "      <th>2010-07-16</th>\n",
       "      <td>2.70</td>\n",
       "      <td>2.70</td>\n",
       "      <td>2.68</td>\n",
       "      <td>2.69</td>\n",
       "      <td>1,378,955,136.00</td>\n",
       "    </tr>\n",
       "    <tr>\n",
       "      <th>2010-07-19</th>\n",
       "      <td>2.68</td>\n",
       "      <td>2.71</td>\n",
       "      <td>2.68</td>\n",
       "      <td>2.71</td>\n",
       "      <td>1,146,738,304.00</td>\n",
       "    </tr>\n",
       "    <tr>\n",
       "      <th>2010-07-20</th>\n",
       "      <td>2.70</td>\n",
       "      <td>2.71</td>\n",
       "      <td>2.69</td>\n",
       "      <td>2.71</td>\n",
       "      <td>844,226,048.00</td>\n",
       "    </tr>\n",
       "    <tr>\n",
       "      <th>2010-07-21</th>\n",
       "      <td>2.70</td>\n",
       "      <td>2.71</td>\n",
       "      <td>2.69</td>\n",
       "      <td>2.71</td>\n",
       "      <td>622,094,336.00</td>\n",
       "    </tr>\n",
       "  </tbody>\n",
       "</table>\n",
       "</div>"
      ],
      "text/plain": [
       "            open  high   low  close            volume\n",
       "date                                                 \n",
       "2010-07-15  2.74  2.74  2.69   2.70  4,039,725,056.00\n",
       "2010-07-16  2.70  2.70  2.68   2.69  1,378,955,136.00\n",
       "2010-07-19  2.68  2.71  2.68   2.71  1,146,738,304.00\n",
       "2010-07-20  2.70  2.71  2.69   2.71    844,226,048.00\n",
       "2010-07-21  2.70  2.71  2.69   2.71    622,094,336.00"
      ]
     },
     "metadata": {},
     "output_type": "display_data"
    }
   ],
   "source": [
    "# 【1】akshare 分时stock_zh_a_minute; 日线 stock_zh_index_daily\n",
    "import akshare as ak\n",
    "import pandas as pd\n",
    "# ========================================================= 全局显示设置 pandas，使用方法:\n",
    "# 列名与数据对其显示\n",
    "pd.set_option('display.unicode.ambiguous_as_wide', True)\n",
    "pd.set_option('display.unicode.east_asian_width', True)\n",
    "#设置value的显示长度为100，默认为50\n",
    "pd.set_option('max_colwidth',100)\n",
    "# 显示所有列\n",
    "pd.set_option('display.max_columns', None)\n",
    "# 显示所有行\n",
    "pd.set_option('display.max_rows', None)\n",
    "# ========================================================= 分时\n",
    "# stock_zh_a_minute_df = ak.stock_zh_a_minute(symbol='sz000876', period='1', adjust=\"qfq\")\n",
    "# print(stock_zh_a_minute_df)\n",
    "# —————————————————————— 日线\n",
    "stock_zh_index_daily_df = ak.stock_zh_index_daily(symbol=\"sh601288\")\n",
    "print(stock_zh_index_daily_df.shape)\n",
    "df=stock_zh_index_daily_df.astype('float64')\n",
    "df['volume']=df['volume'].map('{:,.2f}'.format)\n",
    "display(df.head())\n",
    "# =========================================================\n",
    "df.to_csv(r'C:\\Users\\hp\\Desktop\\akshare_601288.csv')\n"
   ]
  },
  {
   "cell_type": "code",
   "execution_count": 1,
   "metadata": {},
   "outputs": [
    {
     "name": "stdout",
     "output_type": "stream",
     "text": [
      "(4, 2)\n"
     ]
    },
    {
     "data": {
      "text/html": [
       "<div>\n",
       "<style scoped>\n",
       "    .dataframe tbody tr th:only-of-type {\n",
       "        vertical-align: middle;\n",
       "    }\n",
       "\n",
       "    .dataframe tbody tr th {\n",
       "        vertical-align: top;\n",
       "    }\n",
       "\n",
       "    .dataframe thead th {\n",
       "        text-align: right;\n",
       "    }\n",
       "</style>\n",
       "<table border=\"1\" class=\"dataframe\">\n",
       "  <thead>\n",
       "    <tr style=\"text-align: right;\">\n",
       "      <th></th>\n",
       "      <th>A</th>\n",
       "      <th>B</th>\n",
       "    </tr>\n",
       "  </thead>\n",
       "  <tbody>\n",
       "    <tr>\n",
       "      <th>0</th>\n",
       "      <td>1</td>\n",
       "      <td>5</td>\n",
       "    </tr>\n",
       "    <tr>\n",
       "      <th>1</th>\n",
       "      <td>2</td>\n",
       "      <td>6</td>\n",
       "    </tr>\n",
       "    <tr>\n",
       "      <th>2</th>\n",
       "      <td>3</td>\n",
       "      <td>7</td>\n",
       "    </tr>\n",
       "    <tr>\n",
       "      <th>3</th>\n",
       "      <td>4</td>\n",
       "      <td>8</td>\n",
       "    </tr>\n",
       "  </tbody>\n",
       "</table>\n",
       "</div>"
      ],
      "text/plain": [
       "   A  B\n",
       "0  1  5\n",
       "1  2  6\n",
       "2  3  7\n",
       "3  4  8"
      ]
     },
     "metadata": {},
     "output_type": "display_data"
    }
   ],
   "source": [
    "import pandas as pd\n",
    "# df=pd.read_csv(r'C:\\Users\\hp\\Desktop\\akshare_601288.csv')\n",
    "df=pd.DataFrame({\"A\":[1,2,3,4],\"B\":[5,6,7,8]})\n",
    "print(df.shape)\n",
    "display(df)\n",
    "pd.DataFrame()"
   ]
  }
 ],
 "metadata": {
  "kernelspec": {
   "display_name": "Python 3",
   "language": "python",
   "name": "python3"
  },
  "language_info": {
   "codemirror_mode": {
    "name": "ipython",
    "version": 3
   },
   "file_extension": ".py",
   "mimetype": "text/x-python",
   "name": "python",
   "nbconvert_exporter": "python",
   "pygments_lexer": "ipython3",
   "version": "3.7.7"
  }
 },
 "nbformat": 4,
 "nbformat_minor": 4
}
