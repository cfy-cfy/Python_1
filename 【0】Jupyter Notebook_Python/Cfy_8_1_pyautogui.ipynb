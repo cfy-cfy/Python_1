{
 "cells": [
  {
   "cell_type": "code",
   "execution_count": null,
   "metadata": {
    "code_folding": [
     0
    ]
   },
   "outputs": [],
   "source": [
    "# 【0】pyautogui模块语法_1：python -m pip install pyautogui\n",
    "import pyautogui\n",
    "from PIL import Image\n",
    "import timeit\n",
    "'''______________________(1) 鼠标控制  _________________________'''\n",
    "# print(pyautogui.position())            # 获取鼠标当前位置\n",
    "# print(pyautogui.onScreen(100,200))     # 判断坐标是否在屏幕范围内\n",
    "# print(pyautogui.size())                # 获取屏幕尺寸（分辨率×分辨率）\n",
    "\n",
    "sizex, sizey = pyautogui.size()  # 保存屏幕尺寸\n",
    "print(sizex, sizey)\n",
    "# pyautogui.moveTo(sizex/2,sizey/2,duration=1)   # 绝对位置移动，移动至屏幕正中心，鼠标移动过渡时间duration设为1秒\n",
    "# pyautogui.moveRel(100, -200, duration=0.5)     # 相对位置移动，向右100、向上200，鼠标移动过渡时间duration设为0.5秒\n",
    "# pyautogui.click(sizex/2,sizey/2, duration=0.5) # 移动至屏幕中心点击一下左键，过渡时间0.5秒\n",
    "# pyautogui.click(button='right')                # 不指定x、y，在当前位置点击一下右键\n",
    "\n",
    "# —————— 移动至(100,100)点击3次左键，点击间隔0.1s，鼠标移动过渡时间0.5秒\n",
    "# pyautogui.click(100,100, clicks=3,interval=0.1,duration=0.5)\n",
    "\n",
    "# —————— 移动至(100,100)点击2次右键，点击间隔0.5s，鼠标移动过渡时间0.2秒\n",
    "# pyautogui.click(100,100, clicks=2,interval=0.5,button='right',duration=0.2)\n",
    "\n",
    "# pyautogui.scroll(2)              # 鼠标位置不动，向上回滚2个单位，项目文档对滚动量参数说明不详\n",
    "# pyautogui.scroll(-10,1000,700)   # 鼠标移动至(1000,700)，前下滚动10个单位\n",
    "\n",
    "# pyautogui.dragTo(sizex/2,sizey/2)                        # 将鼠标从当前位置拖至屏幕中心，默认左键\n",
    "# pyautogui.dragRel(-100,200,duration=0.5,button='right')  # 将鼠标从当前位置向左100像素、向右200像素拖动，过渡时间0.5秒，指定右键\n",
    "'''______________________ (2) 键盘控制 _________________________'''\n",
    "# pyautogui.press('a')                              # 按字母A键，字母支持大小写\n",
    "# pyautogui.press(['p','y','space'], interval=0.1)  # 传入键名列表（按键p、按键y、空格），按键之间间隔0.1秒（默认0）\n",
    "# pyautogui.typewrite('hello, PyAutoGUI!\\n')\n",
    "# pyautogui.typewrite(['s','r','f','space'], interval=0.1)\n",
    "#  pyautogui.hotkey('ctrl', 'shift', 'esc') #调出任务管理器\n",
    "'''______________________ (3) 消息窗口 _________________________'''\n",
    "# pyautogui.alert(text='警告',title='PyAutoGUI消息框',button='OK')\n",
    "# pyautogui.confirm(text='请选择',title='PyAutoGUI消息框',buttons=['1','2','3'])\n",
    "# pyautogui.prompt(text='请输入',title='PyAutoGUI消息框',default='请输入')\n",
    "# pyautogui.password(text='输入密码',title='PyAutoGUI消息框',default='',mask='*')\n",
    "\n",
    "'''______________________ (4)  截图相关 _________________________'''\n",
    "# PyAutoGUI提供了screenshot()函数进行屏幕截图，返回是Image对象，这是在Pillow库中定义的，\n",
    "# 因此需要安装Pillow库才能正常工作。\n",
    "# pyautogui.screenshot(r'C:\\Users\\hp\\Desktop\\shot.png',region=(1000,600,600,400))\n",
    "# im = pyautogui.screenshot(region=(0, 0, 500 ,400))        # 截取区域的左上角XY坐标值和宽度、高度传入截取\n",
    "# im.save(r'C:\\Users\\hp\\Desktop\\shot_1.png')                # 保存图片\n",
    "\n",
    "# im = pyautogui.screenshot(r'C:\\Users\\hp\\Desktop\\shot_1.png')  # 整屏截屏\n",
    "# om = im.crop((10, 50,100, 110))                               # 整屏图片上截取图标图片\n",
    "# om.save(r'C:\\Users\\hp\\Desktop\\testing.png')                   # 保存图标\n",
    "#——————————————————————————————————————————————————————\n",
    "loc = pyautogui.locateCenterOnScreen(r\"C:\\Users\\hp\\Desktop\\pic.png\") # region参数限制查找范围，加快查找速度\n",
    "print(loc)\n",
    "pyautogui.moveTo(loc, duration=0.5)         # 移动鼠标\n",
    "pyautogui.rightClick()                      # 点击\n",
    "\n",
    "# coords = pyautogui.locateOnScreen(r'C:\\Users\\hp\\Desktop\\pic.png')\n",
    "# print(coords)\n",
    "# x, y = pyautogui.center(coords)\n",
    "# pyautogui.rightClick(x, y)"
   ]
  },
  {
   "cell_type": "code",
   "execution_count": null,
   "metadata": {
    "code_folding": [
     0
    ]
   },
   "outputs": [],
   "source": [
    "# 【0】pyautogui模块语法_2：\n",
    "import pyautogui\n",
    "from PIL import Image\n",
    "import time\n",
    "coords = pyautogui.locateOnScreen(r'C:\\Users\\hp\\Desktop\\TBpic.png')\n",
    "time.sleep(2)\n",
    "print(coords)\n",
    "x, y = pyautogui.center(coords)\n",
    "pyautogui.rightClick(x, y)\n",
    "# pyautogui.moveTo(x,y)\n",
    "# pyautogui.dragTo(x=x+258, y=y, duration=3,button='left')"
   ]
  }
 ],
 "metadata": {
  "kernelspec": {
   "display_name": "Python 3",
   "language": "python",
   "name": "python3"
  },
  "language_info": {
   "codemirror_mode": {
    "name": "ipython",
    "version": 3
   },
   "file_extension": ".py",
   "mimetype": "text/x-python",
   "name": "python",
   "nbconvert_exporter": "python",
   "pygments_lexer": "ipython3",
   "version": "3.7.7"
  }
 },
 "nbformat": 4,
 "nbformat_minor": 4
}
