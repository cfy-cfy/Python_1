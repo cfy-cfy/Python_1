{
 "cells": [
  {
   "cell_type": "code",
   "execution_count": null,
   "metadata": {
    "code_folding": [
     0
    ]
   },
   "outputs": [],
   "source": [
    "# 【0】正则简介：\n",
    "'''1.查找一个匹配项\n",
    "search： 查找任意位置的匹配项\n",
    "match： 必须从字符串开头匹配\n",
    "fullmatch： 整个字符串与正则完全匹配\n",
    "\n",
    "2.查找多个匹配项\n",
    "findall： 从字符串任意位置查找，返回一个列表,一次性生成在内存中\n",
    "finditer：从字符串任意位置查找，返回一个迭代器,使用时一点一点生成出来的，内存使用更优\n",
    "\n",
    "3.分割\n",
    "re.split(pattern, string, maxsplit=0, flags=0) 函数：用 pattern 分开 string ，\n",
    "maxsplit表示最多进行分割次数， flags表示模式，就是上面我们讲解的常量！\n",
    "\n",
    "4.替换\n",
    "re.sub(pattern, repl, string, count=0, flags=0) 函数参数讲解：repl替换掉string中被pattern匹配的字符，\n",
    "count表示最大替换次数，flags表示正则表达式的常量。\n",
    "值得注意的是：sub函数中的入参：repl替换内容既可以是字符串，也可以是一个函数哦！\n",
    "如果repl为函数时，只能有一个入参：Match匹配对象。\n",
    "\n",
    "re.subn(pattern, repl, string, count=0, flags=0) 函数与 re.sub函数 功能一致，\n",
    "只不过返回一个元组 (字符串, 替换次数)。\n",
    "\n",
    "(?:pattern)\t匹配pattern但不获取匹配的子字符串（shy groups），也就是说这是一个非获取匹配，不存储匹配的子字符串\n",
    "            用于向后引用。这在使用或字符“(\\|)”来组合一个模式的各个部分是很有用。例如“industr(?:y\\|ies)”\n",
    "            就是一个比“industry\\|industries”更简略的表达式。\n",
    "(?=pattern)\t正向肯定预查（look ahead positive assert），在任何匹配pattern的字符串开始处匹配查找字符串。\n",
    "            这是一个非获取匹配，也就是说，该匹配不需要获取供以后使用。例如，“Windows(?=95\\|98\\|NT\\|2000)”\n",
    "            能匹配“Windows2000”中的“Windows”，但不能匹配“Windows3.1”中的“Windows”。预查不消耗字符，\n",
    "            也就是说，在一个匹配发生后，在最后一次匹配之后立即开始下一次匹配的搜索，而不是从包含预查的字符之后开始。\n",
    "(?!pattern)\t正向否定预查（negative assert），在任何不匹配pattern的字符串开始处匹配查找字符串。这是一个非获取匹配，\n",
    "            也就是说，该匹配不需要获取供以后使用。例如“Windows(?!95\\|98\\|NT\\|2000)”能匹配“Windows3.1”中的\n",
    "            “Windows”，但不能匹配“Windows2000”中的“Windows”。预查不消耗字符，也就是说，在一个匹配发生后，\n",
    "            在最后一次匹配之后立即开始下一次匹配的搜索，而不是从包含预查的字符之后开始\n",
    "(?<=pattern)\t反向（look behind）肯定预查，与正向肯定预查类似，只是方向相反。\n",
    "                例如，“(?<=95\\|98\\|NT\\|2000)Windows”能匹配“2000Windows”中的“Windows”，\n",
    "                但不能匹配“3.1Windows”中的“Windows”。\n",
    "(?<!pattern)\t反向否定预查，与正向否定预查类似，只是方向相反。例如“(?<!95\\|98\\|NT\\|2000)Windows”\n",
    "                能匹配“3.1Windows”中的“Windows”，但不能匹配“2000Windows”中的“Windows”。\n",
    "'''\n",
    "\n"
   ]
  },
  {
   "cell_type": "code",
   "execution_count": null,
   "metadata": {
    "code_folding": [
     0
    ]
   },
   "outputs": [],
   "source": [
    "# （一）正则：search、group、span、finditer、findall、compile、split、match、fullmatch、subn、sub\n",
    "import re\n",
    "'''_______________1 search span group 查找第一个匹配串/重复第N个括号的内容_______________'''\n",
    "# s = 'i love python very much python'\n",
    "# pat = 'python' \n",
    "# r = re.search(pat,s)\n",
    "# print(r.span()) #(7,13)\n",
    "# print(r.group()) \n",
    "\n",
    "# print(re.search(r'(a)(b)\\2','abb'))           # 表示重复第二个括号的内容\n",
    "# print(re.search(r'(a)(b)(c)\\3','abcc'))       # 表示重复第三个括号的内容\n",
    "# print(re.search(r'(a)(b)\\2(c)','abbc'))\n",
    "'''_______________2 finditer  group  查找所有1_______________'''\n",
    "# s = '山东省潍坊市青州第1中学高三1班'\n",
    "# pat = '1'\n",
    "# r = re.finditer(pat,s)  #返回的是迭代器，需要遍历\n",
    "# for i in r:\n",
    "#     print(i)\n",
    "#     print(i.group())\n",
    "'''_______________3 findall   \\d匹配数字[0-9]_______________'''\n",
    "# s = '一共20行代码运行时间13.59s'\n",
    "# pat1 = r'\\d+' \n",
    "# pat2 = r'\\d+\\.?\\d+' \n",
    "# r1 = re.findall(pat1,s)  # 返回的是列表\n",
    "# r2 = re.findall(pat2,s)\n",
    "# print(r1,'\\n',r2)       \n",
    "'''_______________4 compile findall search  ^匹配字符串的开头_______________'''\n",
    "# s = 'This module provides regular expression matching operations similar to those found in Perl'\n",
    "# pat = r'^[emrt]'         # 查找以 e m r t开头\n",
    "# r1 = re.findall(pat,s)   # 因为字符串的开头是字符`T`，不在emrt匹配范围内，所以返回为空\n",
    "# r2 = re.compile(pat,re.I).findall(s)   # 忽略大小写\n",
    "# r3 = re.compile(pat,re.I).search(s)   # 忽略大小写\n",
    "# print(r1,'\\n',r2,'\\n',r3)                \n",
    "'''_______________6 findall 只捕获单词，去掉空格_______________'''\n",
    "# s = 'This module provides regular expression matching operations similar to those found in Perl'\n",
    "# pat = r'\\s?([a-zA-Z]+)'  \n",
    "# r = re.findall(pat,s)\n",
    "# print(r)\n",
    "'''_______________7 使用split函数直接分割单词_______________'''\n",
    "# s = 'This module provides regular expression matching operations similar to those found in Perl'\n",
    "# pat = r'\\s'  \n",
    "# r = re.split(pat,s)\n",
    "# print(r)\n",
    "'''_______________8 split match 提取以m或t开头的单词，忽略大小写_______________'''\n",
    "# s = 'This module provides regular expression matching operations similar to those found in Perl'\n",
    "# pat = r'\\s+'  \n",
    "# r = re.split(pat,s)\n",
    "# res = [i for i in r if re.match(r'[mMtT]',i)] \n",
    "# print(res)\n",
    "'''_______________8 查找和匹配_______________'''\n",
    "# def reg():\n",
    "#     text=\"a猪哥大帅b，猪哥大帅b\"\n",
    "#     pattern=r'猪哥大帅b'\n",
    "#     print(re.search(pattern,text).group())\n",
    "#     print(re.match(pattern,text))           # 要从头开始匹配，而字符串开头多了个字母a\n",
    "#     print(re.fullmatch(pattern,text))       # 需要完全相同，故也不匹配\n",
    "# reg()\n",
    "'''_______________9 非贪心匹配_______________'''\n",
    "# content='<h>ddedadsad</h><div>graph</div>bb<div>math</div>cc'\n",
    "# pat=re.compile(r\"<div>(.*?)</div>\")  \n",
    "# m=pat.findall(content)\n",
    "# print(m)\n",
    "'''_______________10 替换匹配的子串sub 、 subn_______________'''\n",
    "# content=\"hello 12345, hello 456321\"    \n",
    "# pat=re.compile(r'\\d+') #要替换的部分\n",
    "# m=pat.sub(\"666\",content)\n",
    "# print(m)\n",
    "'''————————————'''\n",
    "# text='1猪哥大帅b，2猪哥大帅b，3猪哥大帅b'\n",
    "# pattern=r'，'\n",
    "# repl='、'\n",
    "# print(re.subn(pattern,repl,text,count=1,flags=re.IGNORECASE))\n",
    "#与  re.sub函数 功能一致，只不过返回一个元组 (字符串, 替换次数)。\n",
    "'''_______________11 爬取百度首页标题_______________'''\n",
    "# from urllib import request\n",
    "# data=request.urlopen(\"http://www.baidu.com/\").read().decode()\n",
    "# pat=r'<title>(.*?)</title>'\n",
    "# result=re.search(pat,data)\n",
    "# print(result)\n",
    "# print(result.group())\n",
    "'''————————'''\n",
    "# result=re.findall(pat,data)\n",
    "# print(result)"
   ]
  },
  {
   "cell_type": "code",
   "execution_count": null,
   "metadata": {
    "code_folding": [
     0
    ]
   },
   "outputs": [],
   "source": [
    "# （二）正则：findall与finditer区别\n",
    "# re.findall()如果可以匹配返回的是一个列表，re.finditer()返回的是一个迭代器，需要对其进行遍历，才能获取数据。\n",
    "import re\n",
    "def main1():\n",
    "    content = '八神是我的好朋友，他的手机电话是18381665314， 他的QQ是1911966573， 他女朋友的电话是18381665315, QQ:1911966574 ！'\n",
    "    regex = re.compile(r'\\d{11}')\n",
    "    tels = regex.findall(content)\n",
    "    print(tels)\n",
    "main1()\n",
    "'''————————————————————————————————————————————————'''\n",
    "def main2():\n",
    "    content = '八神是我的好朋友，他的手机电话是18381665314， 他的QQ是1911966573， 他女朋友的电话是18381665315, QQ:1911966574 ！'\n",
    "    regex = re.compile(r'\\d{11}')\n",
    "    tels_obj = regex.finditer(content)\n",
    "    tels_list = []\n",
    "    for tel in tels_obj:\n",
    "        tels_list.append(tel.group())\n",
    "    print(tels_list)\n",
    "main2()"
   ]
  },
  {
   "cell_type": "code",
   "execution_count": null,
   "metadata": {
    "code_folding": [
     0
    ]
   },
   "outputs": [],
   "source": [
    "# （三）正则：compile、match、groups、group、findall、finditer、\n",
    "import re\n",
    "str1='28/35°C'\n",
    "'''—————————— match + group + groups 返回尺度——————————'''\n",
    "# result0=re.compile('(-?[0-9]+)/(-?[0-9]+)°C',re.I).match(str1)  # match 要从头开始匹配\n",
    "# print(result0.groups())\n",
    "# print(result0.groups()[0])\n",
    "# print(result0.groups()[1])\n",
    "\n",
    "# print(result0.group())\n",
    "# print(result0.group(1))\n",
    "# print(result0.group(2))\n",
    "'''—————————— search + group + groups 返回尺度——————————'''\n",
    "result0=re.search('(-?[0-9]+)°C',str1)   # 不需要从头开始匹配\n",
    "print(result0.span())\n",
    "print(result0.groups())\n",
    "print(result0.groups()[0])\n",
    "\n",
    "print(result0.group(1))\n",
    "print(result0.group())\n",
    "'''—————————— findall 返回列表——————————'''\n",
    "# result1=re.compile('(\\d{2})',re.I).findall( str1)\n",
    "# print(result1)\n",
    "# '''————————————————————'''\n",
    "# result2=re.findall( '(\\d{2})',str1)\n",
    "# print(result2)\n",
    "# '''—————————— finditer 返回迭代器——————————'''\n",
    "# result3=re.finditer('(\\d{2})', str1)\n",
    "# for r in result3:\n",
    "#     print(r.group())"
   ]
  },
  {
   "cell_type": "code",
   "execution_count": null,
   "metadata": {
    "code_folding": [
     0
    ]
   },
   "outputs": [],
   "source": [
    "# （四）正则 flag常量: DOTALL、IGNORECASE、ASCII、MULTILINE\n",
    "'''\n",
    "re.IGNORECASE 或简写为 re.I\n",
    "re.ASCII 或简写为 re.A\n",
    "re.DOTALL 或简写为 re.S:匹配所有，包括换行符\\n。默认模式下.是不能匹配行符\\n的。\n",
    "re.MULTILINE 或简写为 re.M:默认模式下是不支持换行符特性的，比如：行开头 和 行结尾，而多行模式下是支持匹配行开头的\n",
    "re.VERBOSE 或简写为 re.X : 详细模式，可以在正则表达式中加注解！\n",
    "'''\n",
    "import re\n",
    "'''——————————— re.DOTALL —————————————'''\n",
    "# text='猪哥\\n最帅'\n",
    "# pattern='(.*)'\n",
    "# print(\"默认模式：\",re.compile(pattern,flags=re.DOTALL).match(text).groups())\n",
    "# print(\"默认模式：\",re.findall(pattern,text))\n",
    "# print(\"匹配所有模式：\",re.findall(pattern,text,flags=re.DOTALL))\n",
    "'''——————————— re.MULTILINE —————————————'''\n",
    "# text='猪哥\\n最帅'\n",
    "# pattern=r\"^最帅\"\n",
    "# print(\"默认模式：\",re.findall(pattern,text))\n",
    "# print(\"多行模式：\",re.findall(pattern,text,flags=re.MULTILINE))\n",
    "'''——————————— re.ASCII —————————————'''\n",
    "# text='a猪哥b最帅c'\n",
    "# pattern=r\"\\w+\"\n",
    "# print(\"Unicode模式：\",re.findall(pattern,text))\n",
    "# print(\"ASCII模式：\",re.findall(pattern,text,flags=re.ASCII))\n",
    "'''——————————— re.VERBOSE —————————————'''\n",
    "# text='猪哥最帅'\n",
    "# pattern=r'''^猪哥 # 人物\n",
    "#             最帅 # 形容词\n",
    "#          '''\n",
    "# print(\"默认模式：\",re.findall(pattern,text))\n",
    "# print(\"详细模式：\",re.findall(pattern,text,flags=re.VERBOSE))"
   ]
  },
  {
   "cell_type": "code",
   "execution_count": null,
   "metadata": {
    "code_folding": [
     0
    ]
   },
   "outputs": [],
   "source": [
    "# （五）正则 替换：sub 、subn\n",
    "import re\n",
    "text='1猪哥大帅b,2猪哥大帅b,3猪哥大帅b,'\n",
    "pattern=r','\n",
    "'''——————————— sub ———————————'''\n",
    "# print(re.sub(pattern,'、',text,1,flags=re.IGNORECASE))\n",
    "'''——————————— sub ———————————'''\n",
    "# repl=lambda x :'、 ' if x.group(0) ==',' else ' '\n",
    "# print(re.sub(pattern,repl,text,2,flags=re.IGNORECASE))\n",
    "'''——————— subn 只不过返回一个元组 (字符串, 替换次数) ———————'''\n",
    "# print(re.subn(pattern,'、',text,2,flags=re.IGNORECASE))\n",
    "\n"
   ]
  },
  {
   "cell_type": "code",
   "execution_count": null,
   "metadata": {
    "code_folding": [
     0
    ]
   },
   "outputs": [],
   "source": [
    "# （6）正则：提取括号内容\n",
    "import re\n",
    "retext=\"<script>document.cookie=('y')+('u')+('a')+('n')+('r')+('e')+('n')+('x')+('u')+('e')+('_')+('c')+('o')+('o')+('k')+('i')+('e')+('=')+('1')+('6')+('1')+('4')+('2')+('5')+('9')+('0')+('1')+('2')+('|')+('Q')+('t')+('P')+('k')+('b')+('M')+('X')+('t')+('5')+('E')+('c')+('h')+('A')+('T')+('O')+('O')+('R')+('m')+('o')+('4')+('6')+('r')+('v')+('1')+('X')+('8')+('S')+('L')+('W')+('h')+('D')+('c')+('I')+('R')+('F')+('h')+('Z')+('F')+('Y')+('T')+('Y')+('L')+('V')+('N')+('R')+('S')+('g')+('F')+('Y')+('f')+('M')+('2')+('4')+('G')+('M')+('w')+('4')+('V')+('O')+('x')+('k')+('E')+('F')+('M')+('i')+('3')+('J')+('I')+('i')+('m')+('c')+('l')+('f')+('T')+('t')+('1')+('C')+('I')+('p')+('d')+('O')+('9')+('D')+('6')+('O')+('O')+('r')+('y')+('R')+('B')+('8')+('Z')+('b')+('b')+('D')+('j')+('9')+('i')+('d')+('c')+('q')+('M')+('T')+('0')+('H')+('V')+('F')+('8')+('m')+('A')+('K')+('g')+('z')+('g')+('3')+('Y')+('3')+('Z')+('4')+('Q')+('H')+('H')+('Y')+('6')+('H')+('b')+('c')+('4')+('Q')+('A')+('O')+('z')+('G')+('g')+('L')+('2')+('7')+('M')+('d')+('n')+('U')+('0')+('L')+('f')+('M')+('p')+('2')+('k')+('5')+('V')+('w')+('t')+('i')+('R')+('g')+('5')+('t')+('c')+('n')+('2')+('G')+('n')+('i')+('t')+('T')+';path=/';location.href=location.pathname+location.search</script>\"\n",
    "# reg=re.compile(r\"'([a-zA-Z0-9=|_])'\")\n",
    "reg=re.compile(r\"\\('(\\w|\\W|=|\\|)'\\)\")\n",
    "results=reg.findall(retext)\n",
    "cookie=''.join(results)\n",
    "key,value=cookie.split('=')\n",
    "print(key)\n",
    "print(value)"
   ]
  }
 ],
 "metadata": {
  "kernelspec": {
   "display_name": "Python 3",
   "language": "python",
   "name": "python3"
  },
  "language_info": {
   "codemirror_mode": {
    "name": "ipython",
    "version": 3
   },
   "file_extension": ".py",
   "mimetype": "text/x-python",
   "name": "python",
   "nbconvert_exporter": "python",
   "pygments_lexer": "ipython3",
   "version": "3.7.7"
  }
 },
 "nbformat": 4,
 "nbformat_minor": 4
}
