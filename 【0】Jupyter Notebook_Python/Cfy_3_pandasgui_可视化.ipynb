{
 "cells": [
  {
   "cell_type": "code",
   "execution_count": null,
   "metadata": {
    "code_folding": [
     0
    ]
   },
   "outputs": [],
   "source": [
    "# 【0】pandasgui 可视化安装：\n",
    "pip3 install pandasgui\n",
    "#清华镜像\n",
    "pip3 install -i https://pypi.tuna.tsinghua.edu.cn/simple pandasgui\n",
    "\n",
    "2. 功能特点\n",
    "# ————————————————————————————————————————\n",
    "PandasGUI是一个交互式的数据操作界面，类似于Excel，但是其对于数据处理更加方便快捷，共拥有7项功能特点：\n",
    "    查看DataFrames和Series数据\n",
    "    交互式绘图\n",
    "    数据筛选\n",
    "    统计摘要\n",
    "    数据编辑和复制/粘贴\n",
    "    拖放导入CSV文件\n",
    "    搜索工具栏"
   ]
  },
  {
   "cell_type": "code",
   "execution_count": null,
   "metadata": {
    "code_folding": [
     0
    ]
   },
   "outputs": [],
   "source": [
    "# 【1】基础实例_1_——https://mp.weixin.qq.com/s/PWGjnk48LPFnZwbAVxmXEw\n",
    "'''会提示出错，from typing import Literal——因为只有python 3.8版本才有'''\n",
    "import pandas as pd\n",
    "import os\n",
    "import pandasgui as pdg\n",
    "fp=os.path.join(os.path.expanduser(\"~\"),\"Desktop\",\"各部门对生产部的评分情况.xlsx\")\n",
    "# print(fp)\n",
    "df=pd.read_excel(fp,sheet_name='DATA',usecols='B:D',header=3)\n",
    "print(df.shape)\n",
    "display(df.head())\n",
    "pdg.show(df,settings={'block':True})\n"
   ]
  },
  {
   "cell_type": "code",
   "execution_count": 1,
   "metadata": {
    "code_folding": [
     0
    ]
   },
   "outputs": [
    {
     "name": "stderr",
     "output_type": "stream",
     "text": [
      "PandasGUI INFO — pandasgui.gui — Opening PandasGUI\n"
     ]
    },
    {
     "data": {
      "text/plain": [
       "<pandasgui.gui.PandasGui at 0xace30d0>"
      ]
     },
     "execution_count": 1,
     "metadata": {},
     "output_type": "execute_result"
    }
   ],
   "source": [
    "# 【1】基础实例_2\n",
    "import pandas as pd\n",
    "from typing_extensions import Literal\n",
    "from pandasgui import show\n",
    "\n",
    "df = pd.DataFrame({'a':[1,2,3], 'b':[4,5,6], 'c':[7,8,9]})\n",
    "show(df)\n"
   ]
  }
 ],
 "metadata": {
  "kernelspec": {
   "display_name": "Python 3",
   "language": "python",
   "name": "python3"
  },
  "language_info": {
   "codemirror_mode": {
    "name": "ipython",
    "version": 3
   },
   "file_extension": ".py",
   "mimetype": "text/x-python",
   "name": "python",
   "nbconvert_exporter": "python",
   "pygments_lexer": "ipython3",
   "version": "3.8.8"
  }
 },
 "nbformat": 4,
 "nbformat_minor": 4
}
