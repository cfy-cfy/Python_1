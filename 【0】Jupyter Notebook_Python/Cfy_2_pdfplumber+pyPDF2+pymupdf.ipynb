{
 "cells": [
  {
   "cell_type": "code",
   "execution_count": null,
   "metadata": {
    "code_folding": [
     0
    ]
   },
   "outputs": [],
   "source": [
    "# （一。1）1处理.pdf文件_ pdfplumber：可以更好地读取PDF文件内容和提取PDF中的表格；\n",
    "import pdfplumber\n",
    "from openpyxl import *\n",
    "import pandas as pd\n",
    "import time\n",
    "start=time.time()\n",
    "'''______________________1）利用 pdfplumber提取文字______________________'''\n",
    "# with pdfplumber.open(r\"C:\\Users\\hp\\Desktop\\603259药明康德1.pdf\") as p:\n",
    "#     page = p.pages[1]             #第2页\n",
    "#     print(page.extract_text())\n",
    "'''______________________2）利用 pdfplumber提取表格并写入pandas/excel______________________'''\n",
    "'''* extract_table()：如果一页有一个表格； '''\n",
    "'''* extract_tables()：如果一页有多个表格；''' \n",
    "with pdfplumber.open(r\"C:\\Users\\hp\\Desktop\\603259药明康德1.pdf\") as p:\n",
    "    page = p.pages[1]\n",
    "    table=page.extract_tables()\n",
    "wb=Workbook()\n",
    "wb.active.title='tables'\n",
    "ws=wb.active\n",
    "for t in table:\n",
    "    df=pd.DataFrame(t[1:],columns=t[0])\n",
    "    display(df)\n",
    "    for row in t :\n",
    "        if not \"\".join([str(i) for i in row]) == \"\":    #去除空行\n",
    "            ws.append(row)                              #写入.xlsx\n",
    "wb.save(r\"C:\\Users\\hp\\Desktop\\603259药明康德1.xlsx\")\n",
    "end=time.time()\n",
    "print(\"完成用时:\",(end-start),'秒')"
   ]
  },
  {
   "cell_type": "code",
   "execution_count": 1,
   "metadata": {
    "code_folding": [
     0
    ]
   },
   "outputs": [],
   "source": [
    "# （一。2）pymupdf 模块： 输出图片\n",
    "'''pip install pymupdf '''\n",
    "import fitz\n",
    "import re\n",
    "import os\n",
    "\n",
    "file_path = r'C:\\Users\\hp\\Desktop\\extract_Pic.pdf'\n",
    "dir_path = r'C:\\Users\\hp\\Desktop' # 存放图片的文件夹\n",
    "\n",
    "def pdf2pic(path, pic_path):\n",
    "    checkXO = r\"/Type(?= */XObject)\"\n",
    "    checkIM = r\"/Subtype(?= */Image)\"\n",
    "    pdf = fitz.open(path)\n",
    "    lenXREF = pdf._getXrefLength()\n",
    "    imgcount = 0\n",
    "    for i in range(1, lenXREF):\n",
    "        text = pdf._getXrefString(i)\n",
    "        isXObject = re.search(checkXO, text)\n",
    "        isImage = re.search(checkIM, text)\n",
    "        if not isXObject or not isImage:\n",
    "            continue\n",
    "        imgcount += 1\n",
    "        pix = fitz.Pixmap(pdf, i)\n",
    "        new_name = f\"img_{imgcount}.png\"\n",
    "        if pix.n < 5:\n",
    "            pix.writePNG(os.path.join(pic_path, new_name))\n",
    "        else:\n",
    "            pix0 = fitz.Pixmap(fitz.csRGB, pix)\n",
    "            pix0.writePNG(os.path.join(pic_path, new_name))\n",
    "            pix0 = None\n",
    "        pix = None\n",
    "\n",
    "pdf2pic(file_path, dir_path)"
   ]
  },
  {
   "cell_type": "code",
   "execution_count": null,
   "metadata": {
    "code_folding": [
     0
    ]
   },
   "outputs": [],
   "source": [
    "# （二）2处理.pdf文件_PyPDF2：可以更好的读取、写入、分割、合并PDF文件；——合并\n",
    "# from PyPDF2 import PdfFileReader, PdfFileWriter\n",
    "# import os\n",
    "# pdfpath=r'C:\\Users\\hp\\Desktop\\pdf合并'\n",
    "# pdf_writer =PdfFileWriter()\n",
    "# for i in range(1,len(os.listdir(pdfpath))+1):\n",
    "#     pdf_reader = PdfFileReader(pdfpath +\"\\PyPDF{}.pdf\".format(i))      \n",
    "#     pdf_reader = PdfFileReader(open(pdfpath +\"\\PyPDF{}.pdf\".format(i),'rb') \n",
    "#     page_num=pdf_reader.getNumPages()\n",
    "#     for page in range(page_num):\n",
    "#         pdf_writer.addPage(pdf_reader.getPage(page))\n",
    "# with open(r'C:\\Users\\hp\\Desktop\\合并.pdf','wb') as p:\n",
    "#     pdf_writer.write(p)\n",
    "# print('ok')"
   ]
  },
  {
   "cell_type": "code",
   "execution_count": null,
   "metadata": {
    "code_folding": [
     0
    ]
   },
   "outputs": [],
   "source": [
    "# （二）3处理.pdf文件_PyPDF2：可以更好的读取、写入、分割、合并PDF文件；——拆分\n",
    "# from PyPDF2 import PdfFileReader, PdfFileWriter\n",
    "# pdf_reader = PdfFileReader(r\"C:\\Users\\hp\\Desktop\\603259药明康德.pdf\")\n",
    "# for page in range(pdf_reader.getNumPages()):\n",
    "#     pdf_writer = PdfFileWriter()\n",
    "#     pdf_writer.addPage(pdf_reader.getPage(page))\n",
    "#     with open(r'C:\\Users\\hp\\Desktop\\药明康德{}.pdf'.format(page),'wb') as pdf:\n",
    "#         pdf_writer.write(pdf)\n",
    "# print('ok')"
   ]
  },
  {
   "cell_type": "code",
   "execution_count": null,
   "metadata": {
    "code_folding": [
     0
    ]
   },
   "outputs": [],
   "source": [
    "# （二）4处理.pdf文件_PyPDF2：可以更好的读取、写入、分割、合并PDF文件；——旋转\n",
    "'''偶数页我们逆时针旋转90°，对于奇数页我们顺时针旋转90°； 注意：旋转的角度只能是90的倍数'''\n",
    "# from PyPDF2 import PdfFileReader, PdfFileWriter\n",
    "# pdf_reader = PdfFileReader(r\"C:\\Users\\hp\\Desktop\\药明康德.pdf\")\n",
    "# pdf_writer = PdfFileWriter()\n",
    "# for page in range(pdf_reader.getNumPages()):\n",
    "#     if page % 2 == 0:\n",
    "#         rotation_page = pdf_reader.getPage(page).rotateCounterClockwise(90)\n",
    "#     else:\n",
    "#         rotation_page = pdf_reader.getPage(page).rotateClockwise(90)\n",
    "#     pdf_writer.addPage(rotation_page)\n",
    "# with open(r'C:\\Users\\hp\\Desktop\\药明康德旋转.pdf','wb') as pdf:\n",
    "#     pdf_writer.write(pdf)\n",
    "# print('ok')"
   ]
  },
  {
   "cell_type": "code",
   "execution_count": null,
   "metadata": {
    "code_folding": [
     0
    ]
   },
   "outputs": [],
   "source": [
    "# （二）5处理.pdf文件_PyPDF2：可以更好的读取、写入、分割、合并PDF文件；——排序\n",
    "# from PyPDF2 import PdfFileReader,PdfFileWriter\n",
    "# pdf_writer=PdfFileWriter()\n",
    "# pdf_reader=PdfFileReader(r'C:/Users/hp/Desktop/药明康德.pdf')\n",
    "# for page in range(pdf_reader.getNumPages()-1,-1,-1):\n",
    "#     pdf_writer.addPage(pdf_reader.getPage(page))\n",
    "# with open(r'C:/Users/hp/Desktop/药明康德倒序.pdf','wb') as pdf:\n",
    "#     pdf_writer.write(pdf)\n",
    "# print('ok')"
   ]
  },
  {
   "cell_type": "code",
   "execution_count": null,
   "metadata": {
    "code_folding": [
     0
    ]
   },
   "outputs": [],
   "source": [
    "# （二）6处理.pdf文件_PyPDF2：可以更好的读取、写入、分割、合并PDF文件；——加密\n",
    "# from PyPDF2 import PdfFileReader, PdfFileWriter\n",
    "# pdf_reader = PdfFileReader(r'C:/Users/hp/Desktop/药明康德.pdf')\n",
    "# pdf_writer=PdfFileWriter()\n",
    "# for page in range(pdf_reader.getNumPages()):\n",
    "#     pdf_writer.addPage(pdf_reader.getPage(page))\n",
    "# pdf_writer.encrypt('12345')\n",
    "# with open(r'C:/Users/hp/Desktop/药明康德.pdf','wb') as pdf:\n",
    "#     pdf_writer.write(pdf)\n",
    "# print('ok')"
   ]
  },
  {
   "cell_type": "code",
   "execution_count": null,
   "metadata": {
    "code_folding": [
     0
    ]
   },
   "outputs": [],
   "source": [
    "# （二）7处理.pdf文件_PyPDF2：可以更好的读取、写入、分割、合并PDF文件；——解密\n",
    "# from PyPDF2 import PdfFileReader, PdfFileWriter\n",
    "# pdf_reader = PdfFileReader(r'C:/Users/hp/Desktop/药明康德.pdf')\n",
    "# pdf_reader.decrypt('12345')\n",
    "# pdf_writer=PdfFileWriter()\n",
    "# for page in range(pdf_reader.getNumPages()):\n",
    "#     pdf_writer.addPage(pdf_reader.getPage(page))\n",
    "# with open(r'C:/Users/hp/Desktop/药明康德.pdf','wb') as pdf:\n",
    "#     pdf_writer.write(pdf)\n",
    "# print('ok')"
   ]
  },
  {
   "cell_type": "code",
   "execution_count": null,
   "metadata": {
    "code_folding": [
     0
    ]
   },
   "outputs": [],
   "source": [
    "# （二）7处理.pdf文件_PyPDF2：可以更好的读取、写入、分割、合并PDF文件；——加水印\n",
    "# from PyPDF2 import PdfFileReader, PdfFileWriter\n",
    "# from copy import copy\n",
    "# water=PdfFileReader(r'C:\\Users\\hp\\Desktop\\水印.pdf')\n",
    "# water_page = water.getPage(0)\n",
    "# pdf_reader=PdfFileReader(r'C:\\Users\\hp\\Desktop\\药明康德.pdf')\n",
    "# pdf_writer=PdfFileWriter()\n",
    "# for page in range(pdf_reader.getNumPages()):\n",
    "#     my_page=pdf_reader.getPage(page)\n",
    "#     new_page=copy(water_page)\n",
    "#     new_page.mergePage(my_page)\n",
    "#     pdf_writer.addPage(new_page)\n",
    "# with open(r'C:/Users/hp/Desktop/药明康德加水印.pdf','wb') as pdf:\n",
    "#     pdf_writer.write(pdf)\n",
    "# print('ok')\n"
   ]
  }
 ],
 "metadata": {
  "kernelspec": {
   "display_name": "Python 3",
   "language": "python",
   "name": "python3"
  },
  "language_info": {
   "codemirror_mode": {
    "name": "ipython",
    "version": 3
   },
   "file_extension": ".py",
   "mimetype": "text/x-python",
   "name": "python",
   "nbconvert_exporter": "python",
   "pygments_lexer": "ipython3",
   "version": "3.7.7"
  }
 },
 "nbformat": 4,
 "nbformat_minor": 4
}
