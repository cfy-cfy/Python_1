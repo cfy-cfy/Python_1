{
 "cells": [
  {
   "cell_type": "code",
   "execution_count": null,
   "metadata": {
    "code_folding": [
     0
    ]
   },
   "outputs": [],
   "source": [
    "# 【0】全局显示设置 pandas，使用方法:pd.set_option\n",
    "import akshare as ak\n",
    "import pandas as pd\n",
    "# —————————————————————— 全局设置 pandas，使用方法:\n",
    "# 全部重置\n",
    "# pd.reset_option('all')\n",
    "\n",
    "# 打印当前设置并重置所有选项\n",
    "# pd.describe_option()\n",
    "# pd.describe_option('rows')\n",
    "\n",
    "# 配置info()的输出\n",
    "# pd.set_option('display.max_info_columns',200)\n",
    "# pd.set_option('display.max_info_rows',5)\n",
    "\n",
    "# 更改绘图方法：默认使用matplotlib，但是可以安装plotly, bokenh等第三方绘图库，并设置为pandas的绘图方法\n",
    "# pd.set_option('plotting.backend','altair')\n",
    "\n",
    "# 列名与数据对其显示\n",
    "pd.set_option('display.unicode.ambiguous_as_wide', True)\n",
    "pd.set_option('display.unicode.east_asian_width', True)\n",
    "\n",
    "#设置value的显示长度为100，默认为50\n",
    "# pd.set_option('max_colwidth',100)\n",
    "# pd.options.display.max_colwidth=100\n",
    "\n",
    "# 显示所有列\n",
    "pd.set_option('display.max_columns', None)\n",
    "\n",
    "# 显示所有行\n",
    "pd.set_option('display.max_rows', None)\n",
    "# pd.set_option('display.max_rows', 200)    # 指定最多显示行\n",
    "# pd.set_option('display.min_rows', 200)    # 指定最小显示行\n",
    "# ——————————————————————\n",
    "# pd.set_option()\n",
    "# pd.get_option()\n",
    "# pd.options.display.max_rows         # 显示所有行\n",
    "# pd.options.display.max_rows=200     # 指定最多显示行\n",
    "# pd.options.display.min_rows=10      # 指定最小显示行\n",
    "\n",
    "# 重置显示行数\n",
    "# pd.reset_option('display.max_rows')\n",
    "#  ——————————————————————\n",
    "# 设置float列的精度\n",
    "# pd.set_option('display.precision', 2)\n",
    "# pd.options.display.precision=2\n",
    "\n",
    "# 数字格式化显示/设置数字精度/百分号格式化\n",
    "# pd.set_option('display.float_format', '{:,}'.format)\n",
    "# pd.set_option('display.float_format', '{:,.2f}'.format)\n",
    "# pd.set_option('display.float_format', '{:.2f}%'.format)\n",
    "\n",
    "# ——————————————————————\n",
    "# stock_zh_a_minute_df = ak.stock_zh_a_minute(symbol='sz000876', period='1', adjust=\"qfq\")\n",
    "# print(stock_zh_a_minute_df)\n",
    "# ——————————————————————\n",
    "stock_zh_index_daily_df = ak.stock_zh_index_daily(symbol=\"sh600332\")\n",
    "display(stock_zh_index_daily_df)"
   ]
  },
  {
   "cell_type": "code",
   "execution_count": null,
   "metadata": {
    "code_folding": [
     0
    ]
   },
   "outputs": [],
   "source": [
    "# （一）Pandas_1：生成+ 查数据类型+ 重命名列名+ 前后缀+ 行/列序反转+ 重置索引+ 依数据类型选择+ 转换值类型\n",
    "import pandas as pd\n",
    "import numpy as np\n",
    "\n",
    "# print(pd.__version__)      # 输入下面的命令查询pandas版本：\n",
    "# print(pd.show_versions())  # pandas所依赖的模块的版本\n",
    "\n",
    "column = [\"Python_1\",\"Java_2\",\"Excel_3\"]\n",
    "dates = pd.date_range(\"20200202\",periods=6)\n",
    "df = pd.DataFrame(np.random.randint(low=70,high=100,size=(6,3)),index=dates,columns=column)\n",
    "display(df)\n",
    "'''______________ DataFrame 生成 _______________'''\n",
    "# df=pd.DataFrame({'A':[123,789],'B':[456,987]},index=list('ab'))     # 字典\n",
    "# df = pd.DataFrame([('bird', 389.0),('bird', 24.0),('mammal', 80.5),('mammal', np.nan)],\n",
    "#                   index=['falcon', 'parrot', 'lion', 'monkey'],columns=('class', 'max_speed'))  # 列表\n",
    "# df=pd.DataFrame(np.random.randint(1,100,(3,4)),index=[\"a\",\"b\",\"c\"],columns=list('ABCD'))    # numpy\n",
    "'''____________________ 查看数据类型 ____________________'''\n",
    "# df[\"Excel\"].apply(type) \n",
    "'''____________________ 重命名列名 ____________________'''\n",
    "# df=df.rename({'Java_2':'JavaScript','Excel_3':'VBA'},axis=1)\n",
    "# df.columns=['Python3.0','JavaScript','VBA']\n",
    "# df.columns = df.columns.str.replace(\"_\",\"/\")\n",
    "# display(df)\n",
    "'''____________________ 添加前缀或者后缀 add_prefix/add_suffix ____________________'''\n",
    "# df=df.add_prefix('No:')\n",
    "# df=df.add_suffix('/')\n",
    "# display(df)\n",
    "'''____________________ 行序/列序反转 ____________________'''\n",
    "# display(df.loc[::-1])\n",
    "# display(df.loc[:, ::-1])\n",
    "'''____________________ 重置索引 ____________________'''\n",
    "# display(df.loc[::-1].reset_index(drop=True,axis=1).head())\n",
    "'''____________________ 通过数据类型选择列 ____________________'''\n",
    "# df['rank']=[False,True]*3\n",
    "# display(df)\n",
    "# print(df.dtypes)\n",
    "# display(df.select_dtypes(include='bool',exclude='int32'))\n",
    "# display(df.select_dtypes(include='number'))\n",
    "'''____________________ 将数值型转换为字符型 ____________________'''\n",
    "# print(df.dtypes)\n",
    "# df=df.astype(str)  # 将数值型转换为字符型\n",
    "# print(df.dtypes)\n",
    "# df.Java_2=pd.to_numeric(df.Java_2,errors='coerce').fillna(0)  # 将字符型转换为数值型,无效数据转换为NaN:\n",
    "# df=df.apply(pd.to_numeric,errors='coerce').fillna(0)\n",
    "# print(df.dtypes)\n"
   ]
  },
  {
   "cell_type": "code",
   "execution_count": null,
   "metadata": {
    "code_folding": [
     0
    ]
   },
   "outputs": [],
   "source": [
    "#（一）Pandas_2 基础：查询、插入行列、分组累加cumsum、抽样sample、Pct_change、Rank、melt宽表变成窄表\n",
    "# import pandas as pd\n",
    "# import numpy as np\n",
    "# value1=np.random.randint(20,size=10)\n",
    "# value2=np.random.randint(1,20,size=10)\n",
    "# years=np.arange(2010,2020)\n",
    "# groups = ['A','A','B','A','B','B','C','A','C','C']\n",
    "# df=pd.DataFrame({'group':groups,'years':years,'value1':value1,'value2':value2})\n",
    "# df=pd.DataFrame(years.reshape(2,5),index=list('ab'),columns=list('ABCDE'))\n",
    "'''——————————————查询Query、where、isin——————————————'''\n",
    "# df=df.query('value1> 10')                               \n",
    "# df=df.query('year > 2016')\n",
    "# df=df.where(df['value1']>10,0)  # 将df中列value_1里小于5的值替换为0\n",
    "\n",
    "# year=['2013','2015','2018']              # 查看某列中是否包含某个字符串\n",
    "# df['isin']=df.years.isin(year) \n",
    "# print(df.years.isin(year) )\n",
    "# df=df[df.years.isin(year)]      # 筛选df中years列值在['2013','2015','2018']里的行：\n",
    "'''——————————————插入列 insert——————————————————————'''\n",
    "# df.insert(3,'value3',np.random.randint(10,size=10))     \n",
    "# df['value4']=np.random.randint(10,size=10)              \n",
    "# df['value5']=pd.Series(np.random.randint(10,size=10),index=df.index)\n",
    "'''———————————————插入行 append—————————————————————'''\n",
    "# df.loc['a']=np.random.randint(10,size=4)                           \n",
    "# df.loc['b']=pd.Series(np.random.randint(10,size=4) ,index=df.columns)     \n",
    "# df=df.append(pd.Series(np.random.randint(10,size=4),index=df.columns,name='c'))\n",
    "'''—————————————————Cumsum累加—————————————————'''\n",
    "# df['cumsum']=df[['group','value1']].groupby('group').cumsum()        # 分别对(A, B, C)进行值的累加\n",
    "'''———————————Sample用于从df中随机选取若干个行或列————————————'''\n",
    "# df=df.sample(n=5)                     # 随机抽取5行\n",
    "# df=df.sample(frac=0.6,random_state=2) # 随机抽取60%的行，并且设置随机数种子，每次能抽取到一样的样本\n",
    "'''————————Pct_change用于表示当前元素与前面元素的相差百分比————————'''\n",
    "# print(df.value1.pct_change())\n",
    "'''—————————————Rank是一个排名函数——————————————————'''\n",
    "# df['rank']=df['value1'].rank(ascending=False)\n",
    "\n",
    "'''—————————Melt用于将宽表变成窄表,将列名转换为列数据———————————'''\n",
    "# df = pd.DataFrame({'city': {0: 'a', 1: 'b', 2: 'c'},\n",
    "#                      'day1': {0: 1, 1: 3, 2: 5},\n",
    "#                      'day2': {0: 2, 1: 4, 2: 6}})\n",
    "# display(df)\n",
    "# df=pd.melt(df, id_vars=['city'])  # id_vars 不需要被转换的列名\n",
    "# display(df)"
   ]
  },
  {
   "cell_type": "code",
   "execution_count": null,
   "metadata": {
    "code_folding": [
     0
    ]
   },
   "outputs": [],
   "source": [
    "#（一）Pandas_3 分组groupby\n",
    "import pandas as pd\n",
    "import numpy as np\n",
    "df=pd.DataFrame({'班级':['A','B','A','B'],'姓名':['超云','马超','玛丽苏','马良'],\n",
    "                '语文':np.random.randint(1,100,4),'数学':np.random.rand(4)*100}).round()\n",
    "'''———————————————分组groupby—————————————————'''\n",
    "'''单列作为分组字段，不设置索引'''\n",
    "# df=df.groupby('班级',as_index=False).mean()\n",
    "'''单列字段的转换格式作为分组字段'''\n",
    "# df=df.groupby(df['姓名'].str[0]).mean()\n",
    "'''字典，根据索引对记录进行映射分组'''\n",
    "# person={0:'武将',1:'武将',2:'武将',3:'谋士'}\n",
    "# df=df.groupby(person).mean()\n",
    "'''函数，根据函数对索引的执行结果进行分组'''\n",
    "# df=df.groupby(lambda x : '奇人'if x%2 else '偶人' ).mean()\n",
    "'''———————————————转换apply—————————————————'''\n",
    "'''分组之后的第二个步骤即为分组转换操作，也就是应用（apply）一定的函数得到相应的结果。常用的执行操作方式有4种：\n",
    "直接加聚合函数，但只能实现单一功能，常用聚合函数包括：mean/sum/median/min/max/last/first等，最为简单直接的聚合方式\n",
    "agg(或aggregate)，执行更为丰富的聚合功能，常用列表、字典等形式作为参数'''\n",
    "\n",
    "'''例如需要对如上数据表中两门课程分别统计平均分和最低分'''\n",
    "# df=df.groupby(['班级','姓名']).agg([np.mean,min])\n",
    "'''对语文课求平均分和最低分，而数学课求平均分和最高分'''\n",
    "# df=df.groupby(['班级','姓名']).agg({'语文':[np.mean,min],'数学':[np.mean,max]})\n",
    "'''计算每个班级语文平均分与数学平均分之差'''\n",
    "# df=df.groupby('班级').apply(lambda x : x['语文']-x['数学'])\n",
    "'''对比个人成绩与班级平均分'''\n",
    "# dfm=df.groupby(['班级']).mean().rename(columns={'语文':'语文平均分','数学':'数学平均分'})\n",
    "# df=pd.merge(df,dfm,left_on='班级',right_index=True)\n",
    "\n",
    "# display(df)"
   ]
  },
  {
   "cell_type": "code",
   "execution_count": null,
   "metadata": {
    "code_folding": [
     0
    ]
   },
   "outputs": [],
   "source": [
    "#（一）Pandas_4 函数：分组groupby、筛选、排序、项数统计、去重复、apply、map、applymap、替换 replace\n",
    "import pandas as pd\n",
    "import numpy as np\n",
    "value1=np.random.randint(20,size=10)\n",
    "value2=np.random.randint(1,20,size=10)\n",
    "years=np.arange(2010,2020)\n",
    "groups = ['A','A','B','A','B','B','C','A','C','C']\n",
    "df=pd.DataFrame({'group':groups,'years':years,'value1':value1,'value2':value2})\n",
    "'''————————————筛选——————————————————'''\n",
    "'''逻辑运算符号：>  >=   <   <=   ==   !=\n",
    "复合逻辑运算符：&   |   ~\n",
    "逻辑运算函数：query()、isin()、between()'''\n",
    "# df=df[(df['value1']>10) & (df['value2']>10)]\n",
    "# df=df.query('value1>10 & value2>10')\n",
    "# df=df[df['value1'].between(10,20)]\n",
    "\n",
    "# df= df[(df[\"group\"].str.contains('A'))]\n",
    "# df=df.query('group==[\"A\",\"B\"]')\n",
    "# df = df[df[\"group\"].isin([\"A\",\"B\"])]\n",
    "\n",
    "# df=df[~df[\"group\"].isnull()]\n",
    "'''————————————分组——————————————————'''\n",
    "# df['cumsum']=df[['group','value1']].groupby('group').cumsum()\n",
    "# df=df.groupby('group',as_index=False).cumsum()\n",
    "'''—————————————排序—————————————————'''\n",
    "# df=df.sort_values('value1',axis=0,ascending=True)\n",
    "# df=df.sort_index(axis=0,ascending=True)\n",
    "'''—————————————项数统计—————————————————'''\n",
    "# df[\"group\"].value_counts()\n",
    "'''—————————————去重复—————————————————'''\n",
    "# df.drop_duplicates(['group'],inplace=True)\n",
    "# df[\"group\"].unique()\n",
    "'''————————————apply、map、applymap——————————————'''\n",
    "'''map'''\n",
    "# df[\"value3\"]=pd.Series(list(map(lambda x,y:x*y,df['value1'],df['value2'])),index=df.index)\n",
    "# df[\"value4\"]=list(map(lambda x,y:x*y,df['value1'],df['value2']))\n",
    "'''apply'''\n",
    "# def func(x):\n",
    "#     if x%2==0:\n",
    "#         return '偶'\n",
    "#     else:\n",
    "#         return '奇'\n",
    "# df['判断1']=df['value1'].apply(func)\n",
    "# df['判断2']=df['value2'].map(func)\n",
    "\n",
    "print(df[[\"value1\",\"value2\"]].apply(lambda x :x.mean()))\n",
    "df=df[[\"value1\",\"value2\"]].mean()\n",
    "print(df)\n",
    "# df=df.groupby('group').mean()\n",
    "# print(df)\n",
    "'''applymap'''\n",
    "# df=df[[\"value1\",\"value2\"]].applymap(lambda x : x+100)\n",
    "'''————————————替换 replace————————————————'''\n",
    "# df['group'].replace('A',np.nan,inplace=True) \n",
    "'''——————————————————————————'''\n",
    "display(df)"
   ]
  },
  {
   "cell_type": "code",
   "execution_count": null,
   "metadata": {
    "code_folding": [
     0
    ]
   },
   "outputs": [],
   "source": [
    "#（一）Pandas_4 函数：copy、\n",
    "'''___________________ copy  ___________________'''\n",
    "# import pandas as pd\n",
    "# data = pd.Series(['India', 'Pakistan', 'China', 'Mongolia'])\n",
    "# data1= data\n",
    "# data1[0]='USA'\n",
    "# display(data)              # data 跟着 data1 发生了改变\n",
    "'''——————————————————————'''\n",
    "# new = data.copy()\n",
    "# new[1]='Changed value'\n",
    "# display(new)               # data 没有跟着 new 发生改变\n",
    "# display(data)\n",
    "'''___________________   ___________________'''\n"
   ]
  },
  {
   "cell_type": "code",
   "execution_count": null,
   "metadata": {
    "code_folding": [
     0
    ]
   },
   "outputs": [],
   "source": [
    "#（一）Pandas_5 合并：append、join、concat、merge; 分类显示 where、交换两列数据\n",
    "import pandas as pd\n",
    "import numpy as np\n",
    "data2=pd.DataFrame({\"id\":np.arange(102,105),\"profit\":[1,10,2]})\n",
    "display(data2)\n",
    "data3=pd.DataFrame({\"id\":np.arange(103,106),\"money\":[106,51,8]})\n",
    "display(data3)\n",
    "'''————————————merge(inner/left/right/outer)————————————————'''\n",
    "#how决定要执行的合并类型：left（使用左框架中的键）、right、inner（交集，默认）、outer（并集）\n",
    "# data_new=pd.merge(data2,data3,on='id',how='inner')    # 默认取交集\n",
    "# display(data_new)\n",
    "# data_new=data2.merge(data3,on='id',how='inner')\n",
    "# display(data_new)\n",
    "\n",
    "# data_new=pd.merge(data2,data3,on='id',how='outer')      # 取并集，没有值的地方填充NaN \n",
    "# display(data_new)\n",
    "\n",
    "# data_new=data2.merge(data3,how='left',on='id')\n",
    "# display(data_new)\n",
    "# data_new=data2.merge(data3,how='right',on='id')\n",
    "# display(data_new)\n",
    "'''————————————append————————————————'''\n",
    "# data_new=data2.append(data3)\n",
    "# display(data_new)\n",
    "'''————————————join————————————————'''\n",
    "data_new=data2.join(data3,lsuffix='_data', rsuffix='_data2')\n",
    "display(data_new)\n",
    "# data_new=data2.set_index('id').join(data3.set_index('id'))\n",
    "# display(data_new)\n",
    "'''————————————分类显示 where————————————————'''\n",
    "# data2['level'] = np.where(data2['profit']>=5, 'high', 'low')\n",
    "'''————————————交换两列数据————————————————'''\n",
    "# data2=data2[data2.columns[[1,0]]]\n",
    "# display(data2)\n"
   ]
  },
  {
   "cell_type": "code",
   "execution_count": null,
   "metadata": {
    "code_folding": [
     0
    ]
   },
   "outputs": [],
   "source": [
    "#（一）Pandas_6 绘图、透视表pivot_table\n",
    "%matplotlib inline\n",
    "import pandas as pd\n",
    "import numpy as np\n",
    "\n",
    "value1=np.random.randint(20,size=10)\n",
    "value2=np.random.randint(1,20,size=10)\n",
    "years=np.arange(2010,2020)\n",
    "groups = ['A','A','B','A','B','B','C','A','C','C']\n",
    "df=pd.DataFrame({'group':groups,'years':years,'value1':value1,'value2':value2})\n",
    "display(df)\n",
    "# df['value1'].hist()\n",
    "# df['value1'].plot()\n",
    "\n",
    "'''透视表pivot_table'''\n",
    "pd.pivot_table(df,index='group',values=['value1','value2'])\n"
   ]
  },
  {
   "cell_type": "code",
   "execution_count": null,
   "metadata": {
    "code_folding": [
     0
    ]
   },
   "outputs": [],
   "source": [
    "# （一）Pandas_7 `：筛选`数据_比较运算+范围运算+字符筛选+逻辑运算+比较函数+pply和isin函数\n",
    "'''\n",
    "1.比较运算：==、<、>、>=、<=、!=\n",
    "2.范围运算：between(left,right)\n",
    "3.字符筛选:str.contains(pattern或字符串,na=False)\n",
    "4.逻辑运算：&（and）、|（or）、not(取反)\n",
    "5.比较函数：eq, ne, le, lt, ge, gt（相当于==,=!，<=，<，>=，>）\n",
    "6.apply和isin函数\n",
    "'''\n",
    "import pandas as pd\n",
    "import numpy as np\n",
    "df={'dates':pd.date_range(\"20200502\",periods=10,freq=\"8D\"),\n",
    "    'id':['A001','B001','A001','C001','A001','E001','D001','A001','C001','E001'],\n",
    "      'amount':np.random.randint(1,1000,10)}\n",
    "data=pd.DataFrame(df)\n",
    "'''______________ 用比较运算符 _______________'''\n",
    "# data=data[data.id=='A001']\n",
    "# data=data[data.amount<=500]\n",
    "# data=data[data.amount>500]\n",
    "# data=data[data.id !='A001']\n",
    "'''______________ 用比较函数 _______________'''\n",
    "# data=data[data['id'].eq('A001')]\n",
    "# data=data[data['amount'].le(500)]\n",
    "# data=data[data['amount'].ge(500)]\n",
    "# data=data[data['id'].ne('A001')]\n",
    "'''______________ contain + isin _______________'''\n",
    "# data['id']=data['id'].values.astype(str)      #将该列转换为字符数据类型\n",
    "# data=data[data.id.str.contains('A001',na=False)]\n",
    "# data=data[data.id.isin(['A001'])]\n",
    "\n",
    "display(data)"
   ]
  },
  {
   "cell_type": "code",
   "execution_count": null,
   "metadata": {
    "code_folding": [
     0
    ]
   },
   "outputs": [],
   "source": [
    "#  （一）Pandas_8: 时间处理 date_range + util.testing.makeDateIndex + to_datetime后dt访问器 + DatetimeIndex \n",
    "import pandas as pd\n",
    "import numpy as np\n",
    "import datetime\n",
    "'''___________________________ pd.util.testing.makeDateIndex + resample ___________________________'''\n",
    "# df = pd.DataFrame(np.random.randint(1,10,size=(240,3)), columns = ['商品编码','商品销量','商品库存'])\n",
    "# df.index = pd.util.testing.makeDateIndex(240,freq='H')\n",
    "# # 10行，240小时，正好为 10 days:\n",
    "# day_df = df.resample(\"D\")[\"商品销量\"].sum().to_frame()  \n",
    "# display(day_df)\n",
    "\n",
    "'''________________ date_range + dt + DatetimeIndex + split + to_datetime _____________________'''\n",
    "\n",
    "data={'dates':pd.date_range(\"20200502\",periods=10,freq=\"8D\"),\n",
    "    'datetime':['08:00:00','12:05:00','20:00:00','09:05:00','10:00:00','22:25:00','21:05:00','07:55:00','11:36:00','13:56:00'],\n",
    "    'id':['A001','B001','A001','C001','A001','E001','D001','A001','C001','E001'],\n",
    "    'amount':np.random.randint(1,1000,10)}\n",
    "df=pd.DataFrame(data)\n",
    "\n",
    "df['year']=df['dates'].dt.year\n",
    "df['month']=pd.DatetimeIndex(df['dates'].astype(str)).month\n",
    "df['M']=pd.DatetimeIndex(df['dates']).month       # ok too\n",
    "df['day']=df['dates'].astype(str).str.split('-').apply(lambda x: x[-1])\n",
    "df['hour']=pd.to_datetime(df['datetime'].astype(str)).dt.hour\n",
    "df['H']=pd.to_datetime(df['datetime']).dt.hour    # ok too\n",
    "df['dtt']=df['dates'].astype(str)+\" \"+df['datetime']\n",
    "\n",
    "'''__________________ astype('datetime64') +pd.Timestamp _____________________________'''\n",
    "\n",
    "df['dtt']=df[\"dtt\"].astype('datetime64')     #如果已为日期格式则此步骤可省略\n",
    "df['dtt_D']=df['dtt'].dt.day\n",
    "df['dtt_M']=df.dtt.apply(lambda x: x.month)\n",
    "\n",
    "# s_date = datetime.datetime.strptime('2020-06-01', '%Y-%m-%d').date()  #起始日期\n",
    "# e_date = datetime.datetime.strptime('2020-07-01', '%Y-%m-%d').date()  #结束日期\n",
    "# df=df[(df.dtt>pd.Timestamp(s_date))&(df.dtt<pd.Timestamp(e_date))]\n",
    "# df=df[(df.dtt.lt(pd.Timestamp(e_date)))&(df.dtt.gt(pd.Timestamp(s_date)))]\n",
    "# df=df[df.dtt.between(pd.Timestamp(s_date),pd.Timestamp(e_date))]\n",
    "\n",
    "# df=df[df.dtt.apply(lambda x: x.year ==2020  and x.month==5)]\n",
    "# df=df[df.dtt.astype('str').str.contains('2020-06',na=False)]\n",
    "# df=df[df.dates.isin(['2020-06-03','2020-06-19'])]\n",
    "\n",
    "display(df)\n"
   ]
  },
  {
   "cell_type": "code",
   "execution_count": null,
   "metadata": {
    "code_folding": [
     0
    ]
   },
   "outputs": [],
   "source": [
    "# （一）Pandas_8: `小技巧 1_map映射 + 2_使用replace 和正则清洗数据 + 3：melt/pivot/pivot_table 透视数据\n",
    "import pandas as pd\n",
    "import numpy as np\n",
    "'''______________________ 小技巧1：如何使用map对某些列做特征工程？ ______________________'''\n",
    "# list1=[1,2,3,4,5]\n",
    "# print(list(map(lambda x:x*2,list1)))\n",
    "# ————————————————————————————————\n",
    "# def getlist(para):\n",
    "#     return para*3\n",
    "# print(list(map(getlist,list1)))\n",
    "# ————————————————————————————————\n",
    "# d = {\"gender\":[\"male\", \"female\", \"male\",\"female\"],\"color\":[\"red\", \"green\", \"blue\",\"green\"],\"age\":[25, 30, 15, 32]}\n",
    "# df = pd.DataFrame(d)\n",
    "# d = {\"male\": 0, \"female\": 1}\n",
    "# df[\"gender2\"] = df[\"gender\"].map(d)\n",
    "# display(df)\n",
    "'''______________________ 小技巧2：使用 replace 和正则清洗数据 ______________________'''\n",
    "# d = {\"customer\": [\"A\", \"B\", \"C\", \"D\"],\"sales\":[\"1100\", \"950.5RMB\", \"$400\", \" $1250.75\"]}\n",
    "# df = pd.DataFrame(d)\n",
    "# df[\"sales\"] = df[\"sales\"].replace(\"[$RMB]\",\"\", regex = True).astype(\"float\")\n",
    "# display(df)\n",
    "'''______________________ 小技巧3：使用 melt/pivot /pivot_table 数据透视 ______________________'''\n",
    "d = {\"district_code\": [12345, 56789, 101112, 131415],\"apple\": [5.2, 2.4, 4.2, 3.6],\n",
    "\"banana\": [3.5, 1.9, 4.0, 2.3],\"orange\": [8.0, 7.5, 6.4, 3.9]}  \n",
    "df = pd.DataFrame(d)\n",
    "display(df)\n",
    "# 若melt方法，参数value_vars不赋值，默认剩余所有列都是value_vars\n",
    "# df_melt= df.melt(id_vars = \"district_code\",var_name = \"fruit_name\",value_name = \"price\")\n",
    "# display(df_melt)\n",
    "# ————————————————————————————-melt 是融化数据\n",
    "df_melt=df.melt(id_vars=['district_code'], value_vars=['apple','orange'],var_name = \"fruit_name\",value_name = \"price\")\n",
    "display(df_melt)\n",
    "# ————————————————————————————-pivot 结冰数据，还原melt后的数据\n",
    "# df_pivot1=df_melt.pivot(index='district_code',columns='fruit_name')\n",
    "# display(df_pivot1)\n",
    "# ————————————————————————————- pivot_table  对数据聚合\n",
    "df_melt1=df_melt.append(df_melt) \n",
    "display(df_melt1)\n",
    "df_pivott=df_melt1.pivot_table(index='district_code',columns='fruit_name',aggfunc=np.sum)\n",
    "display(df_pivott)"
   ]
  },
  {
   "cell_type": "code",
   "execution_count": null,
   "metadata": {
    "code_folding": [
     0
    ]
   },
   "outputs": [],
   "source": [
    "# （一）Pandas_8: 技巧4：知year和dayofyear,转datetime + 5：出现次数统计 + 6：所有列 null 值个数 + 7:生成时间序列\n",
    "import pandas as pd\n",
    "import numpy as np\n",
    "'''______________________小技巧4_已知year和dayofyear,转datetime? ______________________'''\n",
    "# d = {\"year\": [2019, 2019, 2020],\"day_of_year\": [350, 365, 1]}\n",
    "# df = pd.DataFrame(d)\n",
    "# df[\"int_number\"] =df[\"year\"]*1000 + df[\"day_of_year\"]\n",
    "# df[\"date\"]=pd.to_datetime(df[\"int_number\"],format = \"%Y%j\")\n",
    "# display(df)\n",
    "'''______________________小技巧5：如何将分类中出现次数较少的值归为 others？______________________'''\n",
    "# d = {\"name\":['Jone','Alica','Emily','Robert','Tomas','Zhang','Liu','Wang','Jack','Wsx','Guo'],\n",
    "#      \"categories\": [\"A\", \"C\", \"A\", \"D\", \"A\", \"B\", \"B\", \"C\", \"A\", \"E\", \"F\"]}\n",
    "# df = pd.DataFrame(d)\n",
    "# ——————————————————————————————————————\n",
    "# frequencies = df[\"categories\"].value_counts()\n",
    "# print(frequencies)\n",
    "# ——————————————————————————————————————\n",
    "# frequencies = df[\"categories\"].value_counts(normalize = True)\n",
    "# print(frequencies)\n",
    "# threshold = 0.1\n",
    "# small_categories = frequencies[frequencies < threshold].index\n",
    "# small_categories\n",
    "# df[\"categories\"] = df[\"categories\"].replace(small_categories, \"Others\")\n",
    "# display(df)\n",
    "'''______________________小技巧6：统计处理DataFrame 所有列 null 值个数______________________'''\n",
    "# d = {\"name\":['Jone','Alica','Emily',np.nan,'Tomas','Zhang','Liu','Wang','Jack','Wsx','Guo'],\n",
    "#      \"categories\": [1, 3, 1, 4, 1, 2,np.nan , 3, np.nan, 5, 6]}\n",
    "# df = pd.DataFrame(d)\n",
    "# display(df)\n",
    "# print(df.isnull().sum())\n",
    "# df['categories'] = df['categories'].transform(lambda val: val.fillna(val.mean())) # 方法1\n",
    "# df=df.fillna(0)  # 方法2\n",
    "# display(df)\n",
    "'''______________________小技巧7：如何用 Pandas 快速生成时间序列数据？______________________'''\n",
    "# pd.util.testing.makeTimeDataFrame(10)\n",
    "# df = pd.DataFrame(np.random.randint(1,1000,size=(10,3)),columns = ['商品编码','商品销量','商品库存'])\n",
    "# df.index = pd.util.testing.makeDateIndex(10,freq='D')\n",
    "# display(df)"
   ]
  },
  {
   "cell_type": "code",
   "execution_count": null,
   "metadata": {
    "code_folding": [
     0
    ]
   },
   "outputs": [],
   "source": [
    "# （一）Pandas_8:技巧8：重排 DataFrame 的列 + 9：调整步长resample + 10：统计英语英语单词个数\n",
    "import pandas as pd\n",
    "'''______________________小技巧8：如何重新排序 DataFrame 的列？______________________'''\n",
    "# df = pd.DataFrame(np.random.randint(0,20,size=(5,7)) ,columns=list('ABCDEFG'))\n",
    "# display(df)\n",
    "# df_1 = df[[\"A\", \"C\", \"D\", \"F\", \"E\", \"G\", \"B\"]]\n",
    "# display(df_1)\n",
    "# cols = df.columns[[0, 2 , 3, 5, 4, 6, 1]]\n",
    "# df_2 = df[cols]\n",
    "# display(df_2)\n",
    "'''______________________小技巧9：如何完成数据下采样，调整步长由小时为天？______________________'''\n",
    "# df = pd.DataFrame(np.random.randint(1,10,size=(240,3)), columns = ['商品编码','商品销量','商品库存'])\n",
    "# df.index = pd.util.testing.makeDateIndex(240,freq='H')\n",
    "# display(df)\n",
    "# # 10行，240小时，正好为 10 days:\n",
    "# day_df = df.resample(\"D\")[\"商品销量\"].sum().to_frame()  \n",
    "# display(day_df)\n",
    "'''______________________小技巧 10：如何快速拿到数据最多的 3 个分类？______________________'''\n",
    "# d = {\"name\":['Jone','Alica','Emily','Robert','Tomas','Zhang','Liu','Wang','Jack','Wsx','Guo'],\n",
    "#      \"categories\": [\"A\", \"C\", \"A\", \"D\", \"A\", \"B\", \"B\", \"C\", \"A\", \"E\", \"C\"]}\n",
    "# df = pd.DataFrame(d)\n",
    "# frequencies = df[\"categories\"].value_counts()\n",
    "# print(frequencies)\n",
    "# top_genre = frequencies[0:2].index\n",
    "# print(top_genre)\n",
    "# df_top = df[df[\"categories\"].isin(top_genre)]\n",
    "# display(df_top)\n",
    "'''______________________小技巧 10：统计英语英语单词个数______________________'''\n",
    "d = {\"name\":['Jone Guo Wsx','Alica Wsx','Emily','Robert Wsx','Tomas Zhang','Zhang'],\n",
    "     \"categories\": [\"A\", \"C\", \"A\", \"D\", \"A\", \"B\"]}\n",
    "df = pd.DataFrame(d)\n",
    "df[\"words_count\"] = df[\"name\"].str.count(\" \") + 1\n",
    "display(df[[\"name\",\"words_count\"]])"
   ]
  },
  {
   "cell_type": "code",
   "execution_count": null,
   "metadata": {
    "code_folding": [
     0
    ]
   },
   "outputs": [],
   "source": [
    "# （一）Pandas_8: `技巧 12+13+14_求时分(HH:mm)的分钟差 to_datetime后dt 访问器 + DatetimeIndex + split\n",
    "import pandas as pd\n",
    "# df=pd.read_excel(r\"C:\\Users\\hp\\Desktop\\E_Cfy_4_Pandas时间格式.xlsx\")\n",
    "d={'a':['08:00:00','12:05:00','20:00:00'],'b':['09:05:00','10:00:00','23:25:00']}\n",
    "df=pd.DataFrame(d)\n",
    "'''______________________ 小技巧 12 dt 访问器求时分(HH:mm)的分钟差 ______________________'''\n",
    "# # 直接使用 astype 转为 str 类型：\n",
    "# df['a']=df['a'].astype(str)\n",
    "# df['b']=df['b'].astype(str)\n",
    "# # 然后转化为 datetime 类型：\n",
    "# df['atime'] = pd.to_datetime(df['a'])\n",
    "# df['btime'] = pd.to_datetime(df['b'])\n",
    "# # 然后使用 dt 访问器转化为分钟数：\n",
    "# df['amins'] = df['atime'].dt.hour * 60 + df['atime'].dt.minute \n",
    "# df['bmins'] = df['btime'].dt.hour * 60 + df['btime'].dt.minute\n",
    "# # 最后求分钟数差值：\n",
    "# df['mins'] = df['amins'] - df['bmins'] \n",
    "# display(df)\n",
    "'''______________________小技巧 13 转为 DatetimeIndex 求时分(HH:mm)的分钟差______________________'''\n",
    "# # 转化为 DatetimeIndex 类型后，直接获取 hour 和 minute 属性：\n",
    "# atime = pd.DatetimeIndex(df['a'].astype(str))\n",
    "# btime = pd.DatetimeIndex(df['b'].astype(str))\n",
    "# df['amins'] = atime.hour * 60 + atime.minute\n",
    "# df['bmins'] = btime.hour * 60 + btime.minute \n",
    "# display(df)\n",
    "'''______________________小技巧 14 split 求时分(HH:mm)的分钟差______________________'''\n",
    "# df['a'] = df['a'].astype(str)\n",
    "# df['b'] = df['b'].astype(str)\n",
    "# df['asplit'] = df['a'].str.split(':')\n",
    "# df['bsplit'] = df['b'].str.split(':')\n",
    "# df['amins'] = df['asplit'].apply(lambda x: int(x[0])*60 + int(x[1]))\n",
    "# df['bmins'] = df['bsplit'].apply(lambda x: int(x[0])*60 + int(x[1]))\n",
    "# display(df)"
   ]
  },
  {
   "cell_type": "code",
   "execution_count": null,
   "metadata": {
    "code_folding": [
     0
    ]
   },
   "outputs": [],
   "source": [
    "# （一）Pandas_8: 格式化Pandas的时间列\n",
    "import pandas as pd\n",
    "import datetime\n",
    "def series_dt_fmt(s:pd.Series,fmt:str)-> pd.Series: \n",
    "        st = pd.to_datetime(s)   \n",
    "        return st.apply(lambda t: datetime.datetime.strftime(t,fmt))\n",
    "    \n",
    "s = pd.Series(['2020-12-30 11:44:00','2020-12-30 11:20:10'])\n",
    "print(series_dt_fmt(s, '%H:%M'))\n"
   ]
  },
  {
   "cell_type": "code",
   "execution_count": null,
   "metadata": {
    "code_folding": [
     0
    ]
   },
   "outputs": [],
   "source": [
    "# （一）Pandas_8: 技巧15 _数据随机读取10%？ \n",
    "'''使用 skiprows 参数:\n",
    "x > 0 确保首行读入，\n",
    "np.random.rand() > 0.01 表示 99% 的数据都会被随机过滤掉\n",
    "言外之意，只有全部数据 10% 才有机会选入内存中。'''\n",
    "import pandas as pd\n",
    "import numpy as np\n",
    "  \n",
    "df = pd.read_excel(r\"C:\\Users\\hp\\Desktop\\E_Cfy_4_Pandas时间格式.xlsx\",skiprows =lambda x: x>0and np.random.rand() > 0.1)\n",
    "print(\"The shape of the df is {}.It has been reduced 100 times!\".format(df.shape))\n",
    "display(df)"
   ]
  },
  {
   "cell_type": "code",
   "execution_count": null,
   "metadata": {
    "code_folding": [
     0
    ]
   },
   "outputs": [],
   "source": [
    "# （一）Pandas_8: map + replace+melt + 已知 year 和 dayofyear，怎么转 datetime? + 将出现次数较少的值归为 others？\n",
    "import pandas as pd\n",
    "'''______________ (1)如何使用map对某些列做特征工程？  ______________'''\n",
    "# d = {\"gender\":[\"male\", \"female\", \"male\",\"female\"],\"color\":[\"red\", \"green\", \"blue\",\"green\"],\"age\":[25, 30, 15, 32]}\n",
    "# df = pd.DataFrame(d)\n",
    "# d = {\"male\": 0, \"female\": 1}\n",
    "# df[\"gender2\"] = df[\"gender\"].map(d)\n",
    "# display(df)\n",
    "'''______________ (2)使用 replace 和正则清洗数据  ______________'''\n",
    "# d = {\"customer\": [\"A\", \"B\", \"C\", \"D\"],\"sales\":[1100, \"950.5RMB\", \"$400\", \" $1250.75\"]}\n",
    "# df = pd.DataFrame(d)\n",
    "# df[\"sales\"] = df[\"sales\"].replace(\"[$,RMB]\",\"\", regex = True).astype(\"float\")\n",
    "# display(df)\n",
    "'''______________ (3)使用 melt 如何对数据透视分析？ ______________'''\n",
    "# d = {\"district_code\": [12345, 56789, 101112, 131415],\"apple\": [5.2, 2.4, 4.2, 3.6],\n",
    "#     \"banana\": [3.5, 1.9, 4.0, 2.3],\"orange\": [8.0, 7.5, 6.4, 3.9]}\n",
    "# df = pd.DataFrame(d)\n",
    "# df = df.melt(id_vars = \"district_code\",var_name = \"fruit_name\",value_name = \"price\")\n",
    "# display(df)\n",
    "'''______________ (4)已知 year 和 dayofyear，怎么转 datetime? ______________'''\n",
    "# d = {\"year\": [2019, 2019, 2020],\"day_of_year\": [350, 365, 1]}\n",
    "# df = pd.DataFrame(d)\n",
    "# df[\"int_number\"] =df[\"year\"]*1000 + df[\"day_of_year\"]\n",
    "# df[\"date\"]=pd.to_datetime(df[\"int_number\"],format = \"%Y%j\")\n",
    "# display(df)\n",
    "'''______________ (5)如何将分类中出现次数较少的值归为 others？ ______________'''\n",
    "# d = {\"name\":['Jone','Alica','Emily','Robert','Tomas','Zhang','Liu','Wang','Jack','Wsx','Guo'],\n",
    "#      \"categories\": [\"A\", \"C\", \"A\", \"D\", \"A\",  \"B\", \"B\", \"C\", \"A\", \"E\", \"F\"]}\n",
    "# df = pd.DataFrame(d)\n",
    "# frequencies = df[\"categories\"].value_counts(normalize = True)\n",
    "# threshold = 0.1\n",
    "# small_categories = frequencies[frequencies < threshold].index\n",
    "# df[\"categories\"] = df[\"categories\"] .replace(small_categories, \"Others\")\n",
    "# display(df)"
   ]
  },
  {
   "cell_type": "code",
   "execution_count": null,
   "metadata": {
    "code_folding": [
     0
    ]
   },
   "outputs": [],
   "source": [
    "#（二）Pandas_合并一个工作簿里多个工作表的数据\n",
    "# import pandas as pd\n",
    "# from openpyxl import *\n",
    "# wb=load_workbook(r'C:\\Users\\hp\\Desktop\\test1.xlsx')\n",
    "# n=0\n",
    "# df_new=pd.read_excel(r'C:\\Users\\hp\\Desktop\\test1.xlsx',sheet_name=n)\n",
    "# m=len(wb.sheetnames)-1\n",
    "# while n<m:\n",
    "#     n +=1\n",
    "#     df=pd.read_excel(r'C:\\Users\\hp\\Desktop\\test1.xlsx',sheet_name=n)\n",
    "#     df_new=df_new.append(df)\n",
    "# df_new=df_new.reset_index(drop=True)\n",
    "# display(df_new)\n",
    "# df_new.to_excel(r'C:\\Users\\hp\\Desktop\\test2.xlsx',encoding='gbk')"
   ]
  },
  {
   "cell_type": "code",
   "execution_count": null,
   "metadata": {
    "code_folding": [
     0
    ]
   },
   "outputs": [],
   "source": [
    "# （四）Pandas爬虫_案例1：抓取世界大学排名（1页数据）\n",
    "import pandas as pd \n",
    "url1 = 'http://www.compassedu.hk/qs'\n",
    "df1 = pd.read_html(url1)[0]  #0表示网页中的第一个Table\n",
    "df1.to_csv(r'C:\\Users\\hp\\Desktop\\世界大学综合排名.csv',index=0)"
   ]
  },
  {
   "cell_type": "code",
   "execution_count": null,
   "metadata": {
    "code_folding": [
     0
    ]
   },
   "outputs": [],
   "source": [
    "# （四）Pandas爬虫_案例2：抓取新浪财经基金重仓股数据（6页数据）\n",
    "import pandas as pd\n",
    "df2 = pd.DataFrame()\n",
    "for i in range(6):\n",
    "    url2 = 'http://vip.stock.finance.sina.com.cn/q/go.php/vComStockHold/kind/jjzc/index.phtml?p={page}'.format(page=i+1)\n",
    "    df3=pd.read_html(url2)[0]\n",
    "    df2=pd.concat([df2,df3.iloc[:,0:-1]])   # 去掉最后一列\n",
    "#     df2 = pd.concat([df2,pd.read_html(url2)[0]])\n",
    "    print('第{page}页抓取完成'.format(page = i + 1))\n",
    "df2.to_csv(r'C:\\Users\\hp\\Desktop\\新浪财经数据.csv',encoding='utf-8',index=0)"
   ]
  },
  {
   "cell_type": "code",
   "execution_count": null,
   "metadata": {
    "code_folding": [
     0
    ]
   },
   "outputs": [],
   "source": [
    "# （四）Pandas爬虫_案例3：抓取证监会披露的IPO数据（217页数据）\n",
    "'''注意的是，并不是所有表格都可以用pd.read_html爬取，有的网站表面上看起来是表格，但在网页源代码中不是table格式，\n",
    "而是list列表格式。这种表格则不适用read_html爬取，得用其他的方法，比如selenium'''\n",
    "import pandas as pd\n",
    "from pandas import DataFrame\n",
    "import time\n",
    "start = time.time() #程序计时\n",
    "df3 = DataFrame(data=None,columns=['公司名称','披露日期','上市地和板块','披露类型','查看PDF资料']) #添加列名\n",
    "for i in range(1,10):  \n",
    "    url3 ='http://eid.csrc.gov.cn/ipo/infoDisplay.action?pageNo=%s&temp=&temp1=&blockType=byTime'%str(i)\n",
    "    df3_1 = pd.read_html(url3,encoding='utf-8')[2]  #必须加utf-8，否则乱码\n",
    "    df3_2 = df3_1.iloc[1:len(df3_1)-1,0:-1]  #过滤掉最后一行和最后一列（NaN列）\n",
    "    df3_2.columns=['公司名称','披露日期','上市地和板块','披露类型','查看PDF资料'] #新的df添加列名\n",
    "    df3 = pd.concat([df3,df3_2])  #数据合并\n",
    "    print('第{page}页抓取完成'.format(page=i))\n",
    "df3.to_csv(r'C:\\Users\\hp\\Desktop\\上市公司IPO信息.csv', encoding='utf-8',index=0) #保存数据到csv文件\n",
    "end = time.time()\n",
    "print ('共抓取',len(df3),'家公司,' + '用时',round((end-start)/60,2),'分钟')"
   ]
  },
  {
   "cell_type": "code",
   "execution_count": null,
   "metadata": {
    "code_folding": [
     0
    ]
   },
   "outputs": [],
   "source": [
    "# （四）世界各国中英文国名对照表\n",
    "import pandas as pd \n",
    "url1 = 'https://baike.baidu.com/item/%E4%B8%AD%E8%8B%B1%E6%96%87%E5%9B%BD%E5%AE%B6%E5%AF%B9%E7%85%A7%E8%A1%A8/341490?fr=aladdin'\n",
    "df = pd.read_html(url1)[0]  #0表示网页中的第一个Table\n",
    "df.to_csv(r'C:\\Users\\hp\\Desktop\\123.csv',index=0)\n",
    "display(df)"
   ]
  }
 ],
 "metadata": {
  "kernelspec": {
   "display_name": "Python 3",
   "language": "python",
   "name": "python3"
  },
  "language_info": {
   "codemirror_mode": {
    "name": "ipython",
    "version": 3
   },
   "file_extension": ".py",
   "mimetype": "text/x-python",
   "name": "python",
   "nbconvert_exporter": "python",
   "pygments_lexer": "ipython3",
   "version": "3.7.7"
  }
 },
 "nbformat": 4,
 "nbformat_minor": 4
}
