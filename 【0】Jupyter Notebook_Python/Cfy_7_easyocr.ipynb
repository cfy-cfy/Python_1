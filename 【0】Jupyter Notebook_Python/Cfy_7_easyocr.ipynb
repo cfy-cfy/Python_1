{
 "cells": [
  {
   "cell_type": "code",
   "execution_count": null,
   "metadata": {
    "code_folding": []
   },
   "outputs": [],
   "source": [
    "# （一）easyorc 安装：\n",
    "'''\n",
    "pip install -i https://pypi.tuna.tsinghua.edu.cn/simple easyocr\n",
    "pip install easyocr\n",
    "EasyOCR的用法非常简单，分为三步:\n",
    "    1.创建识别对象；\n",
    "    2.读取并识别图像；\n",
    "    3.导出文本。\n",
    "'''"
   ]
  },
  {
   "cell_type": "code",
   "execution_count": null,
   "metadata": {
    "code_folding": [
     0
    ]
   },
   "outputs": [],
   "source": [
    "# (1)识别提取图片的文字\n",
    "'''这段代码有一段参数['ch_sim','en']，这是要识别的语言列表，\n",
    "因为路牌里有中文和英文，所以列表里添加了ch_sim（简体中文）、en（英文）。'''\n",
    "\n",
    "import easyocr\n",
    "reader = easyocr.Reader(['ch_sim','en'])                  # 创建reader对象\n",
    "result = reader.readtext(r'C:\\Users\\hp\\Desktop\\123.jpg')  # 读取图像\n",
    "print(result)   # 结果\n",
    "for i in result:\n",
    "    word = i[1]\n",
    "    print(word)"
   ]
  }
 ],
 "metadata": {
  "kernelspec": {
   "display_name": "Python 3",
   "language": "python",
   "name": "python3"
  },
  "language_info": {
   "codemirror_mode": {
    "name": "ipython",
    "version": 3
   },
   "file_extension": ".py",
   "mimetype": "text/x-python",
   "name": "python",
   "nbconvert_exporter": "python",
   "pygments_lexer": "ipython3",
   "version": "3.7.7"
  }
 },
 "nbformat": 4,
 "nbformat_minor": 4
}
