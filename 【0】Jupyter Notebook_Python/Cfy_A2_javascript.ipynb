{
 "cells": [
  {
   "cell_type": "code",
   "execution_count": null,
   "metadata": {
    "code_folding": [
     0
    ]
   },
   "outputs": [],
   "source": [
    "# 【0】在chrome-console中进行xpath/css/js定位\n",
    "一、Xpath\n",
    "    console中调用xpath的基本格式：$x(\"xpath表达式\")\n",
    "    1.1 绝对定位与相对定位\n",
    "    绝对定位：$x(\"/xpath表达式\")\n",
    "    相对定位：$x(\"//xpath表达式\")\n",
    "\n",
    "二、css选择器\n",
    "    2.1 基本格式\n",
    "    console中调用css的基本格式：$(\"css表达式\")或者$$(\"css表达式\")\n",
    "    谷歌插件：SelectorGadget\n",
    "\n",
    "    2.2 常用符号\n",
    "    .点，代表每个标签class的属性为xx\n",
    "    #，代表整个标签中有个元素的id为xx\n",
    "    ,逗号，代表谁和谁\n",
    "    空格，代表所有的后代标签\n",
    "    >大于号，代表所有的儿子标签，不包括孙子标签\n",
    "    \n",
    "三、js定位\n",
    "    console里面执行javascript代码，操作dom对象。\n",
    "    每个载入浏览器的 HTML 文档都会成为 Document 对象。Document 对象使我们可以从脚本中对 HTML 页面中的所有元素进行访问。\n",
    "    \n",
    "    通过id获取\n",
    "    document.getElementById(“id”)\n",
    "    通过name获取\n",
    "    document.getElementsByName(“Name”) 返回的是list\n",
    "    通过标签名选取元素\n",
    "    document.getElementsByTagName(“tag”)\n",
    "    通过CLASS类选取元素\n",
    "    document.getElementsByClassName(“class”)\n",
    "    兼容性：IE8及其以下版本的浏览器未实现getElementsByClassName方法\n",
    "    通过CSS选择器选取元素\n",
    "    document.querySelectorAll(“css selector\")"
   ]
  }
 ],
 "metadata": {
  "kernelspec": {
   "display_name": "Python 3",
   "language": "python",
   "name": "python3"
  },
  "language_info": {
   "codemirror_mode": {
    "name": "ipython",
    "version": 3
   },
   "file_extension": ".py",
   "mimetype": "text/x-python",
   "name": "python",
   "nbconvert_exporter": "python",
   "pygments_lexer": "ipython3",
   "version": "3.7.7"
  }
 },
 "nbformat": 4,
 "nbformat_minor": 4
}
