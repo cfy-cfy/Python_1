{
 "cells": [
  {
   "cell_type": "code",
   "execution_count": null,
   "metadata": {},
   "outputs": [],
   "source": [
    "# 【0】可视化库plotly生态简介(plotly, plotly_express, dash)\n",
    "plotly: 是绘图基础库，它可以非常细致的调整绘图，但是学习成本较高。官网为https://plot.ly/python/。\n",
    "plotly_exprress: 是对plotly的高级封装，入手非常简单。它对plotly的常用绘图函数进行了封装，调用简单，缺点是没有plotly那样自由。我的感觉plotly_express和plotly的关系就像keras和tensorflow。\n",
    "dash: 创建交互式绘图工具的应用，可以非常方便的用它来探索数据。它所展示的图片都是基于plotly做的。plotly_express绘图对象就是plotly绘图对象，它俩是一样的，就是接口不一样。\n",
    "\n",
    "# 安装Plotly Express\n",
    "pip install plotly_express==0.4.0 -i https://mirror.baidu.com/pypi/simple/"
   ]
  }
 ],
 "metadata": {
  "kernelspec": {
   "display_name": "Python 3",
   "language": "python",
   "name": "python3"
  },
  "language_info": {
   "codemirror_mode": {
    "name": "ipython",
    "version": 3
   },
   "file_extension": ".py",
   "mimetype": "text/x-python",
   "name": "python",
   "nbconvert_exporter": "python",
   "pygments_lexer": "ipython3",
   "version": "3.7.7"
  }
 },
 "nbformat": 4,
 "nbformat_minor": 4
}
