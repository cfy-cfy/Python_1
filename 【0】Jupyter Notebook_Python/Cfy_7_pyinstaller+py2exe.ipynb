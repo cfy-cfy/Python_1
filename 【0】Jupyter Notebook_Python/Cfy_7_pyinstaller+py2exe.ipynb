{
 "cells": [
  {
   "cell_type": "code",
   "execution_count": null,
   "metadata": {
    "code_folding": [
     0
    ]
   },
   "outputs": [],
   "source": [
    "# 【0】pyinstaller 模块：打包为 .exe \n",
    "'''\n",
    "https://zhuanlan.zhihu.com/p/86956717\n",
    "pip install pyinstaller\n",
    "pip install --upgrade pyinstaller\n",
    "1. shift + 右键· ——在当前路径打开cmd 命令窗口\n",
    "【1】下载图片Exe（单文件模式 pyinstaller -F xxxx.py）\n",
    "【1】下载图片Exe（文件夹模式 pyinstaller xxx.py）\n",
    "【2】tkinter Exe（单文件+去黑框 模式 pyinstaller -F -w xxxx.py）\n",
    "【2】tkinter Exe（单文件+去黑框+图标 模式 pyinstaller -F -w -i xxx.con xxxx.py）\n",
    "2. 打包后，要手动将图片放在 dist 文件夹路径下才能加载。\n",
    "3.build, dist和spec文件(夹)简介\n",
    "打包结束后，PyInstaller会在build文件夹中生成一些日志文件以及工作文件，而在dist文件夹中的是已经打包好的文件。\n",
    "spec文件中存储着打包时所用的命令以及要打包的相关文件，它的作用就是告诉PyInstaller如何来进行处理。\n",
    "\n",
    "如果现在要给其他人使用：\n",
    "若用文件夹模式打包，读者需要把打包好的整个belle文件夹发过去，而你的朋友或者客户只需要点击文件夹中的belle.exe可执行文件即可运行程序。\n",
    "若用单文件模式打包，读者把dist文件夹下的belle.exe可执行文件发过去即可\n",
    "build文件夹和spec文件跟程序运行没有关系，读者可以删掉。\n",
    "'''"
   ]
  }
 ],
 "metadata": {
  "kernelspec": {
   "display_name": "Python 3",
   "language": "python",
   "name": "python3"
  },
  "language_info": {
   "codemirror_mode": {
    "name": "ipython",
    "version": 3
   },
   "file_extension": ".py",
   "mimetype": "text/x-python",
   "name": "python",
   "nbconvert_exporter": "python",
   "pygments_lexer": "ipython3",
   "version": "3.7.7"
  }
 },
 "nbformat": 4,
 "nbformat_minor": 4
}
