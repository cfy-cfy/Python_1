{
 "cells": [
  {
   "cell_type": "code",
   "execution_count": null,
   "metadata": {
    "code_folding": [
     0
    ]
   },
   "outputs": [],
   "source": [
    "# 【0】opencv[B,G,R] 模块简介+安装：pip install opencv-python\n",
    "'''\n",
    "官方文档：https://opencv-python-tutroals.readthedocs.io/en/latest/\n",
    "opencv是采用[B,G,R] ，matplotlib 是采用 [R,G,B]\n",
    "（1）opencv 是什么？\n",
    "    OpenCV（Open Source Computer Vision Library）是开放源代码计算机视觉库，主要算法涉及图像处理、\n",
    "    计算机视觉和机器学习相关方法，可用于开发实时的图像处理、计算机视觉以及模式识别程序。\n",
    "\n",
    "'''"
   ]
  },
  {
   "cell_type": "code",
   "execution_count": 2,
   "metadata": {
    "code_folding": [
     0
    ]
   },
   "outputs": [],
   "source": [
    "# 【1】opencv 模块_1: imread + imshow + waitKey + cv2.imwrite + plt.imsave + plt.imread + matplotlib.image/pyplot\n",
    "import cv2\n",
    "import matplotlib.pyplot as plt\n",
    "import matplotlib.image as mpimg \n",
    "%matplotlib inline\n",
    "# %matplotlib notebook\n",
    "\n",
    "pic_path=r'C:\\Users\\hp\\Desktop\\TB.png'\n",
    "# ———————————————————————— cv2\n",
    "# 直接读取单通道\n",
    "# img = cv2.imread(pic_path, cv2.IMREAD_GRAYSCALE)\n",
    "# img = cv2.imread(pic_path,0)\n",
    "\n",
    "img = cv2.imread(pic_path,1)\n",
    "# print(img.shape)\n",
    "# ———————————————————————— cv2\n",
    "# cv2.startWindowThread() \n",
    "# cv2.namedWindow('Show_pic', cv2.WINDOW_NORMAL)         # 先定义窗口，后显示图片\n",
    "# img= cv2.cvtColor(img,cv2.COLOR_RGB2BGR)\n",
    "# img= cv.cvtColor(src, cv.COLOR_BGR2GRAY)               # 将image图片转换成灰度图\n",
    "cv2.imshow('Show_pic', img)\n",
    "cv2.waitKey(0)              # 参数表示延迟多少毫秒。默认情况为0。当delay≤0，可以理解为延迟无穷大毫秒，就是暂停了。\n",
    "cv2.destroyAllWindows()\n",
    "# 用OpenCV存储\n",
    "# cv2.imwrite(r'C:\\Users\\hp\\Desktop\\img_cv2.jpg', img)\n",
    "# ———————————————————————————————— plt.imread\n",
    "# img=plt.imread(pic_path) \n",
    "# plt.imshow(img)\n",
    "# ———————————————————————————————— mpimg.imread\n",
    "# img= mpimg.imread(pic_path) \n",
    "# plt.imshow(img) \n",
    "# 用matplotlib存储\n",
    "# plt.imsave(r'C:\\Users\\hp\\Desktop\\img_pyplot.jpg', img)\n",
    "\n",
    "# ————————————————————————————————"
   ]
  },
  {
   "cell_type": "code",
   "execution_count": null,
   "metadata": {
    "code_folding": [
     0
    ]
   },
   "outputs": [],
   "source": [
    "# 【1】opencv 模块_2: cv2.split + merge + shape + plt.subplot + cv2.imshow\n",
    "import cv2  \n",
    "import numpy as np  \n",
    "import matplotlib.pyplot as plt  \n",
    "  \n",
    "pic_path=r'C:\\Users\\hp\\Desktop\\mxz.jpg'\n",
    "img = cv2.imread(pic_path)\n",
    "print(img.shape)\n",
    "b,g,r = cv2.split(img)  \n",
    "img2 = cv2.merge([r,g,b])  \n",
    "plt.subplot(121);plt.imshow(img)   # subplot（2 ，2 ，1）是个2*2的矩阵图，共有4个图，1就代表了第一幅\n",
    "plt.subplot(122);plt.imshow(img2)  # 也可以写成subplot（221）\n",
    "plt.show()  \n",
    "# ————————————————————————————————\n",
    "# cv2.imshow('bgr image',img)  \n",
    "# cv2.imshow('rgb image',img2)  \n",
    "# cv2.waitKey(0)  \n",
    "# cv2.destroyAllWindows()\n"
   ]
  }
 ],
 "metadata": {
  "kernelspec": {
   "display_name": "Python 3",
   "language": "python",
   "name": "python3"
  },
  "language_info": {
   "codemirror_mode": {
    "name": "ipython",
    "version": 3
   },
   "file_extension": ".py",
   "mimetype": "text/x-python",
   "name": "python",
   "nbconvert_exporter": "python",
   "pygments_lexer": "ipython3",
   "version": "3.7.7"
  }
 },
 "nbformat": 4,
 "nbformat_minor": 4
}
