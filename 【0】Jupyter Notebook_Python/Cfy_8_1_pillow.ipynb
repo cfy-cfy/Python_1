{
 "cells": [
  {
   "cell_type": "code",
   "execution_count": 1,
   "metadata": {
    "code_folding": [
     0
    ]
   },
   "outputs": [
    {
     "name": "stdout",
     "output_type": "stream",
     "text": [
      "173.0 135.0\n"
     ]
    },
    {
     "data": {
      "text/plain": [
       "'____________________________ （5）  旋转和翻转图像 _______________________'"
      ]
     },
     "execution_count": 1,
     "metadata": {},
     "output_type": "execute_result"
    }
   ],
   "source": [
    "# 【1】PIL 库操作图片：缩`小图片 + 新建图像 + 裁剪图像+ 复制粘贴 + 选旋转翻转\n",
    "# pip install Pillow\n",
    "from PIL import Image\n",
    "'''_________________________ （1）缩小图片 __________________________'''\n",
    "img=[{'A':4,'B':6},{'height':346,'width':270}]\n",
    "print(round(img[1]['height']/2,0),round((img[1]['width'])/2,0))\n",
    "# def narrow_img():                    \n",
    "#     code = Image.open(r'C:\\Users\\hp\\Desktop\\code.png')\n",
    "#     small_img = code.resize((173,135))\n",
    "# #     small_img = code.resize((int(round(img[1]['height']/2,0)),int(round((img[1]['width'])/2,0))))\n",
    "# #     small_img = code.resize((int(173.0),int(135.0)))\n",
    "#     small_img.save(r'C:\\Users\\hp\\Desktop\\small_img.png')\n",
    "#     print(code.size, small_img.size)  # size返回一个元组，分别是宽和高。\n",
    "#     print(code.format)                #  format可查看图像的格式。\n",
    "#     code.show()                       # show 方法会调用系统默认图像查看软件，打开并显示。\n",
    "# narrow_img()\n",
    "\n",
    "'''____________________________ （2）新建图像 _______________________'''\n",
    "\n",
    "# newIm= Image.new('RGB', (100, 100), 'red')        # 通常使用RGB模式就可以了\n",
    "# newIm.save(r'C:\\Users\\hp\\Desktop\\1.png')\n",
    " \n",
    "# blcakIm = Image.new('RGB',(200, 100), 'red')       # 也可以用RGBA模式，还有其他模式查文档吧\n",
    "# blcakIm.save(r'C:\\Users\\hp\\Desktop\\2.png')\n",
    "\n",
    "# blcakIm = Image.new('RGBA',(200, 100), '#FF0000')  # 十六进制颜色\n",
    "# blcakIm.save(r'C:\\Users\\hp\\Desktop\\3.png')\n",
    "\n",
    "# # 在RGB模式下，第四个参数失效，默认255，在RGBA模式下，也可只传入前三个值，A值默认255\n",
    "# blcakIm = Image.new('RGB',(200, 100), (255, 255, 0, 120))  # 传入元组形式的RGBA值或者RGB值\n",
    "# blcakIm.save(r'C:\\Users\\hp\\Desktop\\4.png')\n",
    "'''____________________________ （3） 裁剪图像 _______________________'''\n",
    "# im = Image.open(r'C:\\Users\\hp\\Desktop\\code.png')\n",
    "# cropedIm = im.crop((50, 50,100, 100))\n",
    "# cropedIm.save(r'C:\\Users\\hp\\Desktop\\cropped.png')\n",
    "'''____________________________ （4） 复制与粘贴图像到另一个图像 _______________________'''\n",
    "# im = Image.open(r'C:\\Users\\hp\\Desktop\\code.png')\n",
    "# im_1 = Image.open(r'C:\\Users\\hp\\Desktop\\page.png')\n",
    "# cropedIm = im.crop((100, 110, 200, 210))\n",
    "# im_1.paste(cropedIm, (0, 0))\n",
    "# im_1.show()\n",
    "# im_1.save(r'C:\\Users\\hp\\Desktop\\paste.png')\n",
    "'''____________________________ （5）  旋转和翻转图像 _______________________'''\n",
    "# im = Image.open(r'C:\\Users\\hp\\Desktop\\code.png')\n",
    "# im.rotate(90).save(r'C:\\Users\\hp\\Desktop\\rotate90.png')\n",
    "# im.rotate(270).save(r'C:\\Users\\hp\\Desktop\\rotate270.png')\n",
    "# im.rotate(180).save(r'C:\\Users\\hp\\Desktop\\rotate180.png')\n",
    "# im.rotate(20).save(r'C:\\Users\\hp\\Desktop\\rotate20.png')\n",
    "# im.rotate(20, expand=True).save(r'C:\\Users\\hp\\Desktop\\rotate20_expand.png')\n",
    "# ——————————————————\n",
    "# im = Image.open(r'C:\\Users\\hp\\Desktop\\code.png')\n",
    "# im.transpose(Image.FLIP_LEFT_RIGHT).save(r'C:\\Users\\hp\\Desktop\\transepose_lr.png')\n",
    "# im.transpose(Image.FLIP_TOP_BOTTOM).save(r'C:\\Users\\hp\\Desktop\\transepose_tb.png')\n"
   ]
  },
  {
   "cell_type": "code",
   "execution_count": null,
   "metadata": {
    "code_folding": [
     0
    ]
   },
   "outputs": [],
   "source": [
    "# 【1】PIL 库操作图片：图像过滤\n",
    "from PIL import Image, ImageFilter\n",
    "'''______________（1） Pillow使用ImageFilter可以简单做到图像的模糊、边缘增强、锐利、平滑等 ____________'''\n",
    "im = Image.open(r'C:\\Users\\hp\\Desktop\\code.png')\n",
    "im.filter(ImageFilter.GaussianBlur).save(r'C:\\Users\\hp\\Desktop\\GaussianBlur.jpg')  # 高斯模糊\n",
    "im.filter(ImageFilter.BLUR).save(r'C:\\Users\\hp\\Desktop\\BLUR.jpg')                  # 普通模糊\n",
    "im.filter(ImageFilter.EDGE_ENHANCE).save(r'C:\\Users\\hp\\Desktop\\EDGE_ENHANCE.jpg')  # 边缘增强\n",
    "im.filter(ImageFilter.FIND_EDGES).save(r'C:\\Users\\hp\\Desktop\\FIND_EDGES.jpg')      # 找到边缘\n",
    "im.filter(ImageFilter.EMBOSS).save(r'C:\\Users\\hp\\Desktop\\EMBOSS.jpg')              # 浮雕\n",
    "im.filter(ImageFilter.CONTOUR).save(r'C:\\Users\\hp\\Desktop\\CONTOUR.jpg')            # 轮廓\n",
    "im.filter(ImageFilter.SHARPEN).save(r'C:\\Users\\hp\\Desktop\\SHARPEN.jpg')            # 锐化\n",
    "im.filter(ImageFilter.SMOOTH).save(r'C:\\Users\\hp\\Desktop\\SMOOTH.jpg')              # 平滑\n",
    "im.filter(ImageFilter.DETAIL).save(r'C:\\Users\\hp\\Desktop\\DETAIL.jpg')              # 细节"
   ]
  },
  {
   "cell_type": "code",
   "execution_count": null,
   "metadata": {
    "code_folding": [
     0
    ]
   },
   "outputs": [],
   "source": [
    "# 【1】PIL 库操作图片 \n",
    "from PIL import Image\n",
    "import numpy as np\n",
    "# ——————————————— PIL 读取的图片并不是直接的numpy.ndarray格式，需要进行转换\n",
    "img_PIL = Image.open(r'C:\\Users\\hp\\Desktop\\pic.png')#读取数据\n",
    "print(\"img_PIL:\",img_PIL)\n",
    "print(\"img_PIL:\",type(img_PIL))\n",
    "\n",
    "#将图片转换成np.ndarray格式\n",
    "img_PIL = np.array(img_PIL)\n",
    "print(\"img_PIL:\",img_PIL.shape)\n",
    "print(\"img_PIL:\",type(img_PIL))\n",
    "# ————————— keras深度学习的框架，里面也是内置了读取图片的模块，该模块读取的也不是数组格式，需要进行转换\n",
    "# ————————— scikit-image是基于scipy的一款图像处理包，它将图片作为numpy数组进行处理，读取的数据正好是numpy.ndarray格式。\n",
    "\n",
    "\n"
   ]
  },
  {
   "cell_type": "code",
   "execution_count": null,
   "metadata": {
    "code_folding": [
     0
    ]
   },
   "outputs": [],
   "source": [
    "# 【2】PIL 库+ hashlib + os + shutil 模块_1：头像去重 \n",
    "import hashlib\n",
    "import os\n",
    "import shutil\n",
    "start_path=r'C:\\Users\\hp\\Desktop\\fans'\n",
    "end_path=r'C:\\Users\\hp\\Desktop\\get'\n",
    "md5_already = [] \n",
    "def get_md5(filename):\n",
    "    m = hashlib.md5()\n",
    "    with open(filename,'rb') as f:\n",
    "        for line in f:\n",
    "            m.update(line)\n",
    "    md5 = m.hexdigest()\n",
    "    return md5                  \n",
    "for filename in os.listdir(img_path):    # 用于存储已经记录过的图片，便于去重\n",
    "    pic_path=os.path.join(start_path, filename)\n",
    "    md5 = get_md5(pic_path)\n",
    "    if md5 not in md5_already:\n",
    "        md5_already.append(md5)\n",
    "        img_path=os.path.join(end_path, filename)\n",
    "        print(img_path)\n",
    "        shutil.copyfile(pic_path,img_path)"
   ]
  },
  {
   "cell_type": "code",
   "execution_count": null,
   "metadata": {
    "code_folding": [
     0
    ]
   },
   "outputs": [],
   "source": [
    "# 【2】PIL 库+ hashlib + os + shutil 模块_2：绘制爱心墙\n",
    "import os\n",
    "import random\n",
    "import numpy as np\n",
    "import PIL.Image as Image\n",
    "\n",
    "img_path=r'C:\\Users\\hp\\Desktop\\fans'\n",
    "# 定义绘制图形的框架（用二维数组表示）：其中，0表示不进行填充，1表示用头像进行填充。\n",
    "FRAME = [[0,1,1,0,0,0,0,1,1,0],\n",
    "         [1,1,1,1,0,0,1,1,1,1],\n",
    "         [1,1,1,1,1,1,1,1,1,1],\n",
    "         [1,1,1,1,1,1,1,1,1,1],\n",
    "         [0,1,1,1,1,1,1,1,1,0],\n",
    "         [0,0,1,1,1,1,1,1,0,0],\n",
    "         [0,0,0,1,1,1,1,0,0,0],\n",
    "         [0,0,0,0,1,1,0,0,0,0]]\n",
    "print(np.shape(FRAME))\n",
    "\n",
    "SIZE = 50      # 每张图片的尺寸为50*50\n",
    "N = 2          # 每个点位上放置2*2张图片\n",
    "\n",
    "width = np.shape(FRAME)[1]*N*SIZE    # 照片墙宽度\n",
    "height = np.shape(FRAME)[0]*N*SIZE   # 照片墙高度\n",
    "n_img = np.sum(FRAME)*(N**2)         # 照片墙需要的照片数\n",
    "print(n_img)\n",
    "filenames = random.sample(os.listdir(img_path),n_img)    # 随机选取n_img张照片\n",
    "filenames = [os.path.join(img_path,f) for f in filenames]\n",
    "\n",
    "# 绘制爱心墙\n",
    "img_bg = Image.new('RGB',(width,height)) # 设置照片墙背景\n",
    "i = 0\n",
    "for y in range(np.shape(FRAME)[0]):\n",
    "    for x in range(np.shape(FRAME)[1]):\n",
    "         if FRAME[y][x] == 1:           # 如果需要填充\n",
    "            pos_x = x*N*SIZE            # 填充起始X坐标位置\n",
    "            pos_y = y*N*SIZE            # 填充起始Y坐标位置\n",
    "            for yy in range(N):\n",
    "                 for xx in range(N):\n",
    "                    img = Image.open(filenames[i])\n",
    "                    img = img.resize((SIZE,SIZE),Image.ANTIALIAS)\n",
    "                    img_bg.paste(img,(pos_x+xx*SIZE,pos_y+yy*SIZE))\n",
    "                    i += 1\n",
    "img_bg.save(r'C:\\Users\\hp\\Desktop\\love.jpg')                 # 保存图片"
   ]
  },
  {
   "cell_type": "code",
   "execution_count": 16,
   "metadata": {
    "code_folding": [
     0
    ]
   },
   "outputs": [],
   "source": [
    "# 【3】Pillow图像显示，和ndarray的相互转换\n",
    "from PIL import Image\n",
    "import numpy as np\n",
    "import os\n",
    "import numpy as np\n",
    "import pandas as pd\n",
    "# ————————————————————————————————————\n",
    "# fp=os.path.join(os.path.expanduser(\"~\"),\"DeskTop\",\"123.jpg\")\n",
    "# img = Image.open(fp)                    # 读取图像文件\n",
    "# print(img.format, img.size, img.mode)\n",
    "# pix = np.asarray(img)                   # 将image转换为array\n",
    "# print(pix.ndim)\n",
    "# print(pix)\n",
    "# im = Image.fromarray(np.uint8(pix))     # 将array转换为image\n",
    "# im.show()\n",
    "# ————————————————————————————————————\n",
    "dt=np.random.randint(0,255,(120,80,3))\n",
    "# print(dt)\n",
    "# df=pd.DataFrame(dt)\n",
    "# display(df)\n",
    "im = Image.fromarray(np.uint8(dt))     # 将array转换为image\n",
    "im.show()\n",
    "\n"
   ]
  },
  {
   "cell_type": "code",
   "execution_count": null,
   "metadata": {},
   "outputs": [],
   "source": []
  }
 ],
 "metadata": {
  "kernelspec": {
   "display_name": "Python 3",
   "language": "python",
   "name": "python3"
  },
  "language_info": {
   "codemirror_mode": {
    "name": "ipython",
    "version": 3
   },
   "file_extension": ".py",
   "mimetype": "text/x-python",
   "name": "python",
   "nbconvert_exporter": "python",
   "pygments_lexer": "ipython3",
   "version": "3.7.7"
  }
 },
 "nbformat": 4,
 "nbformat_minor": 4
}
