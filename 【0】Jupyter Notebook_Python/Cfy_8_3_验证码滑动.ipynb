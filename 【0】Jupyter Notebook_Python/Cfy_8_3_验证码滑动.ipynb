{
 "cells": [
  {
   "cell_type": "code",
   "execution_count": null,
   "metadata": {
    "code_folding": [
     0
    ]
   },
   "outputs": [],
   "source": [
    "# 【1】如何破解滑动验证码: \n",
    "#  cv2.rectangle(image, (x, y), (x + w, y + h), (0, 0, 255), 2) \n",
    "#     第一个参数：img是原图, 第二个参数：（x，y）是矩阵的左上点坐标,\n",
    "#     第三个参数：（x+w，y+h）是矩阵的右下点坐标,第四个参数：（0,255,0）是画线对应的rgb颜色\n",
    "#     第五个参数：2是所画的线的宽度\n",
    "\n",
    "import cv2 \n",
    "image = cv2.imread(r'C:\\Users\\hp\\Desktop\\code.png')\n",
    "blurred = cv2.GaussianBlur(image, (5, 5), 0) # 高斯模糊的主要作用是减少图像的噪声，用于预处理阶段。\n",
    "# cv2.imshow(\"blurred\", blurred)\n",
    "# cv2.imshow(\"original\", image)\n",
    "\n",
    "canny = cv2.Canny(blurred, 200, 400)         # 边缘检测得到一个含“窄边界”的二值图像。只有黑色和白色\n",
    "# cv2.imshow(\"canny\", canny)\n",
    "\n",
    "contours, hierarchy = cv2.findContours(canny, cv2.RETR_CCOMP, cv2.CHAIN_APPROX_SIMPLE)  # 轮廓检测\n",
    "# ————————————————————————————————————————\n",
    "# for i, contour in enumerate(contours):         # 所有轮廓\n",
    "#     x, y, w, h = cv2.boundingRect(contour)     # 外接矩形: x，y是矩阵左上点的坐标，w，h是矩阵的宽和高\n",
    "#     print(cv2.boundingRect(contour))\n",
    "#     print(cv2.contourArea(contour),\",\",round(cv2.arcLength(contour, True),2) ) # 轮廓的面积 + 轮廓的周长\n",
    "#     cv2.rectangle(image, (x, y), (x + w, y + h), (0, 0,255), 2)  # 并用红色线框将其绘制标识出来了\n",
    "# cv2.imshow('image', image)\n",
    "# ————————————————————————————————————————\n",
    "for i, contour in enumerate(contours):          # 所有轮廓\n",
    "    # 轮廓的面积大概是6000到8000之间，周长在300到500之间\n",
    "    if 500 < cv.contourArea(contour) :\n",
    "        x, y, w, h = cv2.boundingRect(contour)  # 外接矩形\n",
    "        print(x, y, w, h)\n",
    "        print(cv2.contourArea(contour),\",\",cv2.arcLength(contour, True))\n",
    "        cv2.rectangle(image, (x, y), (x + w, y + h), (0, 0, 255), 2)\n",
    "cv2.imshow('image', image)\n",
    "    \n",
    "cv2.waitKey(0)  "
   ]
  }
 ],
 "metadata": {
  "kernelspec": {
   "display_name": "Python 3",
   "language": "python",
   "name": "python3"
  },
  "language_info": {
   "codemirror_mode": {
    "name": "ipython",
    "version": 3
   },
   "file_extension": ".py",
   "mimetype": "text/x-python",
   "name": "python",
   "nbconvert_exporter": "python",
   "pygments_lexer": "ipython3",
   "version": "3.7.7"
  }
 },
 "nbformat": 4,
 "nbformat_minor": 4
}
