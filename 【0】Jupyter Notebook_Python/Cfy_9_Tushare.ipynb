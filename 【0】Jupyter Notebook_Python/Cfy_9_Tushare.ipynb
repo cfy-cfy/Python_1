{
 "cells": [
  {
   "cell_type": "code",
   "execution_count": null,
   "metadata": {
    "code_folding": [
     0
    ]
   },
   "outputs": [],
   "source": [
    "#（一）Pandas+Tushare是一个免费、开源的python财经数据接口包\n",
    "'''\n",
    "文档：\n",
    "    http://tushare.org/index.html\n",
    "    https://tushare.pro/\n",
    "    https://waditu.com/\n",
    "安装与升级：\n",
    "    pip install tushare\n",
    "    pip install tushare -i https://pypi.tuna.tsinghua.edu.cn/simple\n",
    "    pip install tushare --upgrade\n",
    "'''\n",
    "'''Tushare返回的绝大部分的数据格式都是pandas DataFrame类型，非常便于用pandas/NumPy/Matplotlib进行数据分析和可视化。\n",
    "如果您习惯了用Excel或者关系型数据库做分析，您也可以通过Tushare的数据存储功能，将数据全部保存到本地后进行分析。'''\n"
   ]
  },
  {
   "cell_type": "code",
   "execution_count": null,
   "metadata": {
    "code_folding": [
     0
    ]
   },
   "outputs": [],
   "source": [
    "# （二）交易数据：  get_k_data\n",
    "import numpy as np\n",
    "import pandas as pd\n",
    "import matplotlib as mpl\n",
    "import matplotlib.pyplot as plt\n",
    "import tushare as ts\n",
    "%matplotlib notebook\n",
    "# %matplotlib inline\n",
    "'''______________ get_k_data ______________________'''\n",
    "# 获得：date ， open ，close , high , low , volume , code  \n",
    "df = ts.get_k_data('600332',start='2021-01-01',end='2021-08-13')\n",
    "display(df.sample(5))\n",
    "print(type(df))\n",
    "df.to_csv(r'C:\\Users\\hp\\Desktop\\600332.csv')\n",
    "df = pd.read_csv(r'C:\\Users\\hp\\Desktop\\600332.csv',index_col='date',parse_dates=['date'])[['open','close','high','low','volume']]\n",
    "display(df.head())\n",
    "\n",
    "# plt.plot(df['volume'],label='折线')\n",
    "# plt.legend(loc=0)\n",
    "# plt.yticks(range(0, 700000, 70000))        # 刻度\n",
    "# plt.xticks(range(0,df.index,40)）          # 刻度\n",
    "# # plt.text(5, 200000, 'sin(x)', weight='bold', color='r')\n",
    "# mpl.rcParams['font.sans-serif'] = ['SimHei']  # 微软雅黑\n",
    "# mpl.rcParams['font.serif'] = ['SimHei']\n",
    "# mpl.rcParams['axes.unicode_minus'] = False  # 解决保存图像是负号'-'显示为方块的问题,或者转换负号为字符串\n",
    "# plt.xlabel(\"月份\")\n",
    "# plt.ylabel(\"数量\")\n",
    "# plt.title(\"600332\")\n",
    "# plt.show()\n",
    "\n",
    "'''________________________________________________________________________'''\n"
   ]
  },
  {
   "cell_type": "code",
   "execution_count": null,
   "metadata": {
    "code_folding": [
     0
    ]
   },
   "outputs": [],
   "source": [
    "# （二）Tushare 基础功能： get_k_data + get_hist_data + get_realtime_quotes\n",
    "import tushare as ts\n",
    "import pandas as pd\n",
    "import matplotlib.pyplot as plt\n",
    "df=ts.get_k_data('600332',start='2020-01-06',end='2020-12-12',ktype='D',autype='qfq')  # 获取 k 线数据\n",
    "# df=ts.get_hist_data('601288',start='2020-08-06',end='2020-09-06',ktype='D')            # 获取个股历史交易记录\n",
    "# df=ts.get_realtime_quotes('600332')    #  获取实时交易数据\n",
    "df.plot()\n",
    "# display(df)"
   ]
  },
  {
   "cell_type": "code",
   "execution_count": null,
   "metadata": {
    "code_folding": [
     0
    ]
   },
   "outputs": [],
   "source": [
    "# 【1】实例_1：\n",
    "from datetime import datetime\n",
    "import matplotlib.dates as mdates\n",
    "import matplotlib.pyplot as plt\n",
    "# 生成横纵坐标信息\n",
    "dates = ['01/02/1991', '01/03/1991', '01/04/1991']\n",
    "xs = [datetime.strptime(d, '%m/%d/%Y').date() for d in dates]\n",
    "print(xs)\n",
    "ys = range(len(xs))\n",
    "print(ys)\n",
    "# # 配置横坐标\n",
    "# plt.gca().xaxis.set_major_formatter(mdates.DateFormatter('%m/%d/%Y'))\n",
    "# plt.gca().xaxis.set_major_locator(mdates.DayLocator())\n",
    "# # Plot\n",
    "# plt.plot(xs, ys)\n",
    "# plt.gcf().autofmt_xdate() # 自动旋转日期标记\n",
    "# plt.show()"
   ]
  },
  {
   "cell_type": "code",
   "execution_count": null,
   "metadata": {
    "code_folding": [
     0
    ]
   },
   "outputs": [],
   "source": [
    "# 【1】实例_2：历史分笔 get_tick_data\n",
    "import tushare as ts\n",
    "import pandas as pd\n",
    "\n",
    "pd.set_option('display.max_columns', None) # 显示所有列\n",
    "pd.set_option('display.max_rows', None)    # 显示所有行\n",
    "# df = ts.get_tick_data('601288',date='2021-08-13',src='sn') #  sn(新浪)、tt(腾讯)、nt(网易)，默认sn\n",
    "df = ts.get_tick_data('300328',date='2021-08-13',src='nt')\n",
    "print(df.shape)\n",
    "display(df)\n",
    "df.to_csv(r\"C:\\Users\\hp\\Desktop\\sn_20210813_601288.csv\")\n",
    "print('ok')\n",
    "\n",
    "# df=pd.read_csv(r\"C:\\Users\\hp\\Desktop\\20210813_601288.csv\",index_col=0)\n",
    "# print(df['change'].sum().round(2),df['volume'].sum(),df['amount'].sum())\n",
    "# display(df)"
   ]
  },
  {
   "cell_type": "code",
   "execution_count": 20,
   "metadata": {
    "code_folding": [
     0
    ]
   },
   "outputs": [
    {
     "data": {
      "text/html": [
       "<div>\n",
       "<style scoped>\n",
       "    .dataframe tbody tr th:only-of-type {\n",
       "        vertical-align: middle;\n",
       "    }\n",
       "\n",
       "    .dataframe tbody tr th {\n",
       "        vertical-align: top;\n",
       "    }\n",
       "\n",
       "    .dataframe thead th {\n",
       "        text-align: right;\n",
       "    }\n",
       "</style>\n",
       "<table border=\"1\" class=\"dataframe\">\n",
       "  <thead>\n",
       "    <tr style=\"text-align: right;\">\n",
       "      <th></th>\n",
       "      <th>time</th>\n",
       "      <th>price</th>\n",
       "      <th>change</th>\n",
       "      <th>volume</th>\n",
       "      <th>amount</th>\n",
       "      <th>type</th>\n",
       "    </tr>\n",
       "  </thead>\n",
       "  <tbody>\n",
       "  </tbody>\n",
       "</table>\n",
       "</div>"
      ],
      "text/plain": [
       "Empty DataFrame\n",
       "Columns: [time, price, change, volume, amount, type]\n",
       "Index: []"
      ]
     },
     "metadata": {},
     "output_type": "display_data"
    },
    {
     "name": "stdout",
     "output_type": "stream",
     "text": [
      "ok (0, 6)\n"
     ]
    }
   ],
   "source": [
    "# 【1】实例_3：历史分笔 get_tick_data\n",
    "import tushare as ts\n",
    "import pandas as pd\n",
    "import os \n",
    "\n",
    "# stock_code=input('TuShare.get_tick_data —— stock_code:')\n",
    "# stock_date=input('TuShare.get_tick_data —— stock_date:')\n",
    "# fp=os.path.join(os.path.expanduser('~'),'Desktop',stock_code + '_'+ stock_date+\".xlsx\")\n",
    "# print(fp)\n",
    "df = ts.get_tick_data('601288',date='2021-08-13',src='nt') #  sn(新浪)、tt(腾讯)、nt(网易)，默认sn\n",
    "display(df.head())\n",
    "print('ok',df.shape)\n",
    "# df.to_excel(fp)\n",
    "# 601288\n",
    "# 2021-08-13"
   ]
  }
 ],
 "metadata": {
  "kernelspec": {
   "display_name": "Python 3",
   "language": "python",
   "name": "python3"
  },
  "language_info": {
   "codemirror_mode": {
    "name": "ipython",
    "version": 3
   },
   "file_extension": ".py",
   "mimetype": "text/x-python",
   "name": "python",
   "nbconvert_exporter": "python",
   "pygments_lexer": "ipython3",
   "version": "3.7.7"
  }
 },
 "nbformat": 4,
 "nbformat_minor": 4
}
