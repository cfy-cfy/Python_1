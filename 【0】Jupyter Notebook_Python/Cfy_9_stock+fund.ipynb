{
 "cells": [
  {
   "cell_type": "code",
   "execution_count": null,
   "metadata": {
    "code_folding": [
     0
    ]
   },
   "outputs": [],
   "source": [
    "# 【1】蛋卷基金排名：https://danjuanapp.com/\n",
    "import requests\n",
    "import json\n",
    "import pandas as pd\n",
    "###———————————————— 基金类型\n",
    "dict_type={\"股票型\":1,\"混合型\":3,\"债券型\":2,\"指数型\":5,\"QDII型\":11}\n",
    "###———————————————— 时间\n",
    "dict_time={'近一周':'1w','近一月':'1m','近三月':'3m','近六月':'6m','近1年':'1y',\n",
    "           '近2年':'2y','近3年':'3y','近5年':'5y'}\n",
    "headers={\n",
    "    \"User-Agent\": \"Mozilla/5.0 (Windows NT 6.1; WOW64) AppleWebKit/537.36 (KHTML, like Gecko) Chrome/89.0.4389.82 Safari/537.36\"\n",
    "        }\n",
    "name = []\n",
    "value = []\n",
    "type=[]\n",
    "for key in dict_type:\n",
    "    url = \"https://danjuanapp.com/djapi/v3/filter/fund?type=\"+str(dict_type[key])+\"&order_by=1w&size=10&page=1\"\n",
    "    res = requests.get(url, headers=headers)\n",
    "    res.encoding = 'utf-8'\n",
    "    s = json.loads(res.text)\n",
    "    s = s['data']['items']\n",
    "    for i in range(0,len(s)):\n",
    "        name.append(s[i]['fd_name'])\n",
    "        value.append(s[i]['yield'])\n",
    "        type.append(s[i]['sf_type'])\n",
    "df=pd.DataFrame({\"fund_type\":type,\"fund_name\":name,\"fund_yield\":value})\n",
    "display(df)"
   ]
  },
  {
   "cell_type": "code",
   "execution_count": null,
   "metadata": {
    "code_folding": [
     0
    ]
   },
   "outputs": [],
   "source": [
    "# 【1】蛋卷基金排名第一的历史收益：https://danjuanapp.com/\n",
    "import requests\n",
    "import json\n",
    "import pandas as pd\n",
    "dict_type={\"股票型\":1,\"混合型\":3,\"债券型\":2,\"指数型\":5,\"QDII型\":11}\n",
    "headers={\n",
    "    \"User-Agent\": \"Mozilla/5.0 (Windows NT 6.1; WOW64) AppleWebKit/537.36 (KHTML, like Gecko) Chrome/89.0.4389.82 Safari/537.36\"\n",
    "        }\n",
    "type=[]\n",
    "name=[]\n",
    "fund_date=[]\n",
    "value=[]\n",
    "def analysis3():\n",
    "    for key in dict_type:\n",
    "        #### 获取排名第一名基金代号\n",
    "        url = \"https://danjuanapp.com/djapi/v3/filter/fund?type=\" + str(dict_type[key]) + \"&order_by=1w&size=10&page=1\"\n",
    "        res = requests.get(url, headers=headers)\n",
    "        res.encoding = 'utf-8'\n",
    "        s = json.loads(res.text)\n",
    "        ###取第一名\n",
    "        fd_code = s['data']['items'][0]['fd_code']\n",
    "        fd_name=s['data']['items'][0]['fd_name']\n",
    "        fd_type=s['data']['items'][0]['sf_type']\n",
    "        #### 获取排名第一名基金近30个交易日净值情况\n",
    "        fu_url = \"https://danjuanapp.com/djapi/fund/nav/history/\"+str(fd_code)+\"?size=30&page=1\"\n",
    "        res = requests.get(fu_url, headers=headers)\n",
    "        res.encoding = 'utf-8'\n",
    "        s = json.loads(res.text)\n",
    "        data = s['data']['items']\n",
    "        for k in range(0,len(data)):\n",
    "            fund_date.append(data[k]['date'])\n",
    "            value.append(data[k]['nav'])\n",
    "            type.append(key)\n",
    "            name.append(fd_name)\n",
    "analysis3()\n",
    "df=pd.DataFrame({'type':type,'name':name,'fund_date':fund_date,'value':value})\n",
    "display(df)"
   ]
  }
 ],
 "metadata": {
  "kernelspec": {
   "display_name": "Python 3",
   "language": "python",
   "name": "python3"
  },
  "language_info": {
   "codemirror_mode": {
    "name": "ipython",
    "version": 3
   },
   "file_extension": ".py",
   "mimetype": "text/x-python",
   "name": "python",
   "nbconvert_exporter": "python",
   "pygments_lexer": "ipython3",
   "version": "3.7.7"
  }
 },
 "nbformat": 4,
 "nbformat_minor": 4
}
