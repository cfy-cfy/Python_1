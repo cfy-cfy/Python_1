{
 "cells": [
  {
   "cell_type": "code",
   "execution_count": null,
   "metadata": {
    "code_folding": [
     0
    ]
   },
   "outputs": [],
   "source": [
    "# 【0】cufflinks 库：(在https://plot.ly/api_signup注册申请帐号，在设置里获取API_KEY后，代码中进行配置才能正常使用)\n",
    "https://www.yuque.com/fcant/python/uoam8h\n",
    "（1）pip install cufflinks\n",
    "    pip install chart_studio\n",
    "    在用到cufflinks库的地方，添加验证文件的配置信息相关的代码，即可正常使用\n",
    "    import chart_studio\n",
    "    chart_studio.tools.set_credentials_file(username='DemoAccount', api_key='lr1c37zw81')\n",
    "（2）cufflinks库主要和dataFrame数据结合使用，绘图函数就是 dataFrame.iplot，，一些参数说明如下：\n",
    "    kind：图的种类，如 scatter、pie、histogram 等\n",
    "    mode：lines、markers、lines+markers，分别表示折线、点、折线和点\n",
    "    colors：轨迹对应的颜色\n",
    "    dash：轨迹对应的虚实线，solid、dash、dashdot 三种\n",
    "    width：轨迹的粗细\n",
    "    xTitle：横坐标名称\n",
    "    yTitle：纵坐标的名称\n",
    "    title：图表的标题"
   ]
  },
  {
   "cell_type": "code",
   "execution_count": null,
   "metadata": {
    "code_folding": [
     0
    ]
   },
   "outputs": [],
   "source": [
    "# 【1】cufflinks 库：柱状图+折线图+散点图+气泡图+subplots 子图+箱型+直方图+3D图\n",
    "import pandas as pd\n",
    "import numpy as np\n",
    "import cufflinks as cf\n",
    "import chart_studio\n",
    "chart_studio.tools.set_credentials_file(username='cfy_cfy', api_key='qRv1HRvhPO18AOonVuBs') # cfy122333..\n",
    "# —————————————————— 柱状图\n",
    "# df=pd.DataFrame(np.random.rand(12, 4), columns=['a', 'b', 'c', 'd'])\n",
    "# df.iplot(kind ='bar',title='示例', xTitle = 'X轴', yTitle ='Y轴')\n",
    "# —————————————————— 折线图\n",
    "# cufflinks使用datagen生成随机数，figure定义为lines形式，cf.datagen.lines(2,10)的具体形式如下：\n",
    "# cf.datagen.lines(2,10)  #2代表2组，10代表10天\n",
    "# cf.datagen.lines(4,10).iplot(mode='lines+markers',theme='solar')\n",
    "# —————————————————— 散点图\n",
    "# df = pd.DataFrame(np.random.rand(50, 4), columns=['a', 'b', 'c', 'd'])\n",
    "# df.iplot(kind='scatter',mode='markers',colors=['orange','teal','blue','yellow'],size=20,theme='solar')\n",
    "# —————————————————— 气泡图\n",
    "# df = pd.DataFrame(np.random.rand(50, 4), columns=['a', 'b', 'c', 'd'])\n",
    "# df.iplot(kind='bubble',x='a',y='b',size='c',theme='solar')\n",
    "# —————————————————— subplots 子图\n",
    "# df=cf.datagen.lines(4,10,list('abcd'))\n",
    "# df=cf.datagen.lines(4,columns=list('abcd'))\n",
    "# display(df)\n",
    "# df.iplot(subplots=True,shape=(4,1),shared_xaxes=True,vertical_spacing=.02,fill=True,theme='ggplot')\n",
    "# —————————————————— 箱形图\n",
    "# cf.datagen.box(20).iplot(kind='box',legend=False,theme='ggplot')\n",
    "# —————————————————— 直方图\n",
    "# df = pd.DataFrame(np.random.rand(50, 4), columns=['a', 'b', 'c', 'd'])\n",
    "# df.iloc[:,0:3].iplot(kind='histogram')\n",
    "# —————————————————— 3D图\n",
    "# cf.datagen.scatter3d(5,4).iplot(kind='scatter3d',x='x',y='y',z='z',text='text',categories='categories')"
   ]
  }
 ],
 "metadata": {
  "kernelspec": {
   "display_name": "Python 3",
   "language": "python",
   "name": "python3"
  }
 },
 "nbformat": 4,
 "nbformat_minor": 4
}
