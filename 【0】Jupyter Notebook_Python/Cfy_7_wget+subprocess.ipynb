{
 "cells": [
  {
   "cell_type": "code",
   "execution_count": null,
   "metadata": {
    "code_folding": [
     0
    ]
   },
   "outputs": [],
   "source": [
    "# 【0】wget 模块: 下载音乐、图片、小说等文件，下载网页\n",
    "'''\n",
    "（1）python版本的需要安装：pip install wget\n",
    "（2）程序可以另外下载不用安装，直接在命令行里使用即可 https://eternallybored.org/misc/wget/\n",
    "使用方法：\n",
    "import os\n",
    "version = input('请输入安装包版本:')\n",
    "cmd = fr'd:\\tools\\wget http://mirrors.sohu.com/nginx/nginx-{version}.zip'\n",
    "os.system(cmd)\n",
    "print('下载完毕')\n",
    "'''\n",
    "import wget\n",
    "'''___________下载音乐________________'''\n",
    "# url = 'http://www.futurecrew.com/skaven/song_files/mp3/razorback.mp3'\n",
    "# filename = wget.download(url,out=r'C:\\Users\\hp\\Desktop')\n",
    "# print(filename)\n",
    "'''___________下载百度网页________________'''\n",
    "# url = 'http://www.baidu.com'\n",
    "# out_filename=r'C:\\Users\\hp\\Desktop\\baidu.html'\n",
    "# filename = wget.download(url, out=out_filename)\n",
    "# print(filename)"
   ]
  },
  {
   "cell_type": "code",
   "execution_count": null,
   "metadata": {
    "code_folding": [
     0
    ]
   },
   "outputs": [],
   "source": [
    "# 【1】subprocess 模块提供了 更多的 调用外部程序的功能\n",
    "'''教程http://www.python3.vip/tut/py/extra/callother/'''\n",
    "from subprocess import Popen\n",
    "proc = Popen(\n",
    "        args='wget http://www.baidu.com',\n",
    "        shell=True)\n",
    "print ('让它下载，我们接下来做其他事情。。。。')"
   ]
  }
 ],
 "metadata": {
  "kernelspec": {
   "display_name": "Python 3",
   "language": "python",
   "name": "python3"
  },
  "language_info": {
   "codemirror_mode": {
    "name": "ipython",
    "version": 3
   },
   "file_extension": ".py",
   "mimetype": "text/x-python",
   "name": "python",
   "nbconvert_exporter": "python",
   "pygments_lexer": "ipython3",
   "version": "3.7.7"
  }
 },
 "nbformat": 4,
 "nbformat_minor": 4
}
