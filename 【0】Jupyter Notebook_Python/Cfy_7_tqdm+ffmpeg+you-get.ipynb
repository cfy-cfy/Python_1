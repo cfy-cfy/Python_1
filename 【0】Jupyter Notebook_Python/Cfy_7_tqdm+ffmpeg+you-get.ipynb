{
 "cells": [
  {
   "cell_type": "code",
   "execution_count": null,
   "metadata": {
    "code_folding": [
     0
    ]
   },
   "outputs": [],
   "source": [
    "# （一）tqdm 模块：是一个快速，可扩展的Python进度条，可以在 Python 长循环中添加一个进度提示信息，\n",
    "# 用户只需要封装任意的迭代器 tqdm(iterator)\n",
    "# pip install tqdm\n",
    "'''_______________ 使用方法一: tqdm  传入任意一种list 或 数组__________________'''\n",
    "# from tqdm import tqdm\n",
    "# for i in tqdm(range(10000)):  \n",
    "#      pass  \n",
    "# for char in tqdm([\"a\", \"b\", \"c\", \"d\"]):\n",
    "#     pass\n",
    "'''_______________ 使用方法二: trange  __________________'''\n",
    "# from tqdm import trange  # trange(i) 是 tqdm(range(i)) 的简单写法\n",
    "# for i in trange(100):\n",
    "#     pass\n",
    "'''_______________ 使用方法三: 手动方法  __________________'''\n",
    "# 在for循环外部初始化tqdm,可以打印其他信息\n",
    "from tqdm import tqdm\n",
    "bar = tqdm([\"a\", \"b\", \"c\", \"d\"])\n",
    "for char in bar:\n",
    "    bar.set_description(\"Processing %s\" % char)\n"
   ]
  },
  {
   "cell_type": "code",
   "execution_count": null,
   "metadata": {
    "code_folding": [
     0
    ]
   },
   "outputs": [],
   "source": [
    "# （一）6种进度条种类:tqdm 、 PySimpleGUI 、alive_progress、progress.bar\n",
    "\n",
    "'''1.普通进度条 : 在代码迭代运行中可以自己进行统计计算，并使用格式化字符串输出代码运行进度'''\n",
    "# import sys\n",
    "# import time\n",
    "# def progress_bar():\n",
    "#     for i in range(1, 101):\n",
    "#         print(\"\\r\", end=\"\")\n",
    "#         print(\"Download progress: {}%: \".format(i), \"▋\" * (i // 10), end=\"\")\n",
    "#         sys.stdout.flush()\n",
    "#         time.sleep(0.05)\n",
    "# progress_bar()\n",
    "'''2.带时间进度条: 导入time模块来计算代码运行的时间，加上代码迭代进度使用格式化字符串来输出代码运行进度'''\n",
    "# import time\n",
    "# scale = 50\n",
    "# print(\"执行开始，祈祷不报错\".center(scale // 2,\"-\"))\n",
    "# start = time.perf_counter()\n",
    "# for i in range(scale + 1):\n",
    "#     a = \"*\" * i\n",
    "#     b = \".\" * (scale - i)\n",
    "#     c = (i / scale) * 100\n",
    "#     dur = time.perf_counter() - start\n",
    "#     print(\"\\r{:^3.0f}%[{}->{}]{:.2f}s\".format(c,a,b,dur),end = \"\")\n",
    "#     time.sleep(0.1)\n",
    "# print(\"\\n\"+\"执行结束，万幸\".center(scale // 2,\"-\"))\n",
    "'''3.tpdm进度条: 这是一个专门生成进度条的工具包，可以使用pip在终端进行下载，当然还能切换进度条风格'''\n",
    "# from time import sleep\n",
    "# from tqdm import tqdm\n",
    "# # 里面存一个可迭代对象\n",
    "# for i in tqdm(range(1, 500)):\n",
    "#    # 模拟你的任务\n",
    "#     sleep(0.01)\n",
    "'''4.progress进度条: pip install progress'''\n",
    "# import time\n",
    "# from progress.bar import IncrementalBar\n",
    "# mylist = [1,2,3,4,5,6,7,8]\n",
    "# bar = IncrementalBar('Countdown', max = len(mylist))\n",
    "# for item in mylist:\n",
    "#     bar.next()\n",
    "#     time.sleep(1)\n",
    "#     bar.finish()\n",
    "'''5.alive_progress进度条:它比原来我们见过的进度条多了一些动画效果，需要使用pip进行下载'''\n",
    "# from alive_progress import alive_bar\n",
    "# items = range(100)                  # retrieve your set of items\n",
    "# with alive_bar(len(items)) as bar:   # declare your expected total\n",
    "#     for item in items:               # iterate as usual\n",
    "#         # process each item\n",
    "#         bar()\n",
    "#         time.sleep(0.1)\n",
    "'''6.可视化进度条:用 PySimpleGUI 得到图形化进度条，在命令行脚本中得到图形化进度条，也是使用pip进行下载''' \n",
    "import PySimpleGUI as sg\n",
    "import time\n",
    "mylist = [1,2,3,4,5,6,7,8]\n",
    "for i, item in enumerate(mylist):\n",
    "    sg.one_line_progress_meter('This is my progress meter!', i+1, len(mylist), '-key-')\n",
    "    time.sleep(1)"
   ]
  },
  {
   "cell_type": "code",
   "execution_count": null,
   "metadata": {
    "code_folding": [
     0
    ]
   },
   "outputs": [],
   "source": [
    "# （二）you-get 模块：支持各大视频网站的视频下载\n",
    "'''\n",
    "国内外加起来近 80 家。像国内的爱奇艺、腾讯视频、抖音、快手、B站、A站，\n",
    "国外的 Youtube、Twitter、TED、Instagram等等。\n",
    "1.安装： pip install you-get\n",
    "2.使用：shift + 右键 ——在当前路径打开cmd 命令窗口\n",
    "    输入 you-get https://www.bilibili.com/video/BV1NZ4y1j7nw\n",
    "    输入 you-get https://www.bilibili.com/video/BV145411K7K3\n",
    "\n",
    "【批量下载：】\n",
    "    you-get --playlist https://www.bilibili.com/video/BV14J4114768/?from=search&seid=18321726842204028807\n",
    "    you-get --playlist https://www.bilibili.com/video/BV14J4114768\n",
    "        对视频批量下载的同时，还会将视频里的弹幕也给下载下来，我们如果想要开启弹幕模式，可以下载一个Danmu2Ass工具，\n",
    "        将弹幕格式转换成ass格式，就可以了。\n",
    "【暂停和继续】\n",
    "    有些时候，我们可能想暂定一下视频的下载，此时我们可以按下Ctrl+c即可暂定视频的下载，这个时候在该命令行输出的\n",
    "    文件夹中存在一个.download的缓存文件。如果我们想继续下载的话，我们可以在命令行重新输入命令，\n",
    "    它会对该文件夹进行检测，如果有缓存的.download文件，它就会继续从这里开始下载。        \n",
    "\n",
    "【 查看视频参数】\n",
    "    you-get -i url\n",
    " \n",
    "【指定清晰度下载】 \n",
    "    当我们拿到视频的参数详情后，我们可以选择我们想要下载的格式视频，命令如下：\n",
    "    you-get ----format=flv url\n",
    "\n",
    "【指定下载路径】\n",
    "    我们还可以指定视频的下载路径，命令如下：\n",
    "    you-get -o 路径 url\n",
    "    \n",
    "【用Python下载】 Python有一个标准库—sys库就是专门用来操作命令行的，代码如下：\n",
    "import sys\n",
    "from you_get import common as you_get\n",
    "url= 'https://www.bilibili.com/video/BV145411K7K3'\n",
    "sys.argv=['you-get','-i',url]\n",
    "you_get.main()\n",
    "\n",
    "'''"
   ]
  },
  {
   "cell_type": "code",
   "execution_count": null,
   "metadata": {
    "code_folding": [
     0
    ]
   },
   "outputs": [],
   "source": [
    "# （三）ffmpeg + ffmpy3 模块:它的中文名叫多媒体视频处理工具。\n",
    "'''\n",
    "（一）简介：\n",
    "ffmpy3学习文档：https://ffmpy3.readthedocs.io/en/latest/\n",
    "FFmpeg 有非常强大的功能包括视频采集、视频格式转换、视频抓图、给视频加水印等功能。\n",
    "这种 ts 视频片段合成，格式转换问题，交给 FFmpeg 就好了。\n",
    "（二）安装配置：\n",
    "要使用 FFmpeg，需要先安装配置一番。\n",
    "1、从官网下载，然后解压到 lib/site-packages/下面\n",
    "2、安装好后，记得配置环境变量：例d:\\ffmpeg\\bin代表FFmpeg的安装路径下的bin文件夹\n",
    "3、安装 FFmpeg 的Python API 接口 ffmpy3\n",
    "FFmpeg 也有 Python API 接口，名字叫 ffmpy3，安装好 FFmpeg 后，可以直接通过 pip 安装。\n",
    "pip install ffmpy3\n",
    "\n",
    "（三）使用\n",
    "(1) 比如想要下载 m3u8 文件。http://youku.com-youku.net/20180614/11920_4c9e1cc1/index.m3u8\n",
    "A、电脑cmd命令窗口下使用步骤如下：\n",
    "1. shift + 右键 ——在当前路径打开cmd 命令窗口\n",
    "2. 输入：ffmpeg -i \"http://youku.com-youku.net/20180614/11920_4c9e1cc1/index.m3u8\" \"第001集.mp4\"\n",
    "\n",
    "B、如果用 Python 接口，也只需要两行代码：\n",
    "ffmpy3.FFmpeg(inputs={'http://youku.com-youku.net/20180614/11920_4c9e1cc1/index.m3u8': None}, \n",
    "              outputs={'C:\\\\Users\\\\hp\\\\Desktop\\\\第001集.mp4':None}).run()\n",
    "在运行以上代码进行媒体文件格式转换时，会出现以下错误，这是因为ffmpy3中没有自带ffmpeg可执行文件\n",
    "解决方法一：解压ffmpeg文件，将ffmpeg文件中的可执行文件ffmpeg.exe复制到当前项目文件目录下\n",
    "解决方法二：打开ffmpy3.py文件，将\n",
    "__init__(self, executable='ffmpeg', global_options=None, inputs=None, outputs=None)\n",
    "中参数executable的值改为ffmpeg.exe可执行文件的绝对路径。\n",
    "\n",
    "(2)将test.ts转换为ok.mpr\n",
    "1. shift + 右键 ——在当前路径打开cmd 命令窗口\n",
    "2. 输入：ffmpeg -i test.ts ok.mp4\n",
    "'''\n",
    "import ffmpy3\n",
    "ff = ffmpy3.FFmpeg(inputs={'C:\\\\Users\\\\hp\\\\Desktop\\\\test.ts': None},outputs={'C:\\\\Users\\\\hp\\\\Desktop\\\\ok.mp4': None})\n",
    "print(ff.cmd)\n",
    "ff.run()"
   ]
  },
  {
   "cell_type": "code",
   "execution_count": null,
   "metadata": {},
   "outputs": [],
   "source": [
    "# 【3】ffmpeg：在python执行命令行——将.wav转为.pcm格式\n",
    "import os\n",
    "\n",
    "desk_path=os.path.join(os.path.expanduser(\"~\"),\"Desktop\",\"VBA+Acrobat\")\n",
    "file_name = 'VBA+Acrobat.wav'\n",
    "file_path=os.path.join(desk_path,file_name)\n",
    "pcmfile_name=os.path.join(desk_path, 'VBA+Acrobat.pcm')\n",
    "\n",
    "os.system(f\"ffmpeg -y -i {file_path} -acodec pcm_s16le -f s16le -ac 1 -ar 16000 {pcmfile_name}\")\n"
   ]
  }
 ],
 "metadata": {
  "kernelspec": {
   "display_name": "Python 3",
   "language": "python",
   "name": "python3"
  },
  "language_info": {
   "codemirror_mode": {
    "name": "ipython",
    "version": 3
   },
   "file_extension": ".py",
   "mimetype": "text/x-python",
   "name": "python",
   "nbconvert_exporter": "python",
   "pygments_lexer": "ipython3",
   "version": "3.7.7"
  }
 },
 "nbformat": 4,
 "nbformat_minor": 4
}
