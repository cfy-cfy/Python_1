{
 "cells": [
  {
   "cell_type": "code",
   "execution_count": 2,
   "metadata": {
    "code_folding": [
     0
    ]
   },
   "outputs": [
    {
     "name": "stdout",
     "output_type": "stream",
     "text": [
      "{'sha256', 'blake2s', 'sha3_256', 'sha384', 'shake_256', 'sha3_512', 'sha512', 'sha3_384', 'sha1', 'sha224', 'sha3_224', 'md5', 'shake_128', 'blake2b'}\n",
      "{'sha256', 'blake2s', 'sha3_256', 'sha384', 'shake_256', 'sha3_512', 'sha512', 'sha3_384', 'sha1', 'sha224', 'sha3_224', 'md5', 'shake_128', 'blake2b'}\n"
     ]
    }
   ],
   "source": [
    "# 【0】hashlib 加密模块：\n",
    "'''\n",
    "在程序中我们经常可以看到有很多的加密算法，比如说MD5 sha1等。\n",
    "hashlib 是目前Python一个提供字符加密的模块，它加密的字符类型为二进制编码，所以直接加密字符串会报错。\n",
    "'''\n",
    "import hashlib\n",
    "'''_____________ _____________'''\n",
    "string='任性的90后boy'\n",
    "sha1 = hashlib.sha1()\n",
    "sha1.update(string.encode('utf-8'))     # 使用encode进行转换\n",
    "res = sha1.hexdigest()\n",
    "print(\"sha1采用encode转换加密结果:\",res)\n",
    "sha1 = hashlib.sha1()                  # 使用byte转换为二进制\n",
    "sha1.update(bytes(string,encoding='utf-8'))\n",
    "res = sha1.hexdigest()\n",
    "print(\"sha1采用byte转换的结果:\",res)\n",
    "\n",
    "'''_____________ 可以使用下列这两种方法任意一种获取到hashlib中所有的散列算法集合：_____________'''\n",
    "a=hashlib.algorithms_available \n",
    "b=hashlib.algorithms_guaranteed\n",
    "print(a)\n",
    "print(b)"
   ]
  },
  {
   "cell_type": "code",
   "execution_count": 5,
   "metadata": {
    "code_folding": [
     0
    ]
   },
   "outputs": [
    {
     "name": "stdout",
     "output_type": "stream",
     "text": [
      "普通加密: 1bc29b36f623ba82aaf6724fd3b16718\n",
      "采用key加密: b2352d10ff60e6b4129d56aabb64701a\n"
     ]
    }
   ],
   "source": [
    "# 【0】hashlib 加密模块：MD5 + sha1\n",
    "import hashlib\n",
    "'''________________________ MD5 ________________________\n",
    "MD5算法具有以下特点:\n",
    "    1、压缩性:任意长度的数据，算出的MD5值长度都是固定的。\n",
    "    2、容易计算:从原数据计算出MD5值很容易。\n",
    "    3、抗修改性:对原数据进行任何改动，哪怕只修改1个字节，所得到的MD5值都有很大区别。\n",
    "    4、强抗碰撞:已知原数据和其MD5值，想找到一个具有相同MD5值的数据(即伪造数据)是非常困难的。\n",
    "MD5的作用是让大容量信息在用数字签名软件签署私人密钥前被\"压缩\"成一种保密的格式(就是把一个任意长度的字节串变换成\n",
    "一定长的十六进制数字串)。MD5是最常见的摘要算法，速度很快，生成结果是固定的128 bit字节，通常用一个32位的16进制\n",
    "字符串表示。\n",
    "'''\n",
    "# string='任性的90后boy'\n",
    "# md5 = hashlib.md5() \n",
    "# md5.update(string.encode('utf-8')) # 转码，update里的必须是字节型\n",
    "# res = md5.hexdigest()              # 返回字符型摘要信息: \\xcc 表示以十六进制数cc表示的ASCII码值\n",
    "# print(md5.digest())                # 返回字节型的摘要信息\n",
    "# print(\"md5加密结果:\",res) \n",
    "'''________________________ sha1 ________________________ sha224 + sha256 + sha384 + sha512\n",
    "安全散列算法，SHA1的结果是160 bit字节，通常用一个40位的16进制字符串表示\n",
    "'''\n",
    "# string='任性的90后boy'\n",
    "# sha1 = hashlib.sha1()\n",
    "# sha1.update(string.encode('utf-8'))\n",
    "# res = sha1.hexdigest()\n",
    "# print(\"sha1加密结果:\",res)\n",
    "# print(\"sha1加密结果:\",sha1.digest())\n",
    "'''________________________ 高级加密 ________________________\n",
    "以上加密算法虽然依然非常厉害，但时候存在缺陷，即：通过撞库可以反解。所以，\n",
    "有必要对加密算法中添加自定义key再来做加密。\n",
    "'''\n",
    "md5 = hashlib.md5()\n",
    "md5.update('md5'.encode('utf-8'))\n",
    "res = md5.hexdigest()\n",
    "print(\"普通加密:\",res)\n",
    "md51 = hashlib.md5(b'md512')\n",
    "md51.update('md51'.encode('utf-8'))\n",
    "res = md51.hexdigest()\n",
    "print(\"采用key加密:\",res)\n"
   ]
  }
 ],
 "metadata": {
  "kernelspec": {
   "display_name": "Python 3",
   "language": "python",
   "name": "python3"
  },
  "language_info": {
   "codemirror_mode": {
    "name": "ipython",
    "version": 3
   },
   "file_extension": ".py",
   "mimetype": "text/x-python",
   "name": "python",
   "nbconvert_exporter": "python",
   "pygments_lexer": "ipython3",
   "version": "3.7.7"
  }
 },
 "nbformat": 4,
 "nbformat_minor": 4
}
