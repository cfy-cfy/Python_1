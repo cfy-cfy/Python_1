{
 "cells": [
  {
   "cell_type": "code",
   "execution_count": null,
   "metadata": {
    "code_folding": [
     0
    ]
   },
   "outputs": [],
   "source": [
    "# （一）logging 模块用法\n",
    "'''\n",
    "(1) logging.basicConfig函数各参数：_______________________\n",
    "    filename：指定日志文件名；\n",
    "    filemode：和file函数意义相同，指定日志文件的打开模式，'w'或者'a'；\n",
    "    format：指定输出的格式和内容，format可以输出很多有用的信息，\n",
    "            %(levelno)s：打印日志级别的数值\n",
    "            %(levelname)s：打印日志级别的名称\n",
    "            %(pathname)s：打印当前执行程序的路径，其实就是sys.argv[0]\n",
    "            %(filename)s：打印当前执行程序名\n",
    "            %(funcName)s：打印日志的当前函数\n",
    "            %(lineno)d：打印日志的当前行号\n",
    "            %(asctime)s：打印日志的时间\n",
    "            %(thread)d：打印线程ID\n",
    "            %(threadName)s：打印线程名称\n",
    "            %(process)d：打印进程ID\n",
    "            %(message)s：打印日志信息\n",
    "    datefmt：指定时间格式，同time.strftime()；\n",
    "    level：设置日志级别，默认为logging.WARNNING；\n",
    "    stream：指定将日志的输出流，可以指定输出到sys.stderr，sys.stdout或者文件，默认输出到sys.stderr，当stream和filename同时指定时，stream被忽略；          \n",
    "'''\n"
   ]
  },
  {
   "cell_type": "code",
   "execution_count": 2,
   "metadata": {
    "code_folding": [
     0
    ]
   },
   "outputs": [
    {
     "name": "stderr",
     "output_type": "stream",
     "text": [
      "[2021-10-04 21:26:03,699] [<module>()][INFO] begin\n",
      "[2021-10-04 21:26:03,701] [logprac()][INFO] Yesterday once more\n"
     ]
    }
   ],
   "source": [
    "# （二）logging 基本使用：\n",
    "# import logging\n",
    "# import time\n",
    "# logging.basicConfig(level = logging.INFO,format = '%(asctime)s - %(name)s - %(levelname)s - %(message)s')\n",
    "# logging.basicConfig(level = logging.DEBUG,format = '%(asctime)s - %(name)s - %(levelname)s - %(message)s')\n",
    "# logger = logging.getLogger(__name__)\n",
    "\n",
    "# logger.info(\"Start print log\")\n",
    "# logger.debug(\"Do something\")\n",
    "# logger.warning(\"Something maybe fail.\")\n",
    "# logger.info(\"Finish\")\n",
    "\n",
    "# ——————————————————————————————————————————————————————\n",
    "import logging\n",
    "import time\n",
    "logger = logging.getLogger()\n",
    "\n",
    " \n",
    "def logprac():\n",
    "    logger.info(\"Yesterday once more\")\n",
    "    \n",
    "if __name__ == \"__main__\":\n",
    "    logging.basicConfig(format='[%(asctime)-15s] [%(funcName)s()][%(levelname)s] %(message)s')\n",
    "    logger.setLevel(logging.INFO)  # 调整为logging.INFO，日志会少一点\n",
    "    logger.info(\"begin\")\n",
    "    logprac()\n"
   ]
  },
  {
   "cell_type": "code",
   "execution_count": null,
   "metadata": {},
   "outputs": [],
   "source": [
    "# （三）logging 基本使用：打印和保存\n",
    "\n",
    "import logging\n",
    " \n",
    "logger = logging.getLogger()\n",
    "logger.setLevel(logging.INFO)   # 设置打印级别\n",
    "formatter = logging.Formatter('%(asctime)s %(filename)s %(funcName)s [line:%(lineno)d] %(levelname)s %(message)s')\n",
    " \n",
    "# 设置屏幕打印的格式\n",
    "sh = logging.StreamHandler()\n",
    "sh.setFormatter(formatter)\n",
    "logger.addHandler(sh)\n",
    " \n",
    "# 设置log保存\n",
    "fh = logging.FileHandler(r\"C:\\Users\\hp\\Desktop\\test.log\", encoding='utf8')\n",
    "fh.setFormatter(formatter)\n",
    "logger.addHandler(fh)\n",
    " \n",
    "logging.info('Start print log......')\n"
   ]
  },
  {
   "cell_type": "code",
   "execution_count": null,
   "metadata": {},
   "outputs": [],
   "source": [
    "import time\n",
    "import logging\n",
    "\n",
    "def printing():\n",
    "    logger = logging.getLogger()\n",
    "    formatter = logging.Formatter('%(asctime)s %(filename)s %(funcName)s [line:%(lineno)d] %(levelname)s %(message)s')\n",
    "    \n",
    "    handler = logging.FileHandler(r\"C:\\Users\\hp\\Desktop\\test_1.log\", encoding='utf8')\n",
    "    console = logging.StreamHandler()\n",
    "    \n",
    "    handler.setFormatter(formatter)  # 将log信息绑定到log文件上\n",
    "    console.setFormatter(formatter)  # 将log信息绑定到控制台输出窗口\n",
    "    \n",
    "    logger.addHandler(handler)\n",
    "    logger.addHandler(console)\n",
    "    \n",
    "    logger.setLevel(logging.INFO)  # Set log print level(设置日志打印级别)\n",
    "    logging.info('Start print log......[[[[[[[]]]]]]]')\n",
    "printing()"
   ]
  },
  {
   "cell_type": "code",
   "execution_count": null,
   "metadata": {
    "code_folding": [
     0
    ]
   },
   "outputs": [],
   "source": [
    "# 【1】sys 文件目录操作 :\n",
    "import sys\n",
    "# print(sys.path)               # 返回模块的搜索路径，初始化时使用PYTHONPATH环境变量的值\n",
    "# sys.stdout.write('output')   # 标准输出\n",
    "# sys.stdin.readline()[:-1]    # 标准输入\n",
    "# sys.modules.keys()                # 返回所有已经导入的模块名\n",
    "# sys.modules.values()              # 返回所有已经导入的模块\n",
    "sys.version   # 获取Python解释程序的版本"
   ]
  }
 ],
 "metadata": {
  "kernelspec": {
   "display_name": "Python 3",
   "language": "python",
   "name": "python3"
  },
  "language_info": {
   "codemirror_mode": {
    "name": "ipython",
    "version": 3
   },
   "file_extension": ".py",
   "mimetype": "text/x-python",
   "name": "python",
   "nbconvert_exporter": "python",
   "pygments_lexer": "ipython3",
   "version": "3.7.7"
  }
 },
 "nbformat": 4,
 "nbformat_minor": 4
}
