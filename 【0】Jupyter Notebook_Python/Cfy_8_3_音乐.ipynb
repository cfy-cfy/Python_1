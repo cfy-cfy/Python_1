{
 "cells": [
  {
   "cell_type": "code",
   "execution_count": 1,
   "metadata": {
    "code_folding": []
   },
   "outputs": [
    {
     "name": "stdout",
     "output_type": "stream",
     "text": [
      "ok\n"
     ]
    }
   ],
   "source": [
    "# 【1】酷狗音乐\n",
    "import requests\n",
    "import json\n",
    "res=\"https://webfs.ali.kugou.com/202109022141/96e1c254714a2a0f98610ac9a2e53638/part/0/960325/KGTX/CLTX001/a95ba3d0f622f75f4a9b6b69316239fa.mp3\"\n",
    "# rep=res.replace('\\\\','')\n",
    "music=requests.get(res,timeout=4)\n",
    "with open(r'C:\\Users\\hp\\Desktop\\1.mp3','wb') as f:\n",
    "    f.write(music.content)\n",
    "print('ok')"
   ]
  }
 ],
 "metadata": {
  "kernelspec": {
   "display_name": "Python 3",
   "language": "python",
   "name": "python3"
  },
  "language_info": {
   "codemirror_mode": {
    "name": "ipython",
    "version": 3
   },
   "file_extension": ".py",
   "mimetype": "text/x-python",
   "name": "python",
   "nbconvert_exporter": "python",
   "pygments_lexer": "ipython3",
   "version": "3.7.7"
  }
 },
 "nbformat": 4,
 "nbformat_minor": 4
}
