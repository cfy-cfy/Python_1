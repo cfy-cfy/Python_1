{
 "cells": [
  {
   "cell_type": "code",
   "execution_count": null,
   "metadata": {
    "code_folding": [
     0
    ]
   },
   "outputs": [],
   "source": [
    "# 【0】Python3.x中将urllib2合并到了urllib，之后此包分成了以下几个模块：\n",
    "\n",
    "urllib.request 用于打开和读取URL\n",
    "\n",
    "urllib.error 用于处理前面request引起的异常\n",
    "\n",
    "urllib.parse 用于解析URL\n",
    "\n",
    "urllib.robotparser用于解析robots.txt文件\n",
    "\n",
    "Python3.x中，随着urllib2合入urllib，一些常用的方法也发生了变化：2\n",
    "\n",
    "在Python2.x中使用import urlparse——在Python3.x中会使用import urllib.parse\n",
    "\n",
    "在Python2.x中使用urllib2.urlopen或urllib.urlopen（已弃用）——在Python3.x中会使用urllib.request.urlopen\n",
    "\n",
    "在Python2.x中使用urllib2.Request——在Python3.x中会使用urllib.request.Request\n",
    "\n",
    "在Python2.x中使用urllib.quote——在Python3.x中会使用urllib.request.quote\n",
    "\n",
    "在Python2.x中使用urllib.urlencode——在Python3.x中会使用urllib.parse.urlencode\n",
    "\n",
    "在Python2.x中使用cookielib.CookieJar——在Python3.x中会使用http.CookieJar\n",
    "\n",
    "异常处理：在Python2.x中使用urllib2.URLError,urllib2.HTTPError——在Python3.x中会使用urllib.error.URLError,urllib.error.HTTPError\n",
    "\n",
    "注：在Python3.3后urllib2已经不能再用，所有urllib2全部用urllib.request来代替。\n"
   ]
  },
  {
   "cell_type": "code",
   "execution_count": null,
   "metadata": {
    "code_folding": [
     0
    ]
   },
   "outputs": [],
   "source": [
    "# （一）from urllib.request import urlretrieve 下载图片：—— http://n.sinaimg.cn/\n",
    "from urllib.request import urlretrieve\n",
    "dn_url = 'http://n.sinaimg.cn/sinacn13/139/w1080h659/20180322/e404-fysnevk5758139.jpg'\n",
    "urlretrieve(dn_url,'C:/Users/hp/Desktop/1.jpg')"
   ]
  },
  {
   "cell_type": "code",
   "execution_count": null,
   "metadata": {
    "code_folding": [
     0
    ]
   },
   "outputs": [],
   "source": [
    "# （二）urlretrieve  与 contextlib 下载漫画图片—— https://images.dmzj.com/\n",
    "'''__________________from urllib.request import urlretrieve 下载图片：因反爬虫失败 _________________'''\n",
    "from urllib.request import urlretrieve\n",
    "dn_url = 'https://images.dmzj1.com/img/chapterpic/3059/14237/1439521788936.jpg'\n",
    "urlretrieve(dn_url,'C:/Users/hp/Desktop/1.jpg')\n",
    "# 这个地址就是图片的真实地址，在浏览器中打开，可能直接无法打开，或者能打开，但是一刷新就又不能打开了！\n",
    "# 典型的通过Referer的反扒爬虫手段！\n",
    "# Referer可以理解为来路，先打开章节URL链接，再打开图片链接。打开图片的时候，Referer的信息里保存的是章节URL。\n",
    "# 动漫之家网站的做法就是，站内的用户访问这个图片，我就给他看，从其它地方过来的用户，我就不给他看。\n",
    "# 是不是站内用户，就是根据Referer进行简单的判断。\n",
    "\n",
    "'''__________________from contextlib import closing 解决下载图片：因反爬虫失败 ___________________'''\n",
    "# 使用closing方法可以设置Headers信息，这个Headers信息里保存Referer来路，\n",
    "# 就是第一章的URL，最后以写文件的形式，保存这个图片。\n",
    "# import requests\n",
    "# from contextlib import closing\n",
    "# from fake_useragent import UserAgent\n",
    "# ua=UserAgent(verify_ssl=False)\n",
    "# headers={'User-Agent': ua.random,'Referer': 'https://www.dmzj.com/view/yaoshenji/41917.html'}\n",
    "# dn_url = 'https://images.dmzj1.com/img/chapterpic/3059/14237/14395217940216.jpg'\n",
    "# with closing(requests.get(dn_url, headers=download_header, stream=True)) as response:\n",
    "#     chunk_size = 1024  \n",
    "#     content_size = int(response.headers['content-length'])  \n",
    "#     if response.status_code == 200:\n",
    "#         print('文件大小:%0.2f KB' % (content_size / chunk_size))\n",
    "#         with open('C:/Users/hp/Desktop/11.jpg', \"wb\") as file:  \n",
    "#             for data in response.iter_content(chunk_size=chunk_size):  \n",
    "#                 file.write(data)  \n",
    "#     else:\n",
    "#         print('链接异常')\n",
    "# print('下载完成！')\n"
   ]
  },
  {
   "cell_type": "code",
   "execution_count": null,
   "metadata": {
    "code_folding": [
     0
    ]
   },
   "outputs": [],
   "source": [
    "# 【1.0】urllib 模块：get、post（带参数，headers）访问/请求网站  \n",
    "# 1。 urllib.request 这个模块主要负责构造和发起网络请求，并在其中加入Headers、Proxy等。\n",
    "'''________________ 1. 发起GET请求：主要使用urlopen()方法来发起请求：________________ '''\n",
    "# from urllib import request\n",
    "# resp = request.urlopen('http://www.baidu.com') # 结果为http.client.HTTPResponse对象，read()获取访问网页获得的数据\n",
    "# print(resp.read().decode())                   # 数据是bytes的二进制格式，要decode() 转换成字符串格式\n",
    "'''____________ 使用带参数的GET方法发起请求: ____________'''\n",
    "# import urllib\n",
    "# from fake_useragent import UserAgent\n",
    "# ua = UserAgent(verify_ssl=False)\n",
    "# headers = {'User-Agent': ua.random}\n",
    "# params = urllib.parse.urlencode({'s': '华晨宇', 'type': 100}).encode(\"utf-8\")\n",
    "# url=\"https://music.163.com/#/search/m/?%s\" % params\n",
    "# resq=urllib.request.Request(url,headers=headers)\n",
    "# response=urllib.request.urlopen(resq)\n",
    "# print(response.read().decode(\"utf-8\"))\n",
    "\n",
    "'''____________ 2. 使用带参数的 post 方法提交请求: ____________'''\n",
    "# import urllib\n",
    "# url='https://www.dmzj.com/dynamic/o_search/index'\n",
    "# postd_data=urllib.parse.urlencode({'keywords':'妖神记'}).encode(\"utf-8\")\n",
    "# ————————————————————————-\n",
    "# from fake_useragent import UserAgent\n",
    "# us=UserAgent(verify_ssl=False)\n",
    "# headers = {'User-Agent': ua.random}\n",
    "# resq=urllib.request.Request(url,postd_data,headers=headers)\n",
    "# response=urllib.request.urlopen(resq)\n",
    "# print(response.read().decode(\"utf-8\"))\n",
    "# ————————————————————————-\n",
    "# resq = urllib.request.urlopen(url, data=postd_data, timeout=4)\n",
    "# print(resq.read().decode(\"utf-8\"))\n"
   ]
  },
  {
   "cell_type": "code",
   "execution_count": null,
   "metadata": {
    "code_folding": [
     0
    ]
   },
   "outputs": [],
   "source": [
    "# 【1.1】urllib + http.cookiejar 模块 登录网站—— 海洋网页erp ：\n",
    "'''________________ （1）cookie的方法：登录接口+cookie ______________________________'''\n",
    "# import urllib\n",
    "# headers = {\"User-Agent\":\"Mozilla/5.0 (Windows NT 6.1; rv:72.0) Gecko/20100101 Firefox/72.0\",\n",
    "#            \"Accept\":\"text/html,application/xhtml+xml,application/xml;q=0.9,*/*;q=0.8\",\n",
    "#            \"Host\":\"erp.aicabathrooms.com:9050\",\n",
    "#            \"Accept-Language\": \"zh-CN,zh;q=0.8,zh-TW;q=0.7,zh-HK;q=0.5,en-US;q=0.3,en;q=0.2\",\n",
    "#            \"Accept-Encoding\": \"gzip, deflate\",\n",
    "#            \"Content-Type\": \"application/x-www-form-urlencoded\",\n",
    "#            \"Origin\": \"http://erp.aicabathrooms.com:9050\",\n",
    "#            \"Connection\": \"keep-alive\",\n",
    "#            \"Referer\":\"http://erp.aicabathrooms.com:9050/ocean/\",\n",
    "#            \"Cookie\": \"PLAYAB_SESSION=dff0ccbee83a157e51d1c9ee7a69ecaa353b5689-%00role%3A5%00%00___AT%3A4ca312f5b5907e0dad150df18e405015620c0d05%00%00user%3Acfycfy%00\",\n",
    "#            \"Upgrade-Insecure-Requests\": \"1\"}\n",
    "# url=\"http://erp.aicabathrooms.com:9050/ocean/users/login\"\n",
    "# post_data = urllib.parse.urlencode({'authenticityToken':'404d7a04806e8d619f8300f7dd3882d2559eadb0','username': 'cfycfy', 'password': '122333'}).encode(\"utf-8\")\n",
    "# resq=urllib.request.Request(url,headers=headers)\n",
    "# response = urllib.request.urlopen(resq,post_data)\n",
    "\n",
    "# print(response.read().decode(\"utf-8\"))\n",
    "\n",
    "'''________________ （2）cookie的方法：登录界面+个人用户界面+cookiejar ______________________________'''\n",
    "import urllib\n",
    "from http import cookiejar\n",
    "# 登陆界面的url\n",
    "login_url=\"http://erp.aicabathrooms.com:9050/ocean/users/login\"\n",
    "# 用户个人界面的url\n",
    "user_url = \"http://erp.aicabathrooms.com:9050/ocean/home/index\"\n",
    " \n",
    "# 设置浏览器的headers信息\n",
    "headers = {\"User-Agent\":\"Mozilla/5.0 (Windows NT 6.1; rv:72.0) Gecko/20100101 Firefox/72.0\",\n",
    "           \"Host\":\"erp.aicabathrooms.com:9050\",\n",
    "           \"Origin\": \"http://erp.aicabathrooms.com:9050\",\n",
    "           \"Connection\": \"keep-alive\",\n",
    "           \"Referer\":\"http://erp.aicabathrooms.com:9050/ocean/\"} \n",
    "# 设置post 的数据\n",
    "data = {'authenticityToken':'404d7a04806e8d619f8300f7dd3882d2559eadb0',\n",
    "        'username': 'cfycfy',\n",
    "        'password': '122333'}\n",
    "\n",
    "post_data = urllib.parse.urlencode(data).encode('utf-8')    # 将数据编码成url查询字符串\n",
    "cookieJar =cookiejar.CookieJar()  # 初始化一个cookieJar来处理　cookies，CookieJar　这个类是获取cookies并保存\n",
    "handler = urllib.request.HTTPCookieProcessor(cookieJar)     # 给opener加入cookies的处理程序\n",
    "opener = urllib.request.build_opener(handler)               # 构建一个opener\n",
    "request = urllib.request.Request(login_url,headers=headers) # 构造请求\n",
    "\n",
    "login_response = opener.open(request,post_data)             # 打开登陆界面的url，并将data　post出去，\n",
    "response = opener.open(user_url)                            # 自动携带cookies去访问用户界面的url\n",
    "print(response.read().decode('utf-8'))\n",
    "\n",
    "'''________________ （3）cookie的方法：cookie+个人用户界面 ______________________________'''\n",
    "# import urllib\n",
    "# headers = {\"User-Agent\":\"Mozilla/5.0 (Windows NT 6.1; rv:72.0) Gecko/20100101 Firefox/72.0\",\n",
    "#            \"Accept\":\"text/html,application/xhtml+xml,application/xml;q=0.9,*/*;q=0.8\",\n",
    "#            \"Host\":\"erp.aicabathrooms.com:9050\",\n",
    "#            \"Accept-Language\": \"zh-CN,zh;q=0.8,zh-TW;q=0.7,zh-HK;q=0.5,en-US;q=0.3,en;q=0.2\",\n",
    "#            \"Accept-Encoding\": \"gzip, deflate\",\n",
    "#            \"Content-Type\": \"application/x-www-form-urlencoded\",\n",
    "#            \"Origin\": \"http://erp.aicabathrooms.com:9050\",\n",
    "#            \"Connection\": \"keep-alive\",\n",
    "#            \"Referer\":\"http://erp.aicabathrooms.com:9050/ocean/\",\n",
    "# \"Cookie\":\"PLAYAB_SESSION=852e06eecd812f1f0511ea4e589f3e53772735b1-%00___AT%3Aa359ad92c50eaa96bbb76a9e4b82565e6aa86841%00%00role%3A5%00%00user%3Acfycfy%00\",\n",
    "#            \"Upgrade-Insecure-Requests\": \"1\"}\n",
    "\n",
    "# # \"Cookie\":\"PLAYAB_SESSION=dff0ccbee83a157e51d1c9ee7a69ecaa353b5689-%00role%3A5%00%00___AT%3A4ca312f5b5907e0dad150df18e405015620c0d05%00%00user%3Acfycfy%00\",\n",
    "# # \"Cookie\":\"PLAYAB_SESSION=505336e2fb187cde6c03e9f1876a7c80d0686d06-%00role%3A5%00%00___AT%3Aa359ad92c50eaa96bbb76a9e4b82565e6aa86841%00%00user%3Acfycfy%00\",\n",
    "# # \"Cookie\":\"PLAYAB_SESSION=852e06eecd812f1f0511ea4e589f3e53772735b1-%00___AT%3Aa359ad92c50eaa96bbb76a9e4b82565e6aa86841%00%00role%3A5%00%00user%3Acfycfy%00\",\n",
    "# url=\"http://erp.aicabathrooms.com:9050/ocean/home/index\"\n",
    "# resq=urllib.request.Request(url,headers=headers)\n",
    "# response = urllib.request.urlopen(resq)\n",
    "\n",
    "# print(response.read().decode(\"utf-8\"))"
   ]
  },
  {
   "cell_type": "code",
   "execution_count": null,
   "metadata": {
    "code_folding": [
     0
    ]
   },
   "outputs": [],
   "source": [
    "# 【1.2】urllib + HTTPCookieProcessor + build_opener + install_opener + http.cookiejar // requests 获取 cookie\n",
    "from http import cookiejar\n",
    "from urllib import request\n",
    "''' ___________________________ （1） ______________________________ '''\n",
    "# User_Agent = 'Mozilla/5.0 (Windows NT 10.0; Win64; x64) AppleWebKit/537.36 (KHTML, like Gecko) Chrome/73.0.3683.86 Safari/537.36'\n",
    "# header = {}\n",
    "# header['User-Agent'] = User_Agent\n",
    "# cookie = cookiejar.CookieJar()\n",
    "# cookie_handle=request.HTTPCookieProcessor(cookie)\n",
    "# cookie_opener = request.build_opener(cookie_handle)\n",
    "# req = request.Request(\"https://www.baidu.com\",headers=header)\n",
    "# response = cookie_opener.open(req)\n",
    "# for item in cookie:\n",
    "#     print('Name = ' +item.name)\n",
    "#     print('Value =' +item.value)\n",
    "''' ______________________________ （2） ___________________________ '''\n",
    "\n",
    "# url = 'https://www.baidu.com'\n",
    "# cookie = cookiejar.CookieJar()                # 创建一个cookiejar对象\n",
    "# cookies = request.HTTPCookieProcessor(cookie) # 使用HTTPCookieProcessor创建cookie处理器\n",
    "# opener = request.build_opener(cookies)        # 并以它为参数创建Opener对象\n",
    "# resp = opener.open(url)                       # 使用这个opener来发起请求\n",
    "\n",
    "# # 查看之前的cookie对象，则可以看到访问百度获得的cookie\n",
    "# for item in cookie:\n",
    "#     print('Name = ' +item.name)\n",
    "#     print('Value =' +item.value)\n",
    "''' ______________________________ （3） ___________________________ '''\n",
    "# User_Agent = 'Mozilla/5.0 (Windows NT 10.0; Win64; x64) AppleWebKit/537.36 (KHTML, like Gecko) Chrome/73.0.3683.86 Safari/537.36'\n",
    "# header = {}\n",
    "# header['User-Agent'] = User_Agent\n",
    "# cookie = cookiejar.CookieJar()\n",
    "# cookie_handle=request.HTTPCookieProcessor(cookie)\n",
    "# cookie_opener = request.build_opener(cookie_handle)\n",
    "# request.install_opener(cookie_opener)\n",
    "# req = request.Request(\"https://www.baidu.com\",headers=header)\n",
    "# response = request.urlopen(req)\n",
    "# for item in cookie:\n",
    "#     print('Name = ' +item.name)\n",
    "#     print('Value =' +item.value)\n"
   ]
  },
  {
   "cell_type": "code",
   "execution_count": null,
   "metadata": {
    "code_folding": [
     0
    ]
   },
   "outputs": [],
   "source": [
    "# 【1.3】requests + requests.Session()获取 cookies\n",
    "''' ______________________________ （1）requests ___________________________ '''\n",
    "# import requests\n",
    "# headers = {'user-agent': 'Mozilla/5.0 (Windows NT 10.0; Win64; x64) AppleWebKit/537.36 (KHTML, like Gecko) Chrome/73.0.3683.86 Safari/537.36'}\n",
    "# r = requests.get('https://www.baidu.com', headers = headers)\n",
    "# print(r.cookies)\n",
    "# print(\"=========\")\n",
    "# print(r.headers)\n",
    "# print(\"=========\")\n",
    "# print(r.request)\n",
    "# print(\"=========\")\n",
    "# for cookie in r.cookies:\n",
    "#     print(cookie.name)\n",
    "#     print(cookie.value)\n",
    "#     print(\"=========\")\n",
    "''' ______________________________ （1）requests.Session() ___________________________ '''\n",
    "session = requests.Session()\n",
    "headers = {\n",
    "    'User-Agent': 'Mozilla/5.0 (Windows NT 6.1; WOW64) AppleWebKit/537.36 (KHTML, like Gecko) Chrome/78.0.3904.108 Safari/537.36',\n",
    "    'Origin': 'https://jobs.bytedance.com',\n",
    "    'Referer': f'https://jobs.bytedance.com/experienced/position?keywords=&category=&location=&project=&type=&job_hot_flag=&current=1&limit=10'\n",
    "}\n",
    "data = {\"portal_entrance\": 1}\n",
    "url = \"https://jobs.bytedance.com/api/v1/csrf/token\"\n",
    "response = session.post(url, headers=headers, data=data)\n",
    "print(response.text)\n",
    "print(response.cookies)\n",
    "print(session.cookies.get_dict())\n",
    "print(requests.utils.dict_from_cookiejar(response.cookies))"
   ]
  }
 ],
 "metadata": {
  "kernelspec": {
   "display_name": "Python 3",
   "language": "python",
   "name": "python3"
  },
  "language_info": {
   "codemirror_mode": {
    "name": "ipython",
    "version": 3
   },
   "file_extension": ".py",
   "mimetype": "text/x-python",
   "name": "python",
   "nbconvert_exporter": "python",
   "pygments_lexer": "ipython3",
   "version": "3.7.7"
  }
 },
 "nbformat": 4,
 "nbformat_minor": 4
}
