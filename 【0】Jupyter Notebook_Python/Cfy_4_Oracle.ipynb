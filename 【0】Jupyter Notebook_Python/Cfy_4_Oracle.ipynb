{
 "cells": [
  {
   "cell_type": "code",
   "execution_count": null,
   "metadata": {
    "code_folding": [
     0
    ]
   },
   "outputs": [],
   "source": [
    "# 【0】安装简介：pip install cx_Oracle  + pip install sqlalchemy\n",
    "以 Python 中的 SQLAlchemy 模块为例，配合使用其他第三方模块，SQLAlchemy 能够操作各种数据库，\n",
    "包括 Oracle、PostgreSQL、MySQL、SQLite、SQL Server 等等，如果你还没有安装，可以通过以下命令进行安装：\n",
    "pip install sqlalchemy\n",
    "pip install cx_Oracle"
   ]
  },
  {
   "cell_type": "code",
   "execution_count": null,
   "metadata": {},
   "outputs": [],
   "source": [
    "from sqlalchemy import create_engine\n",
    "# # 创建数据库引擎\n",
    "# engine = create_engine('oracle://user:password@ip_address:1521/orcl')\n",
    "# # 连接数据库\n",
    "# con = engine.connect()\n",
    "\n",
    "import cx_Oracle\n",
    "db = cx_Oracle.connect('hr', 'hrpwd', 'localhost:1521/XE')"
   ]
  }
 ],
 "metadata": {
  "kernelspec": {
   "display_name": "Python 3",
   "language": "python",
   "name": "python3"
  },
  "language_info": {
   "codemirror_mode": {
    "name": "ipython",
    "version": 3
   },
   "file_extension": ".py",
   "mimetype": "text/x-python",
   "name": "python",
   "nbconvert_exporter": "python",
   "pygments_lexer": "ipython3",
   "version": "3.7.7"
  }
 },
 "nbformat": 4,
 "nbformat_minor": 4
}
