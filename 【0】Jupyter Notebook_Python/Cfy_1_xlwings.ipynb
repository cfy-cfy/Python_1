{
 "cells": [
  {
   "cell_type": "code",
   "execution_count": null,
   "metadata": {
    "code_folding": [
     0
    ]
   },
   "outputs": [],
   "source": [
    "# 【0】xlwings 语法简介：\n",
    "'''\n",
    "（1）xlwings\n",
    "    可结合 VBA 实现对 Excel 编程，强大的数据输入分析能力，同时拥有丰富的接口，结合 pandas/numpy/matplotlib 轻松\n",
    "    应对 Excel 数据处理工作。\n",
    "（2）openpyxl——不支持.xls\n",
    "    简单易用，功能广泛，单元格格式/图片/表格/公式/筛选/批注/文件保护等等功能应有尽有，图表功能是其一大亮点，\n",
    "    缺点是对 VBA 支持的不够好\n",
    "（3）pandas——不支持修改\n",
    "    数据处理是 pandas 的立身之本，Excel 作为 pandas 输入/输出数据的容器。\n",
    "（4）win32com\n",
    "    从命名上就可以看出，这是一个处理 windows 应用的扩展，Excel 只是该库能实现的一小部分功能。该库还支持 office 的\n",
    "    众多操作。需要注意的是，该库不单独存在，可通过安装 pypiwin32 或者 pywin32 获取。\n",
    "（5）xlsxwriter————不支持.xls，不支持修改和读取\n",
    "    拥有丰富的特性，支持图片/表格/图表/筛选/格式/公式等，功能与openpyxl相似，优点是相比 openpyxl 还支持 VBA 文件导入，\n",
    "    迷你图等功能，缺点是不能打开/修改已有文件，意味着使用 xlsxwriter 需要从零开始。\n",
    "（6）DataNitro\n",
    "    作为插件内嵌到 Excel 中，可完全替代 VBA，在 Excel 中使用 python 脚本。既然被称为 Excel 中的 python，\n",
    "    协同其他 python 库亦是小事一桩。然而，这是付费插件...\n",
    "（7）xlutils\n",
    "    基于 xlrd/xlwt，老牌 python 包，算是该领域的先驱，功能特点中规中矩，比较大的缺点是仅支持 xls 文件。\n",
    "'''\n"
   ]
  },
  {
   "cell_type": "code",
   "execution_count": null,
   "metadata": {
    "code_folding": [
     0
    ]
   },
   "outputs": [],
   "source": [
    "# （一）xlwings : 打开已有工作簿、新建簿、工作簿已打开下引用工作簿+工作表+单元格、储存、读取数据\n",
    "import xlwings as xw\n",
    "'''打开已有工作簿'''\n",
    "# app=xw.App(visible=True,add_book=False)\n",
    "# filepath=r'C:\\Users\\hp\\Desktop\\xlwings.xlsx'\n",
    "# wb=app.books.open(filepath)\n",
    "# wb.sheets['sheet1'].range('A2').value='如梦'\n",
    "# wb.sheets.add('Sheet2')\n",
    "# wb.save()      # 默认是原路径\n",
    "'''新建工作簿'''\n",
    "# app=xw.App(visible==True,add_book=False)\n",
    "# wb=app.books.add()\n",
    "# wb.sheets['sheet1'].range('A1').value='人生'\n",
    "# wb.save(r'C:\\Users\\hp\\Desktop\\xlwings.xlsx')\n",
    "# wb.close()\n",
    "# app.quit()\n",
    "'''工作簿已打开的情况——引用工作簿'''\n",
    "# wb=xw.books['xlwings.xlsx']   # 引用指定工作簿\n",
    "# wb.activate()                 # 激活指定工作簿\n",
    "# wb=xw.books.active            # 引用活动工作簿\n",
    "# wb=xw.books[0]                # 引用第一个工作簿\n",
    "'''工作簿已打开的情况——引用工作表'''\n",
    "# sht=wb.sheets['sheet1']             # 引用指定工作表\n",
    "# sht.activate()                      # 激活指定工作表\n",
    "# sht=xw.sheets.active                # 引用活动工作表\n",
    "# sht=wb.sheets[0]                    # 引用第一个工作表\n",
    "'''工作簿已打开的情况——引用单元格1 range'''\n",
    "# rng=sht.range('B1')                      # 引用指定工作表上的单元格\n",
    "# rng=xw.Range('C1')                       # 引用活动工作表上，活动sheet上的单元格，注意Range首字母大写\n",
    "# rng=wb.sheets['sheet1'].range('A4')      # 赋值指定工作簿中_指定工作表_指定单元格\n",
    "# rng=xw.books[0].sheets[0].range('B2')    # 第一个工作薄的第一张sheet的单元格\n",
    "# rng=xw.books['xlwings.xlsx'].sheets['sheet1'].range('A5')\n",
    "# rng.value=\"黑猫警长\"\n",
    "'''工作簿已打开的情况——引用单元格2 切片'''\n",
    "# sht=xw.books['xlwings.xlsx'].sheets['sheet1']\n",
    "# rng=sht['C1']\n",
    "# rng=sht['A1:B5']\n",
    "# rng=sht[0,1]        # 第 1行，第 2 列——即 B1 \n",
    "# rng=sht[2`:10,2:4]   # 指C3:D9\n",
    "# rng=sht[0:10,0:4]   # 指A1:D10\n",
    "# rng.value=\"哇哈哈\"\n",
    "'''工作簿已打开的情况——引用单元格3 tuple'''\n",
    "# rng=xw.Range((1,1),(3,3))   # 指第1行，第1列到第3行第3列——即 A1:C3\n",
    "# rng=xw.Range((1,2))         # 第 1行，第 2 列——即 B1 \n",
    "# rng.value=\"香飘飘\"\n",
    "'''储存数据——单个值、列表、二维数组'''\n",
    "# sht=xw.books['xlwings.xlsx'].sheets['sheet1']\n",
    "# sht.range('A1').value=\"香飘飘\"                  # 存储单个值\n",
    "# sht['A1'].value=[1,2,3]                         # 将列表[1,2,3]储存在A1：C1中\n",
    "# sht[0,0].options(transpose=True).value=[1,2,3]  # 将列表[1,2,3]储存在A1:A3中\n",
    "# sht.range((1,1)).options(expand='table').value=[[1,2],[3,4]] # 将2x2表格，即二维数组，储存在A1:B2中\n",
    "'''读取数据——单个值、列表、二维数组'''\n",
    "# sht=xw.books['xlwings.xlsx'].sheets['sheet1']\n",
    "# a=sht.range('A1').value      # 读取单个值\n",
    "# a=sht.range('A1:A2').value   # 将值读取到列表中\n",
    "# a=sht.range('A1:B2').value   # 将第一行和第二行的数据按二维数组的方式读取\n",
    "# print(a)"
   ]
  },
  {
   "cell_type": "code",
   "execution_count": null,
   "metadata": {
    "code_folding": [
     0
    ]
   },
   "outputs": [],
   "source": [
    "# （二）xlwings :工作簿常用、工作表常用、range常用、books 工作簿集合、sheets 工作表的api\n",
    "import xlwings as xw\n",
    "'''1_工作簿常用的API'''\n",
    "# wb=xw.books['xlwings.xlsx']\n",
    "# wb=xw.books[0]\n",
    "# wb.activate()              #  激活指定的工作簿\n",
    "# print(wb.fullname)         # 工作簿全路径名\n",
    "# print(wb.name)             #  工作簿名\n",
    "'''2_工作表常用的API'''\n",
    "# sht=xw.books['xlwings.xlsx'].sheets['Sheet1'] \n",
    "# sht.activate()                 # 激活sheet为活动工作表\n",
    "# sht.clear()                    # 清除sheet的内容和格式\n",
    "# sht.clear_contents()           # 清除sheet的内容\n",
    "# print(sht.name)\n",
    "# sht.delete                     # 删除sheet\n",
    "'''3_range常用的api'''\n",
    "rng=xw.Range('A1:C5')\n",
    "# rng=xw.books[0].sheets[0].range('A1')\n",
    "# rng.add_hyperlink(r'www.baidu.com','百度','提示：点击即链接到百度')  # 加入超链接\n",
    "# print(rng.address)                                # 取得当前range的地址\n",
    "# print(rng.get_address(include_sheetname=True))    # 取得当前range的地址\n",
    "# rng.get_address(row_absolute=True, column_absolute=True,include_sheetname=False, external=False)\n",
    "# rng.clear_contents()                     # 清除格式和内容\n",
    "# rng.clear()                              # 清除range的内容\n",
    "# rng.color                                # 取得range的背景色,以元组形式返回RGB值\n",
    "# rng.color=(255,186,183)                  # 设置range的颜色\n",
    "# rng.color=None                           # 清除range的背景色\n",
    "# print(rng.column)            # 获得range的第一列列标\n",
    "# print(rng.row)               # range的第一行行标\n",
    "# print(rng.count)             # 返回range中单元格的个数\n",
    "# print(rng.current_region.address)                     # 获得当前数据区域地址\n",
    "# print(rng.end('up').address)                          # 获得最后/第一个单元格地址\n",
    "# print(rng.end('down').address)\n",
    "# rng.formula='=SUM(B1:B5)'                             # 输入普通公式\n",
    "# rng.formula_array='=sum(1/countif(A1:A7,A1:A7))'      # 输入数组公式\n",
    "# rng.column_width             # 获得列宽\n",
    "# rng.row_height               # 行的高度，所有行一样高返回行高，不一样返回None\n",
    "# rng.width                    # 返回range的总宽度\n",
    "# rng.height                   # 返回range的总高度\n",
    "# rng.hyperlink                # 获得range的超链接\n",
    "# rng.last_cell                # 获得range中右下角最后一个单元格\n",
    "# rng.offset(row_offset=0,column_offset=0)            # range平移\n",
    "# rng.resize(row_size=None,column_size=None)          # range进行resize改变range的大小\n",
    "# print(rng.shape)                    # 返回range的行数和列数\n",
    "# print(rng.sheet)                    # 返回range所在的sheet\n",
    "# print(rng.rows)                     # 返回range的所有行\n",
    "# print(rng.rows[0])                  # range的第一行\n",
    "# print(rng.rows.count)               # range的总行数\n",
    "# rng.columns               # 返回range的所有列\n",
    "# rng.columns[0]            # 返回range的第一列\n",
    "# rng.columns.count         # 返回range的列数\n",
    "# rng.autofit()             # 所有range的大小自适应\n",
    "# rng.columns.autofit()     # 所有列宽度自适应\n",
    "# rng.rows.autofit()        # 所有行宽度自适应\n",
    "'''4_books 工作簿集合的api'''\n",
    "# xw.books.add()                      # 新建工作簿\n",
    "# xw.books.active                     # 引用当前活动工作簿\n",
    "''''5_sheets 工作表的集合的api'''\n",
    "# xw.sheets.add(name=None,before=None,after=None) # 新建工作表\n",
    "# xw.sheets.active                                # 引用当前活动sheet"
   ]
  },
  {
   "cell_type": "code",
   "execution_count": 16,
   "metadata": {
    "code_folding": [
     0
    ]
   },
   "outputs": [],
   "source": [
    "# （三）xlwings：实例 1——\n",
    "import xlwings as xw\n",
    "'''____________________ Excel中区域的选取表格 ____________________'''\n",
    "sht=xw.books['xlwings.xlsx'].sheets['Sheet1']\n",
    "# rng=sht.range('A1').options(transpose=True)       # 转置数据，往行方向填充\n",
    "# rng.value=['a1','a2','a3']\n",
    "# rng=sht.range('A1').expand('right')               # 往列方向填充\n",
    "# rng.value=['a1','b1']\n",
    "# sht.range((1,1)).options(expand='table').value=[[1,2,4],[3,5,6]]           # 将2x3表格，即二维数组，储存在A1C2中\n",
    "# sht.range('A1').expand('table').value=[['a1','a2','a3'],['b1','b2','b3']]\n",
    "'''____________________ 获取最大行数和列数，并循环 ____________________'''\n",
    "app=xw.App(visible=True,add_book=False)\n",
    "filepath=r\"C:\\Users\\hp\\Desktop\\customer.xlsx\"\n",
    "wb=app.books.open(filepath)\n",
    "sht=wb.sheets[0]\n",
    "for i in range(1,sht.range(\"A1\").end('down').row):\n",
    "    for j in range(0,sht.range(\"A1\").end('right').column):\n",
    "        print(sht[i,j].value)"
   ]
  },
  {
   "cell_type": "code",
   "execution_count": null,
   "metadata": {
    "code_folding": [
     0
    ]
   },
   "outputs": [],
   "source": [
    "# 【1】在Excel中直接调用python代码！ https://mp.weixin.qq.com/s/tBQciqoKjjvLCTSW7W21wQ\n",
    "第一步：在excel中加载xlwings模块\n",
    "关于wlxings的使用，前面已经发过，具体参考python自动化办公|批量处理Excel文件的利器-xlwings，这里不再赘述\n",
    "首先将xlwings模块作为excel功能区的选项卡\n",
    "依次点击“文件-选项”，打开如下对话框：\n",
    "点击“信任中心-信任中心设置=宏设置”，勾选“信任对VBA工程对象模型的访问”：\n",
    "点击功能区“开发工具-加载宏”，勾选Xlwings：\n",
    "VBA引用 xlwings\n",
    "如果没有Xlwings，可以点击“浏览”，选择xwlings安装目录下的xlwings.xlam文件，加载进去就OK了\n",
    "\n",
    "\n",
    "第二步：导入并调用python代码\n",
    "利用Xlwings模块的quickstart快速创建带宏的工作蒲和python代码文件，具体操作如下。\n",
    "WIN+R输入cmd打开命令行，用cd命令切换至你想要的路径，在路径下输入命令“xlwings quickstart table”：\n",
    "打开table.py文件，可以看到自动生成的python代码：\n",
    "内有main()和hello()函数，可以实现相应的功能\n",
    "我们打开table.xlsm文件，依次点击功能区“xlwings-Import Functions”,等加载完毕，在A1单元格输入hello()函数:\n",
    "这样就实现了在excel中调用python自定义函数了\n"
   ]
  }
 ],
 "metadata": {
  "kernelspec": {
   "display_name": "Python 3",
   "language": "python",
   "name": "python3"
  },
  "language_info": {
   "codemirror_mode": {
    "name": "ipython",
    "version": 3
   },
   "file_extension": ".py",
   "mimetype": "text/x-python",
   "name": "python",
   "nbconvert_exporter": "python",
   "pygments_lexer": "ipython3",
   "version": "3.7.7"
  }
 },
 "nbformat": 4,
 "nbformat_minor": 4
}
