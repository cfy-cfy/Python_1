{
 "cells": [
  {
   "cell_type": "code",
   "execution_count": null,
   "metadata": {
    "code_folding": [
     0
    ]
   },
   "outputs": [],
   "source": [
    "# 【0】Sqlite 简介 ：菜鸟学习 https://www.runoob.com/sqlite/sqlite-python.html \n",
    "'''\n",
    "1. 前言\n",
    "    Sqlite 是一种 嵌入式数据库，数据库就是一个文件，体积很小，底层由 C 语言编写，经常被集成到移动应用程序中\n",
    "    事实上，Python 内置了 sqlite3 模块，不需要安装任何依赖，就可以直接操作 Sqlite 数据库\n",
    "2. 准备\n",
    "    和 Python 操作 Mysql 类似，操作 Sqlite 主要包含下面 2 种方式：\n",
    "    sqlite3 + 原生 SQL\n",
    "    SQLAlchemy + ORM\n",
    "3.数据类型\n",
    "        Null         空值\n",
    "        SMALLLINT    短整型\n",
    "        INTEGER      带符号的整数 这个就是布尔类型 0（false）和 1（true）\n",
    "        TINYINT      长整型\n",
    "        REAL         浮点值\n",
    "        TEXT         大量文本字符串\n",
    "        BLOB         二进制对象       \n",
    "        NUMERIC      使用所有五个存储类的值\n",
    "        VARCHAR(n)   变动长度字符串，只能存英文，最多8000个字符\n",
    "        CHAR(n)      固定长度字符串\n",
    "        DATA         年月日\n",
    "        TIME         时分秒\n",
    "        DOUBLE       双精度浮点数\n",
    "        FLOAT        单精度浮点数\n",
    "        TIMESTAMP    存储年月日时分秒\n",
    "        NCHAR        存储Unicode数据类型的固长字符串 ，可存英文汉字，做多4000个字符\n",
    "        NVARCHAR 存储Unicode数据类型的变长字符串\n",
    "        NTEXT        存储Unicode数据类型的大量文本字符串\n",
    "        DATATIME     存储日期时间\n",
    "4.基本关键字\n",
    "        了解了数据类型，在创建数据库时用于操作时需要配套使用的关键字当然也必须得了解，这样才能提高开发效率。\n",
    "        AND   与\n",
    "        BETWEEN  最小值和最大值之间\n",
    "        EXISTS 判断是否存在\n",
    "        IN  判断某个值是否属于另一个值\n",
    "        NOT IN 判断某个值是否不属于另一个值\n",
    "        LIKE 使用通配符比较值与另一个值 不区分大小写 %(表示零个,一个或者多个)  _(表示一个)\n",
    "        GLOB  使用通配符将值与类似值进行比较，并区分大小写的 *(表示零个或多个)     ?(表示一个)\n",
    "        LIMIT  限制满足条件的值的数量\n",
    "        ORDER BY 排序  ASC(升序) | DESC(降序)\n",
    "        GROUP BY  数据聚合\n",
    "        HAVING   过滤分组，使用前一定要使用GROUP BY\n",
    "        DISTINCT   消除所有重复记录\n",
    "        NOT  不，常和in一起用\n",
    "        OR   或\n",
    "        IS NULL  判断是否等于空值，类型运算符\n",
    "        IS  相当于‘=’\n",
    "        IS NOT  判断是否不等于 相当于“！=”\n",
    "        UNIQUE    不重复\n",
    "        UNION     消除所有重复行\n",
    "        UNIONALL  不消除重复行\n",
    "        WHERE   用于满足某个条件时\n",
    "        SELECT  选择\n",
    "        FROM   来自\n",
    "        INSERT INTO 插入表数据\n",
    "        PRIMARY Key  主列\n",
    "        DEFAULT 默认值\n",
    "        CHECK 检查\n",
    "'''"
   ]
  },
  {
   "cell_type": "code",
   "execution_count": null,
   "metadata": {
    "code_folding": [
     0
    ]
   },
   "outputs": [],
   "source": [
    "# 【1】SQLite 学习：连接数据库 + 创建表 + INSERT 操作\n",
    "import sqlite3\n",
    "import os\n",
    "file_path=os.path.join(os.path.expanduser('~'),\"Desktop\",'test.db')\n",
    "# print(file_path)\n",
    "# —————————————————————————————— 连接数据库，不存在则创建\n",
    "conn = sqlite3.connect(file_path)\n",
    "print(\"Opened database successfully\")\n",
    "c = conn.cursor()\n",
    "# —————————————————————————————— 创建表\n",
    "c.execute('''CREATE TABLE COMPANY\n",
    "       (ID INT PRIMARY KEY     NOT NULL,\n",
    "       NAME           TEXT    NOT NULL,\n",
    "       AGE            INT     NOT NULL,\n",
    "       ADDRESS        CHAR(50),\n",
    "       SALARY         REAL);''')\n",
    "print(\"Table created successfully\")\n",
    "# —————————————————————————————— INSERT 操作\n",
    "c.execute(\"INSERT INTO COMPANY (ID,NAME,AGE,ADDRESS,SALARY) \\\n",
    "      VALUES (1, 'Paul', 32, 'California', 20000.00 )\")\n",
    "c.execute(\"INSERT INTO COMPANY (ID,NAME,AGE,ADDRESS,SALARY) \\\n",
    "      VALUES (2, 'Allen', 25, 'Texas', 15000.00 )\")\n",
    "c.execute(\"INSERT INTO COMPANY (ID,NAME,AGE,ADDRESS,SALARY) \\\n",
    "      VALUES (3, 'Teddy', 23, 'Norway', 20000.00 )\")\n",
    "c.execute(\"INSERT INTO COMPANY (ID,NAME,AGE,ADDRESS,SALARY) \\\n",
    "      VALUES (4, 'Mark', 25, 'Rich-Mond ', 65000.00 )\")\n",
    "\n",
    "# —————————————————————————————— \n",
    "conn.commit()\n",
    "conn.close()\n",
    "\n"
   ]
  },
  {
   "cell_type": "code",
   "execution_count": null,
   "metadata": {
    "code_folding": [
     0
    ]
   },
   "outputs": [],
   "source": [
    "# 【1】SQLite 学习：SELECT 操作 +\n",
    "import sqlite3\n",
    "import os\n",
    "file_path=os.path.join(os.path.expanduser('~'),\"Desktop\",'test.db')\n",
    "# —————————————————————————————— SELECT 操作\n",
    "conn=sqlite3.connect(file_path)\n",
    "c=conn.cursor()\n",
    "cursor = c.execute(\"SELECT id, name, address, salary  from COMPANY\")\n",
    "for row in cursor:\n",
    "   print(\"ID = \", row[0])\n",
    "   print(\"NAME = \", row[1])\n",
    "   print(\"ADDRESS = \", row[2])\n",
    "   print(\"SALARY = \", row[3], \"\\n\")\n",
    "conn.close()"
   ]
  },
  {
   "cell_type": "code",
   "execution_count": null,
   "metadata": {
    "code_folding": [
     0
    ]
   },
   "outputs": [],
   "source": [
    "# 【1】SQLite 学习：UPDATE 操作\n",
    "import sqlite3\n",
    "import os\n",
    "file_path=os.path.join(os.path.expanduser('~'),\"Desktop\",'test.db')\n",
    "conn=sqlite3.connect(file_path,timeout=10)\n",
    "c = conn.cursor()\n",
    "print(\"Opened database successfully\")\n",
    "c.execute(\"UPDATE COMPANY set SALARY = 25000.00 where ID=1\")\n",
    "conn.commit()\n",
    "print(\"Total number of rows updated :\", conn.total_changes)\n",
    "cursor = conn.execute(\"SELECT id, name, address, salary  from COMPANY\")\n",
    "for row in cursor:\n",
    "   print(\"ID = \", row[0])\n",
    "   print(\"NAME = \", row[1])\n",
    "   print(\"ADDRESS = \", row[2])\n",
    "   print(\"SALARY = \", row[3], \"\\n\")\n",
    "print(\"Operation done successfully\")\n",
    "conn.close()"
   ]
  }
 ],
 "metadata": {
  "kernelspec": {
   "display_name": "Python 3",
   "language": "python",
   "name": "python3"
  },
  "language_info": {
   "codemirror_mode": {
    "name": "ipython",
    "version": 3
   },
   "file_extension": ".py",
   "mimetype": "text/x-python",
   "name": "python",
   "nbconvert_exporter": "python",
   "pygments_lexer": "ipython3",
   "version": "3.7.7"
  }
 },
 "nbformat": 4,
 "nbformat_minor": 4
}
