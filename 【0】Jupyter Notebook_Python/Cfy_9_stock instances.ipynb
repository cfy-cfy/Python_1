{
 "cells": [
  {
   "cell_type": "code",
   "execution_count": 2,
   "metadata": {
    "code_folding": []
   },
   "outputs": [
    {
     "name": "stdout",
     "output_type": "stream",
     "text": [
      "601288\n",
      "股票代码： 601288 消极比例： 0.099644128113879 积极比例： 0.900355871886121\n",
      "600332\n",
      "股票代码： 600332 消极比例： 0.21071428571428572 积极比例： 0.7892857142857143\n"
     ]
    },
    {
     "data": {
      "image/png": "[encoded data removed]",
      "text/plain": [
       "<Figure size 720x576 with 1 Axes>"
      ]
     },
     "metadata": {
      "needs_background": "light"
     },
     "output_type": "display_data"
    }
   ],
   "source": [
    "# 【0】股票舆情分析系统: pip install baidu-aip + 登录并注册百度人工智能平台（https://ai.baidu.com/）\n",
    "'''\n",
    "在获取了股票的新闻数据之后，我们接下来需要对每支股票的所有新闻进行情感分析了。其中用到了百度人工智能接口aip下的\n",
    "aipNLP 用于对所有新闻数据进行自然语言处理，并进行情感分析。需要注意的是，在通过百度人工智能接口进行情感分析之前\n",
    "需要先注册并获取APP_ID、API_KEY以及SECRET_KEY。获取的方式如下：\n",
    "    首先，登录并注册百度人工智能平台（https://ai.baidu.com/）：\n",
    "    然后，在自己的控制台中找到自然语言处理，并创建应用，如下图所示：\n",
    "    创建完成之后就可以得到自己的APP_ID、API_KEY以及SECRET_KEY，如下图所示：\n",
    "'''\n",
    "import os\n",
    "import re\n",
    "import requests\n",
    "import matplotlib\n",
    "import matplotlib.pyplot as plt\n",
    "import pandas as pd\n",
    "from lxml import etree\n",
    "from aip import AipNlp\n",
    "\n",
    "desktop_path = os.path.join(os.path.expanduser(\"~\"), 'Desktop','stocks.csv')\n",
    "desk = os.path.join(os.path.expanduser(\"~\"), 'Desktop')\n",
    "# print(desktop_path)\n",
    "# ———————————————————— 获取url下的最大page数\n",
    "def get_max_page(url):\n",
    "    page_data = requests.get(url).content.decode(\"gbk\")\n",
    "    data_tree = etree.HTML(page_data)\n",
    "    if page_data.find(\"page_newslib\"):\n",
    "        max_page = data_tree.xpath(\"//*[@class=\\\"page_newslib\\\"]//a[last()-1]/text()\")\n",
    "        return int(max_page[0])\n",
    "    else:\n",
    "        return 1\n",
    "\n",
    "# ———————————————————— 解析指定页面的数据并保存至本地\n",
    "def download_page(url, code):\n",
    "    try:\n",
    "        page_data = requests.get(url).content.decode(\"gbk\")\n",
    "        data_tree = etree.HTML(page_data)\n",
    "        titles = data_tree.xpath(\"//*[@class = \\\"newlist\\\"]//li/span/a/text()\")\n",
    "        for title in titles:\n",
    "            title = title + \"\\r\\n\"\n",
    "            with open(desk+\"\\\\\"+str(code) + \".txt\", \"a\") as file:\n",
    "                file.write(title)\n",
    "                file.flush()\n",
    "        return\n",
    "    except:\n",
    "        print(\"服务器超时\")\n",
    "\n",
    "# ———————————————————— 解析每个页面的数据\n",
    "def parse_pages(url, code):\n",
    "    max_page = get_max_page(url)\n",
    "    for i in range(1, max_page + 1):\n",
    "        if i != 1:\n",
    "            url = \"http://stock.jrj.com.cn/share,\" + str(code) + \",ggxw_\" + str(i) + \".shtml\"\n",
    "        download_page(url, code)\n",
    "# ******* ———————————————————— 下载指定的股票的新闻数据 *******\n",
    "def download_news(codes):\n",
    "    for code in codes:\n",
    "        print(code)\n",
    "        url = \"http://stock.jrj.com.cn/share,\" + str(code) + \",ggxw.shtml\"\n",
    "        parse_pages(url, code)\n",
    "# *******———————————————————— 对指定的股票进行情感分析并保存到本地*******\n",
    "def analyze_stocks(codes):\n",
    "    df = pd.DataFrame()\n",
    "    for code in codes:\n",
    "        print(code)\n",
    "        stock_dict = analyze(code)\n",
    "        df = df.append(stock_dict, ignore_index=True)\n",
    "    df.to_csv(desktop_path)\n",
    "# ———————————————————— 对指定股票的所有新闻数据进行情感分析并进行统计\n",
    "def analyze(code):\n",
    "    APP_ID = '24171780'\n",
    "    API_KEY = 'IQDRbYZ7OwEWY7EGrPUtyV96'\n",
    "    SECRET_KEY = 'pyfSSOcMQPLaIIl9KGIW3nLstfTSjo4X'\n",
    "    positive_nums = 0\n",
    "    nagative_nums = 0\n",
    "    count = 0\n",
    "    aipNlp = AipNlp(APP_ID, API_KEY, SECRET_KEY)\n",
    "    lines = open(desk+\"\\\\\"+str(code) + '.txt').readlines()\n",
    "    for line in lines:\n",
    "        if not line.isspace():\n",
    "            line = line.strip()\n",
    "            try:\n",
    "                result = aipNlp.sentimentClassify(line)\n",
    "                positive_prob = result['items'][0]['positive_prob']\n",
    "                nagative_prob = result['items'][0]['negative_prob']\n",
    "                count += 1\n",
    "                if positive_prob >= nagative_prob:\n",
    "                    positive_nums += 1\n",
    "                else:\n",
    "                    nagative_nums += 1\n",
    "            except:\n",
    "                pass\n",
    "    avg_positive = positive_nums / count\n",
    "    avg_nagative = nagative_nums / count\n",
    "    print('股票代码：',code, '消极比例：', avg_nagative, '积极比例：',avg_positive)\n",
    "    return {'股票代码':code, '消极比例':avg_nagative, '积极比例':avg_positive}\n",
    "\n",
    "def show():\n",
    "    matplotlib.rcParams['font.sans-serif'] = ['SimHei']\n",
    "    matplotlib.rcParams['axes.unicode_minus'] = False\n",
    "    df = pd.read_csv(desktop_path, index_col='股票代码', usecols=['股票代码', '消极比例','积极比例'])\n",
    "    df.plot(kind='barh', figsize=(10, 8))\n",
    "    plt.show()\n",
    "\n",
    "if __name__ == '__main__':\n",
    "#     codes = [601288, 600332]\n",
    "#     download_news(codes)\n",
    "    analyze_stocks(codes)\n",
    "    show()\n"
   ]
  },
  {
   "cell_type": "code",
   "execution_count": null,
   "metadata": {},
   "outputs": [],
   "source": []
  }
 ],
 "metadata": {
  "kernelspec": {
   "display_name": "Python 3",
   "language": "python",
   "name": "python3"
  },
  "language_info": {
   "codemirror_mode": {
    "name": "ipython",
    "version": 3
   },
   "file_extension": ".py",
   "mimetype": "text/x-python",
   "name": "python",
   "nbconvert_exporter": "python",
   "pygments_lexer": "ipython3",
   "version": "3.7.7"
  }
 },
 "nbformat": 4,
 "nbformat_minor": 4
}
