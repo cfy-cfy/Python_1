{
 "cells": [
  {
   "cell_type": "code",
   "execution_count": null,
   "metadata": {
    "code_folding": [
     0
    ]
   },
   "outputs": [],
   "source": [
    "# 【0】xlsxwriter库 及其他库比较：\n",
    "\n",
    "1. python读写Excel文件的那些库：来源：http://www.python-excel.org/\n",
    "    （1）openpyxl：读取和写入EXCEL2010文件的包(即.xlsx) 文档：https://openpyxl.readthedocs.org/\n",
    "    （2）xlsxwriter：\n",
    "    拥有丰富的特性，支持图片/表格/图表/筛选/格式/公式等，功能与openpyxl相似，优点是相比 openpyxl 还支持 VBA 文件导入，迷你图等功能，缺点是不能打开/修改已有文件，意味着使用 xlsxwriter 需要从零开始。支持EXCEL2010文件(即.xlsx) 文档：https://xlsxwriter.readthedocs.org/GitHub：https://github.com/jmcnamara/XlsxWriter\n",
    "    可以参考官方文档 https://xlsxwriter.readthedocs.org/\n",
    "    （3）pyxlsb：专门用于读取 xlsb格式的excel文件 GitHub：https://github.com/willtrnr/pyxlsb\n",
    "    （4）pylightxl ：用于读取xlsx 和xlsm格式的excel文件，或写入xlsx格式的excel文件 文档：https://pylightxl.readthedocs.io/en/latest/GitHub：https://github.com/PydPiper/pylightxl\n",
    "    （5）xlrd：用于读取xls格式的excel文件的库 文档：http://xlrd.readthedocs.io/en/latest/GitHub：https://github.com/python-excel/xlrd\n",
    "    （6）xlwt：用于写入xls格式的excel文件的库 文档：http://xlwt.readthedocs.io/en/latest/Examples：https://github.com/python-excel/xlwt/tree/master/examplesGitHub：https://github.com/python-excel/xlwt\n",
    "    （7）xlutils：用于配合xlrd和xlwt的工具库，包括样式的复制 文档：http://xlutils.readthedocs.io/en/latest/GitHub：https://github.com/python-excel/xlutils\n",
    "\n",
    "2.必须安装 Microsoft Excel应用程序后才能使用的库：\n",
    "    （8）xlwings\n",
    "    xlwings是开源，用Python替代VBA自动化操作Excel，同时支持Windows和MacOS。在Windows平台下，通过xlwings在Python中\n",
    "    编写UDF可以实现在Excel中调用Python。xlwings PRO是一个具有附加功能的商业插件。\n",
    "    主页：https://www.xlwings.org/文档：https://docs.xlwings.org/en/stable/GitHub：https://github.com/xlwings/xlwings"
   ]
  },
  {
   "cell_type": "code",
   "execution_count": null,
   "metadata": {
    "code_folding": [
     0
    ]
   },
   "outputs": [],
   "source": [
    "# 【1】直接通过xlsxwriter保存指定样式的数据\n",
    "import xlsxwriter\n",
    "import pandas as pd\n",
    "from datetime import datetime, date\n",
    "df = pd.DataFrame({'Date and time': [datetime(2015, 1, 1, 11, 30, 55),\n",
    "                                     datetime(2015, 1, 2, 1, 20, 33),\n",
    "                                     datetime(2015, 1, 3, 11, 10),\n",
    "                                     datetime(2015, 1, 4, 16, 45, 35),\n",
    "                                     datetime(2015, 1, 5, 12, 10, 15)],\n",
    "                   'Dates only': [date(2015, 2, 1),\n",
    "                                  date(2015, 2, 2),\n",
    "                                  date(2015, 2, 3),\n",
    "                                  date(2015, 2, 4),\n",
    "                                  date(2015, 2, 5)],\n",
    "                   'Numbers': [1010, 2020, 3030, 2020, 1515],\n",
    "                   'Percentage': [.1, .2, .33, .25, .5],\n",
    "                   })\n",
    "df['final'] = [f\"=C{i}*D{i}\" for i in range(2, df.shape[0]+2)]\n",
    "workbook = xlsxwriter.Workbook(r\"C:\\Users\\hp\\Desktop\\demo1.xlsx\")\n",
    "worksheet = workbook.add_worksheet('sheet1')\n",
    "# 创建列名的样式\n",
    "header_format = workbook.add_format({\n",
    "    'bold': True,\n",
    "    'text_wrap': True,\n",
    "    'valign': 'top',\n",
    "    'fg_color': '#D7E4BC',\n",
    "    'border': 1})\n",
    "# 从A1单元格开始写出一行数据，指定样式为header_format\n",
    "worksheet.write_row(0, 0,  df.columns, header_format)\n",
    "# 创建一批样式对象\n",
    "format1 = workbook.add_format({'border': 1, 'num_format': 'mmm d yyyy hh:mm:ss'})\n",
    "format2 = workbook.add_format({'border': 1, 'num_format': 'mmmm dd yyyy'})\n",
    "format3 = workbook.add_format({'border': 1, 'num_format': '#,##0.00'})\n",
    "format4 = workbook.add_format({'border': 1, 'num_format': '0%'})\n",
    "\n",
    "# 从第2行（角标从0开始）开始，分别写出每列的数据，并指定特定的样式\n",
    "worksheet.write_column(1, 0, df.iloc[:, 0], format1)\n",
    "worksheet.write_column(1, 1, df.iloc[:, 1], format2)\n",
    "worksheet.write_column(1, 2, df.iloc[:, 2], format3)\n",
    "worksheet.write_column(1, 3, df.iloc[:, 3], format4)\n",
    "worksheet.write_column(1, 4, df.iloc[:, 4], format3)\n",
    "\n",
    "# 设置对应列的列宽，单位是字符长度\n",
    "worksheet.set_column('A:A', 19)\n",
    "worksheet.set_column('B:B', 17)\n",
    "worksheet.set_column('C:C', 8)\n",
    "worksheet.set_column('D:D', 12)\n",
    "worksheet.set_column('E:E', 6)\n",
    "\n",
    "workbook.close()"
   ]
  }
 ],
 "metadata": {
  "kernelspec": {
   "display_name": "Python 3",
   "language": "python",
   "name": "python3"
  },
  "language_info": {
   "codemirror_mode": {
    "name": "ipython",
    "version": 3
   },
   "file_extension": ".py",
   "mimetype": "text/x-python",
   "name": "python",
   "nbconvert_exporter": "python",
   "pygments_lexer": "ipython3",
   "version": "3.7.7"
  }
 },
 "nbformat": 4,
 "nbformat_minor": 4
}
