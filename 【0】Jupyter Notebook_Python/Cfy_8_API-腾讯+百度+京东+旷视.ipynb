{
 "cells": [
  {
   "cell_type": "code",
   "execution_count": null,
   "metadata": {
    "code_folding": [
     0
    ]
   },
   "outputs": [],
   "source": [
    "# 【0】简介：腾讯+百度+京东+旷视  AI 开放平台：\n",
    "'''\n",
    "腾讯 AI 开放平台：https://ai.qq.com/\n",
    "百度 AI 开放平台：https://ai.baidu.com/  +  https://cloud.baidu.com/\n",
    "京东 AI 开放平台：http://neuhub.jd.com/\n",
    "旷视 AI 开放平台：https://www.faceplusplus.com.cn/\n",
    "常见的图像技术、语音技术、文字识别，这些网站都有提供。\n",
    "单看服务数量，百度提供的接口最丰富。\n",
    "旷视，人脸相关的技术，应该是比较好，毕竟早些年支付宝的人脸识别技术，都是旷视提供技术支持的。\n",
    "AI 开放平台提供了丰富的 AI 领域的基础能力，怎么用，用来干什么，就看自己的想象力了。\n",
    "当然，这些免费使用的 API 接口有很多限制，比如不能请求太快等等。\n",
    "想要 API 提供性能更好，QPS 更大的优质服务，那就得充钱了。\n",
    "'''"
   ]
  },
  {
   "cell_type": "code",
   "execution_count": 5,
   "metadata": {
    "code_folding": [
     0
    ]
   },
   "outputs": [
    {
     "name": "stdout",
     "output_type": "stream",
     "text": [
      "姓名韦小宝\n",
      "性别男民族汉\n",
      "出生1654年12月20日\n",
      "住址北京市东城区景山前街4号\n",
      "紫禁城敬事房\n",
      "公民身份证号码11204416541220243X\n"
     ]
    }
   ],
   "source": [
    "# 【1】百度API接口实现文字识别：pip install Baidu-AIP  +  https://cloud.baidu.com/\n",
    "\"\"\"pip install Baidu-AIP\n",
    "（1）文字识别——请求参数详情\n",
    "    参数名称\t是否必选\t类型\t可选值范围\t默认值\t说明\n",
    "    image\t是\tstring\t图像数据，base64编码，要求base64编码后大小不超过4M，最短边至少15px，最长边最大4096px,支持jpg/png/bmp格式\n",
    "    url\t是\tstring\t图片完整URL，URL长度不超过1024字节，URL对应的图片base64编码后大小不超过4M，最短边至少15px，最长边最大4096px,支持jpg/png/bmp格式，当image字段存在时url字段失效\n",
    "    language_type\t否\tstring\tCHN_ENG ENG POR FRE GER ITA SPA RUS JAP KOR\tCHN_ENG\t识别语言类型，默认为CHN_ENG。可选值包括：- CHN_ENG：中英文混合；- ENG：英文；- POR：葡萄牙语；- FRE：法语；- GER：德语；- ITA：意大利语；- SPA：西班牙语；- RUS：俄语；- JAP：日语；- KOR：韩语；\n",
    "    detect_direction\t否\tstring\ttrue false\tfalse\t是否检测图像朝向，默认不检测，即：false。朝向是指输入图像是正常方向、逆时针旋转90/180/270度。可选值包括: - true：检测朝向；- false：不检测朝向。\n",
    "    detect_language\t否\tstring\ttrue false\tfalse\t是否检测语言，默认不检测。当前支持（中文、英语、日语、韩语）\n",
    "    probability\t否\tstring\ttrue false\t是否返回识别结果中每一行的置信度\n",
    "（2）文字识别——返回数据参数详情\n",
    "    direction\t否\tnumber\t图像方向，当detect_direction=true时存在。- -1:未定义， - 0:正向， - 1: 逆时针90度， - 2:逆时针180度， - 3:逆时针270度\n",
    "    log_id\t是\tnumber\t唯一的log id，用于问题定位\n",
    "    words_result_num\t是\tnumber\t识别结果数，表示words_result的元素个数\n",
    "    words_result\t是\tarray\t定位和识别结果数组\n",
    "    +words\t否\tstring\t识别结果字符串\n",
    "    probability\t否\tobject\t行置信度信息；如果输入参数 probability = true 则输出\n",
    "    +average\t否\tnumber\t行置信度平均值\n",
    "    +variance\t否\tnumber\t行置信度方差\n",
    "    +min\t否\tnumber\t行置信度最小值\n",
    "\"\"\"\n",
    "import time\n",
    "import aip\n",
    "from aip import AipOcr\n",
    "\n",
    "\"\"\" 你的 APPID AK SK \"\"\"\n",
    "APP_ID = '23012828'\n",
    "API_KEY = 'nMHPR0BprlamvYRpNq9LjEfE'\n",
    "SECRET_KEY = 'YIW9dIs5ZQ28UWCBYCYj6kK44SzirmKs'\n",
    "client = AipOcr(APP_ID, API_KEY, SECRET_KEY)\n",
    "\n",
    "\"\"\" 调用通用文字识别（高精度版） \"\"\"\n",
    "# with open(r'C:\\Users\\hp\\Desktop\\640.png', 'rb') as fp:\n",
    "#     image = fp.read()\n",
    "#     text_list = client.basicAccurate(image)['words_result']\n",
    "#     for text in text_list:\n",
    "#         print(text['words'])\n",
    "#    ————————————————————————————————     \n",
    "# 打开并读取文件内容\n",
    "fp = open(r\".\\example\\E_Cfy_8_idcard.png\", \"rb\").read()\n",
    "# res = client.basicGeneral(fp) # 普通\n",
    "# res = client.basicAccurate(fp)  # 高精度\n",
    "res = client.general(fp)\n",
    "# 遍历结果\n",
    "for tex in res[\"words_result\"]:\n",
    "#     print(tex[\"words\"])\n",
    "    print(tex.get('words'))"
   ]
  },
  {
   "cell_type": "code",
   "execution_count": 2,
   "metadata": {
    "code_folding": [
     0
    ]
   },
   "outputs": [
    {
     "name": "stdout",
     "output_type": "stream",
     "text": [
      "翻译语句： Hello World! This is 1st paragraph.\n",
      "翻译结果： 你好，世界！这是第一段。\n",
      "翻译语句： This is 2nd paragraph.\n",
      "翻译结果： 这是第二段。\n"
     ]
    }
   ],
   "source": [
    "# 【1】百度翻译开放平台：http://api.fanyi.baidu.com/api/trans/product/index\n",
    "'''\n",
    "在使用百度的通用翻译 API 之前需要完成以下工作：\n",
    "    使用百度账号登录百度翻译开放平台（http://api.fanyi.baidu.com）；\n",
    "    注册成为开发者，获得APPID；\n",
    "    进行开发者认证（如仅需标准版可跳过）；\n",
    "    开通通用翻译API服务：开通链接\n",
    "    参考技术文档和Demo编写代码： https://api.fanyi.baidu.com/doc/21\n",
    "'''\n",
    "import requests\n",
    "import random\n",
    "import json\n",
    "from hashlib import md5\n",
    "\n",
    "appid = '20210519000834324'\n",
    "appkey = 'upA1qveEBiT5DTdTP30u'\n",
    "\n",
    "from_lang = 'en'\n",
    "to_lang =  'zh'\n",
    "\n",
    "endpoint = 'http://api.fanyi.baidu.com'\n",
    "path = '/api/trans/vip/translate'\n",
    "url = endpoint + path\n",
    "\n",
    "query = 'Hello World! This is 1st paragraph.\\nThis is 2nd paragraph.'\n",
    "\n",
    "def make_md5(s, encoding='utf-8'):\n",
    "    return md5(s.encode(encoding)).hexdigest()\n",
    "\n",
    "salt = random.randint(32768, 65536)\n",
    "sign = make_md5(appid + query + str(salt) + appkey)\n",
    "\n",
    "headers = {'Content-Type': 'application/x-www-form-urlencoded'}\n",
    "payload = {'appid': appid, 'q': query, 'from': from_lang, 'to': to_lang, 'salt': salt, 'sign': sign}\n",
    "\n",
    "r = requests.post(url, params=payload, headers=headers)\n",
    "result = r.json()\n",
    "# print(json.dumps(result, indent=4, ensure_ascii=False))\n",
    "\n",
    "for each in result['trans_result']:\n",
    "    print('翻译语句：',each['src'])\n",
    "    print('翻译结果：',each['dst'])"
   ]
  },
  {
   "cell_type": "code",
   "execution_count": null,
   "metadata": {
    "code_folding": [
     0
    ]
   },
   "outputs": [],
   "source": [
    "# （二）requests + re + execjs 百度翻译：\n",
    "import requests\n",
    "import re\n",
    "import execjs\n",
    "class BaiduTranslateSpider:\n",
    "    def __init__(self):\n",
    "        self.get_url = 'https://fanyi.baidu.com/?aldtype=16047'\n",
    "        self.headers = {\n",
    "            'accept': 'text/html,application/xhtml+xml,application/xml;q=0.9,image/webp,image/apng,*/*;q=0.8,application/signed-exchange;v=b3',\n",
    "            'accept-encoding': 'gzip, deflate, br',\n",
    "            'accept-language': 'zh-CN,zh;q=0.9,en;q=0.8',\n",
    "            'cookie': 'BAIDUID=68E904D92F2C8ACC62C7542C397FBD0B:FG=1; PSTM=1561529234; BIDUPSID=2633580F87BCDFE102C31514DA3EACA6; BDUSS=HdWTDhTajh0ZTd3QmFIbzZjeDdhTTE5Wkd0R1FGcFFSaDFJVVRRSHN3ZjNnbGRkSVFBQUFBJCQAAAAAAAAAAAEAAADE7I5C06LTwrDUxvjLq9fTAAAAAAAAAAAAAAAAAAAAAAAAAAAAAAAAAAAAAAAAAAAAAAAAAAAAAAAAAAAAAAAAAAAAAPf1L1339S9dM; BDORZ=B490B5EBF6F3CD402E515D22BCDA1598; locale=zh; REALTIME_TRANS_SWITCH=1; FANYI_WORD_SWITCH=1; HISTORY_SWITCH=1; SOUND_SPD_SWITCH=1; SOUND_PREFER_SWITCH=1; BDRCVFR[feWj1Vr5u3D]=I67x6TjHwwYf0; delPer=0; PSINO=3; H_PS_PSSID=29546_1466_21083_29578_29519_28518_29099_29568_28835_29221_29460_22157; Hm_lvt_64ecd82404c51e03dc91cb9e8c025574=1563869496,1563869600,1563953532,1564019873; to_lang_often=%5B%7B%22value%22%3A%22zh%22%2C%22text%22%3A%22%u4E2D%u6587%22%7D%2C%7B%22value%22%3A%22en%22%2C%22text%22%3A%22%u82F1%u8BED%22%7D%5D; from_lang_often=%5B%7B%22value%22%3A%22zh%22%2C%22text%22%3A%22%u4E2D%u6587%22%7D%2C%7B%22value%22%3A%22en%22%2C%22text%22%3A%22%u82F1%u8BED%22%7D%5D; yjs_js_security_passport=47e142eebb082b8c92ef506657211ad704b97215_1564026801_js; Hm_lpvt_64ecd82404c51e03dc91cb9e8c025574=1564026808',\n",
    "            'upgrade-insecure-requests': '1',\n",
    "            'user-agent': 'Mozilla/5.0 (Windows NT 10.0; WOW64) AppleWebKit/537.36 (KHTML, like Gecko) Chrome/75.0.3770.142 Safari/537.36',\n",
    "        }\n",
    "    def get_token(self):       # 获取token\n",
    "        html = requests.get(url=self.get_url, headers=self.headers).text\n",
    "        pattern = re.compile(r\"token: '(.*?)'\", re.S)\n",
    "        token = pattern.findall(html)\n",
    "        print(token)\n",
    "    \n",
    "    def get_sign(self, word):  # 获取sign\n",
    "        with open(r'C:\\Users\\hp\\Desktop\\bdfy.txt', 'r') as f:\n",
    "            js_data = f.read()\n",
    "        execjs_obj = execjs.compile(js_data)\n",
    "        sign = execjs_obj.eval('e(\"{}\")'.format(word))\n",
    "        print(sign)\n",
    "        return sign\n",
    "    def get_result(self, word, fro, to):  # 获取翻译结果\n",
    "        token = self.get_token()\n",
    "        sign = self.get_sign(word)\n",
    "#         # 把formdata定义成字典\n",
    "        formdata = {\n",
    "            'from': fro,\n",
    "            'to': to,\n",
    "            'query': word,\n",
    "            'transtype': 'realtime',\n",
    "            'simple_means_flag': '3',\n",
    "            'sign': sign,\n",
    "            'token': token}\n",
    "        html_json = requests.post(url='https://fanyi.baidu.com/v2transapi', data=formdata, headers=self.headers).json()\n",
    "    \n",
    "#         return html_json['trans_result']['data'][0]['dst']\n",
    "if __name__ == '__main__':\n",
    "    spider = BaiduTranslateSpider()\n",
    "    num = input('1.翻译英语，2.翻译汉语，请选择（1/2）：')\n",
    "    if num == '1':\n",
    "        fro = 'zh'\n",
    "        to = 'en'\n",
    "    else:\n",
    "        fro = 'en'\n",
    "        to = 'zh'\n",
    "    word = input('请输入要翻译的单词:')\n",
    "    result = spider.get_result(word, fro,to)\n",
    "    print(result)"
   ]
  },
  {
   "cell_type": "code",
   "execution_count": null,
   "metadata": {
    "code_folding": [
     0
    ]
   },
   "outputs": [],
   "source": [
    "# （三）有道翻译：\n",
    "import requests\n",
    "import time\n",
    "import random\n",
    "from hashlib import md5\n",
    "\n",
    "\n",
    "def get_salt_sign_ts(word):\n",
    "    ts = str(int(time.time() * 1000))\n",
    "    salt = ts + str(random.randint(0, 9))\n",
    "    string = \"fanyideskweb\" + word + salt + \"n%A-rKaT5fb[Gy?;N5@Tj\"\n",
    "    s = md5()\n",
    "    s.update(string.encode())\n",
    "    sign = s.hexdigest()\n",
    "\n",
    "    return salt, ts, sign\n",
    "\n",
    "\n",
    "def attack_yd(word):\n",
    "    salt, ts, sign = get_salt_sign_ts(word)\n",
    "    url = 'http://fanyi.youdao.com/translate_o?smartresult=dict&smartresult=rule'\n",
    "    headers = {\n",
    "        'Accept': 'image/webp,image/apng,image/*,*/*;q=0.8',\n",
    "        'Accept-Encoding': 'gzip, deflate',\n",
    "        'Accept-Language': 'zh-CN,zh;q=0.9,en;q=0.8',\n",
    "        'Connection': 'keep-alive',\n",
    "        'Cookie': 'OUTFOX_SEARCH_USER_ID=1966607151@10.169.0.83; OUTFOX_SEARCH_USER_ID_NCOO=250069037.7227244; JSESSIONID=aaakkyCArmplF4qJhJHWw; DICT_UGC=be3af0da19b5c5e6aa4e17bd8d90b28a|; JSESSIONID=abc9CfcjVp7bS6v1XUIWw; ___rl__test__cookies=1563952124524',\n",
    "        'Host': 'fanyi.youdao.com',\n",
    "        'Referer': 'http://fanyi.youdao.com/',\n",
    "        'User-Agent': 'Mozilla/5.0 (Windows NT 10.0; WOW64) AppleWebKit/537.36 (KHTML, like Gecko) Chrome/75.0.3770.142 Safari/537.36',\n",
    "    }\n",
    "    data = {\n",
    "        'i': word,\n",
    "        'from': 'AUTO',\n",
    "        'to': 'AUTO',\n",
    "        'smartresult': 'dict',\n",
    "        'client': 'fanyideskweb',\n",
    "        'salt': salt,\n",
    "        'sign': sign,\n",
    "        'ts': ts,\n",
    "        # 'bv': '6cf12640614e68ba598ee58ceccb0605',\n",
    "        # 'doctype': 'json',\n",
    "        # 'version': '2.1',\n",
    "        'keyfrom': 'fanyi.web',\n",
    "        'action': 'FY_BY_REALTlME',\n",
    "    }\n",
    "    html_json = requests.post(url, data=data, headers=headers).json()\n",
    "    return html_json['translateResult'][0][0]\n",
    "\n",
    "\n",
    "if __name__ == '__main__':\n",
    "    word = input('请输入要翻译的单词：')\n",
    "    result = attack_yd(word)\n",
    "    print(result)\n",
    "\n",
    "请输入要翻译的单词：你好\n",
    "{'tgt': 'hello', 'src': '你好'}"
   ]
  }
 ],
 "metadata": {
  "kernelspec": {
   "display_name": "Python 3",
   "language": "python",
   "name": "python3"
  },
  "language_info": {
   "codemirror_mode": {
    "name": "ipython",
    "version": 3
   },
   "file_extension": ".py",
   "mimetype": "text/x-python",
   "name": "python",
   "nbconvert_exporter": "python",
   "pygments_lexer": "ipython3",
   "version": "3.7.7"
  }
 },
 "nbformat": 4,
 "nbformat_minor": 4
}
