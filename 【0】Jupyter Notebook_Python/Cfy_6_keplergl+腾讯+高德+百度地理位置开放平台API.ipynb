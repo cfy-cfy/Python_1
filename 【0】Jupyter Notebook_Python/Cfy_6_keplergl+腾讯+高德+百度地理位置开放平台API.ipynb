{
 "cells": [
  {
   "cell_type": "code",
   "execution_count": null,
   "metadata": {
    "code_folding": [
     0
    ]
   },
   "outputs": [],
   "source": [
    "# 【0】pip install keplergl\n",
    "'''\n",
    "将以上数据可视化到地图中的方法也有很多，比如Ecahrts、高德地图可视化平台、地图无忧等，本次主要介绍kepler.gl。\n",
    "\n",
    "kepler.gl是由Uber开发的进行空间数据可视化的开源工具，是Uber内部进行空间数据可视化的默认工具，\n",
    "通过其面向Python开放的接口包keplergl，我们可以在 jupyter notebook 中通过书写Python代码的方式传入多种格式的数据，\n",
    "在其嵌入notebook的交互窗口中使用其内建的多种丰富的空间数据可视化功能。可以让你不需要任何编程基础，\n",
    "即可实现数据地图的可视化。Kepler.gl 支持的数据格式：CSV、GeoJson 和Json。\n",
    "'''\n",
    "import "
   ]
  },
  {
   "cell_type": "code",
   "execution_count": null,
   "metadata": {
    "code_folding": [
     0
    ]
   },
   "outputs": [],
   "source": [
    "# 【0】在线网站中可视化（推荐）：http://map.guihuayun.com/    + 城市轮廓数据可以在DATAV.GeoAtlas网站\n",
    "当然，你也可以直接在kepler官网中上传数据操作，但官网速度较慢，建议用如下网站操作：\n",
    "http://map.guihuayun.com/     #规划云网站搭的一个镜像\n",
    "https://kepler.gl/demo\n",
    "打开网站后，首先将cc.csv数据集添加进来。\n",
    "\n",
    "教程：——https://mp.weixin.qq.com/s/TguNkxztBIarH-gyv-c_TA\n",
    "1. 图标设置\n",
    "2. 地图样式更改\n",
    "3. 添加城市轮廓——城市轮廓数据可以在DATAV.GeoAtlas网站进行获取。\n",
    "    http://datav.aliyun.com/tools/atlas/#&lat=30.332329214580188&lng=106.72278672066881&zoom=3.5\n",
    "4. 上传轮廓数据\n",
    "5. 添加时间轴"
   ]
  },
  {
   "cell_type": "code",
   "execution_count": null,
   "metadata": {
    "code_folding": [
     0
    ]
   },
   "outputs": [],
   "source": [
    "# 【1】三种批量查询经纬度的方法：一、腾讯地图 _ 1 ： https://apis.map.qq.com/jsapi?\n",
    "'''\n",
    "需要在腾讯位置服务平台注册并获得一个key，作为位置数据调用的密:\n",
    "腾讯位置服务平台_ https://wiki.open.qq.com/wiki/%E4%BD%8D%E7%BD%AE%E6%9C%8D%E5%8A%A1\n",
    "                  https://lbs.qq.com/\n",
    "                  https://lbs.qq.com/dev/console/quota/mine\n",
    "'''\n",
    "import requests\n",
    "import pandas as pd\n",
    "import time\n",
    "\n",
    "df1 = pd.read_excel(r\"C:\\Users\\hp\\Desktop\\gz_school.xlsx\")\n",
    "display(df1.head())\n",
    "# ———————————————————————————————— 2、读取数据\n",
    "def tengxun(addr):\n",
    "    url = \"https://apis.map.qq.com/jsapi?\"   # 腾讯地图API接口\n",
    "    para = {\n",
    "        \"qt\": \"geoc\",\n",
    "        \"addr\":addr,                         # 传入地址参数\n",
    "        \"output\": \"json\",\n",
    "        \"key\": \"DGNBZ-OLXYF-ZQGJQ-NH67Q-6DEC5-Y5FCN\", #即腾讯地图API的key\n",
    "        \"pf\":\"jsapi\",\n",
    "        \"ref\":\"jsapi\"\n",
    "    }\n",
    "    req = requests.get(url,para)        # 请求数据\n",
    "    req = req.json()                    # 转为json格式\n",
    "#     print(req)\n",
    "    m = req[\"detail\"]\n",
    "    g = f\"{m['pointx']},{m['pointy']}\"  # 解析到经纬度数据\n",
    "    return g\n",
    "tengxun(addr=\"深圳市\")\n",
    "# ———————————————————————————————— 3、应用函数\n",
    "# time_start = time.time()                    # 程序起始时间\n",
    "# df1['经纬度']=df1['address'].apply(tengxun) # 调用函数\n",
    "# time_end = time.time()                      # 程序结束时间\n",
    "# t = time_end-time_start                     # 运行时间\n",
    "# print('共用时%s秒'%t)\n",
    "# display(df1.head())\n",
    "# # ———————————————————————————————— 4、保存数据\n",
    "# df1.to_excel(r\"C:\\Users\\hp\\Desktop\\result.xlsx\",index = False)"
   ]
  },
  {
   "cell_type": "code",
   "execution_count": null,
   "metadata": {
    "code_folding": [
     0
    ]
   },
   "outputs": [],
   "source": [
    "# 【1】三种批量查询经纬度的方法：一、腾讯地图 _ 2 : https://apis.map.qq.com/ws/geocoder/v1/?\n",
    "import requests\n",
    "import pandas as pd\n",
    "import time\n",
    "\n",
    "# df1 = pd.read_excel(r\"C:\\Users\\hp\\Desktop\\gz_school.xlsx\")\n",
    "# display(df1.head())\n",
    "# ———————————————————————————————— 2、读取数据\n",
    "# def tengxun(addr):\n",
    "#     url = \"https://apis.map.qq.com/ws/geocoder/v1/?\"   # 腾讯地图API接口\n",
    "#     para = {\n",
    "#         \"address\":addr,                         # 传入地址参数\n",
    "#         \"output\": \"json\",\n",
    "#         \"key\": \"DGNBZ-OLXYF-ZQGJQ-NH67Q-6DEC5-Y5FCN\", #即腾讯地图API的key\n",
    "#     }\n",
    "#     req = requests.get(url,para)        # 请求数据\n",
    "#     req = req.json()                    # 转为json格式\n",
    "#     m = req['result']['location']\n",
    "#     g = f\"{m['lng']},{m['lat']}\"  # 解析到经纬度数据\n",
    "#     print(g)\n",
    "#     return g\n",
    "# tengxun(addr=\"深圳市\")\n",
    "# ———————————————————————————————— 3、应用函数\n",
    "# time_start = time.time()                    # 程序起始时间\n",
    "# df1['经纬度']=df1['address'].apply(tengxun) # 调用函数\n",
    "# time_end = time.time()                      # 程序结束时间\n",
    "# t = time_end-time_start                     # 运行时间\n",
    "# print('共用时%s秒'%t)\n",
    "# display(df1.head())\n",
    "# ———————————————————————————————— 4、保存数据\n",
    "# df1.to_excel(r\"C:\\Users\\hp\\Desktop\\result.xlsx\",index = False)\n",
    "# ———————————————————————————————— 5 对经纬度字段分列并存储为csv格式。\n",
    "df= pd.read_excel(r\"C:\\Users\\hp\\Desktop\\result.xlsx\")\n",
    "df[\"lat\"] = df[\"经纬度\"].str.split(',',expand=True)[1] \n",
    "df[\"lon\"] = df[\"经纬度\"].str.split(',',expand=True)[0] \n",
    "# df[\"lat\"] = df[\"经纬度\"].str.split(',')\n",
    "display(df.head())\n",
    "df = df.drop('经纬度',axis=1)\n",
    "# df.to_csv(r'C:\\Users\\hp\\Desktop\\cc.csv',index=False)"
   ]
  },
  {
   "cell_type": "code",
   "execution_count": null,
   "metadata": {
    "code_folding": [
     0
    ]
   },
   "outputs": [],
   "source": [
    "# 【2】三种批量查询经纬度的方法：二、高德地图_ 1 ：https://lbs.amap.com/'\n",
    "import pandas as pd\n",
    "import requests\n",
    "import time\n",
    "import csv\n",
    "import json\n",
    "# —————————————— 1、构造函数\n",
    "def gaode(addr):\n",
    "        para = {\n",
    "            'key':'4bc8ba62afe4a4124e5203e8a3ff8d67',      # 高德地图开放平台申请的key\n",
    "            'address':addr                                 # 传入地址参数\n",
    "        }\n",
    "        url = 'https://restapi.amap.com/v3/geocode/geo?'   # 高德地图API接口\n",
    "        req = requests.get(url,para)\n",
    "        req = req.json()\n",
    "        print(req)\n",
    "        print('-' * 30)\n",
    "        m = req['geocodes'][0]['location']\n",
    "        print(m)\n",
    "        return m\n",
    "gaode(addr=\"深圳\")\n",
    "# —————————————— 2、应用函数\n",
    "# df2 = pd.read_excel('gz_school.xlsx') #读取地址数据\n",
    "# time_start = time.time()\n",
    "# df2['经纬度'] = df2['address'].apply(gaode) #调用函数\n",
    "# time_end = time.time()\n",
    "# t = time_end-time_start\n",
    "# print('共用时%s秒'%t)"
   ]
  },
  {
   "cell_type": "code",
   "execution_count": null,
   "metadata": {
    "code_folding": [
     0
    ]
   },
   "outputs": [],
   "source": [
    "# 【1】三种批量查询经纬度的方法：三、百度地图_ 1: https://lbsyun.baidu.com/\n",
    "\n",
    "# —————————————————————————— 1、构造函数\n",
    "import pandas as pd\n",
    "import requests\n",
    "import time\n",
    "import csv\n",
    "import json\n",
    "\n",
    "def baidu(addr):\n",
    "    url = \"http://api.map.baidu.com/geocoding/v3/?\" # 百度地图API接口\n",
    "    para = {\n",
    "        \"address\": addr,                            # 传入地址参数\n",
    "        \"output\": \"json\",\n",
    "        \"ak\": \"e25ZbdWZ3yduo8fQ0ZUM31qdGzcRIAX5\"    # 百度地图开放平台申请ak\n",
    "    }\n",
    "    req = requests.get(url,para)\n",
    "    req = req.json()\n",
    "    #print(req)\n",
    "    print('-' * 30)\n",
    "    m = req[\"result\"][\"location\"]\n",
    "    g = f\"{m['lng']},{m['lat']}\"\n",
    "    print(g)\n",
    "    return g\n",
    "baidu(addr=\"深圳\")\n",
    "# —————————————————————————— 2、应用函数\n",
    "# df3 = pd.read_excel('gz_school.xlsx')\n",
    "# time_start = time.time()\n",
    "# df3['经纬度'] = df3['address'].apply(baidu)\n",
    "# time_end = time.time()\n",
    "# t = time_end-time_start\n",
    "# print('共用时%s秒'%t)"
   ]
  }
 ],
 "metadata": {
  "kernelspec": {
   "display_name": "Python 3",
   "language": "python",
   "name": "python3"
  },
  "language_info": {
   "codemirror_mode": {
    "name": "ipython",
    "version": 3
   },
   "file_extension": ".py",
   "mimetype": "text/x-python",
   "name": "python",
   "nbconvert_exporter": "python",
   "pygments_lexer": "ipython3",
   "version": "3.7.7"
  }
 },
 "nbformat": 4,
 "nbformat_minor": 4
}
