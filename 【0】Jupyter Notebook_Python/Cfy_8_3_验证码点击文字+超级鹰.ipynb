{
 "cells": [
  {
   "cell_type": "code",
   "execution_count": 47,
   "metadata": {
    "code_folding": [
     0
    ]
   },
   "outputs": [
    {
     "name": "stdout",
     "output_type": "stream",
     "text": [
      "149,38|73,45|37,75\n"
     ]
    },
    {
     "data": {
      "text/plain": [
       "'149,38|73,45|37,75'"
      ]
     },
     "execution_count": 47,
     "metadata": {},
     "output_type": "execute_result"
    }
   ],
   "source": [
    "# 【1】获取超级鹰识别的坐标：文档代码: https://www.chaojiying.com/user/mysoft/\n",
    "import requests\n",
    "from hashlib import md5\n",
    "class Chaojiying_Client(object):\n",
    "    def __init__(self, username, password, soft_id):\n",
    "        self.username = username\n",
    "        password =  password.encode('utf8')\n",
    "        self.password = md5(password).hexdigest()\n",
    "        self.soft_id = soft_id\n",
    "        self.base_params = {'user': self.username,'pass2': self.password, 'softid': self.soft_id,}\n",
    "        self.headers = {'Connection': 'Keep-Alive',\n",
    "            'User-Agent': 'Mozilla/4.0 (compatible; MSIE 8.0; Windows NT 5.1; Trident/4.0)', }\n",
    "    def PostPic(self, im, codetype):\n",
    "        \"\"\"im: 图片字节,codetype: 题目类型 参考 http://www.chaojiying.com/price.html\"\"\"\n",
    "        params = { 'codetype': codetype,}\n",
    "        params.update(self.base_params)\n",
    "        files = {'userfile': ('ccc.jpg', im)}\n",
    "        r = requests.post('http://upload.chaojiying.net/Upload/Processing.php', data=params, files=files, headers=self.headers)\n",
    "        return r.json()\n",
    "    def ReportError(self, im_id):\n",
    "        \"\"\" im_id:报错题目的图片ID\"\"\"\n",
    "        params = {'id': im_id,}\n",
    "        params.update(self.base_params)\n",
    "        r = requests.post('http://upload.chaojiying.net/Upload/ReportError.php', data=params, headers=self.headers)\n",
    "        return r.json()\n",
    "\n",
    "def submit_img():       # 将验证码提交给超级鹰进行识别\n",
    "    chaojiying = Chaojiying_Client('18820147698', 'cfy122333..', '915194')  # 用户中心>>软件ID 生成一个\n",
    "    im = open(r'C:\\Users\\hp\\Desktop\\small_img.png', 'rb').read()            # 本地图片文件路径 来替换 a.jpg 有时WIN系统须要//\n",
    "    result = chaojiying.PostPic(im, 9004)['pic_str']\n",
    "    print(result)\n",
    "    return result\n",
    "submit_img()"
   ]
  },
  {
   "cell_type": "code",
   "execution_count": 49,
   "metadata": {
    "code_folding": [
     0
    ]
   },
   "outputs": [
    {
     "name": "stdout",
     "output_type": "stream",
     "text": [
      "[[149, 38], [73, 45], [37, 75]]\n"
     ]
    },
    {
     "data": {
      "text/plain": [
       "[[149, 38], [73, 45], [37, 75]]"
      ]
     },
     "execution_count": 49,
     "metadata": {},
     "output_type": "execute_result"
    }
   ],
   "source": [
    "# 【1】处理超级鹰返回的坐标：\n",
    "result=\"149,38|73,45|37,75\"\n",
    "def parse_data(result):\n",
    "    all_list = []       # 存储即将被点击的点的坐标  [[x1,y1],[x2,y2]]\n",
    "    if '|' in result:\n",
    "        list_1 = result.split('|')\n",
    "        count_1 = len(list_1)\n",
    "        for i in range(count_1):\n",
    "            xy_list = []\n",
    "            x = int(list_1[i].split(',')[0])\n",
    "            y = int(list_1[i].split(',')[1])\n",
    "            xy_list.append(x)\n",
    "            xy_list.append(y)\n",
    "            all_list.append(xy_list)\n",
    "    else:\n",
    "        print(result.split(',')[0])\n",
    "        print(result.split(',')[1])\n",
    "\n",
    "        x = int(result.split(',')[0])\n",
    "        y = int(result.split(',')[1])\n",
    "        xy_list = []\n",
    "        xy_list.append(x)\n",
    "        xy_list.append(y)\n",
    "        all_list.append(xy_list)\n",
    "    print(all_list)\n",
    "    return all_list\n",
    "parse_data(result)"
   ]
  },
  {
   "cell_type": "code",
   "execution_count": 52,
   "metadata": {
    "code_folding": [
     0
    ]
   },
   "outputs": [
    {
     "name": "stdout",
     "output_type": "stream",
     "text": [
      "验证码位置： {'x': 792, 'y': 240} 验证码size： {'height': 346, 'width': 270}\n",
      "调用超级鹰识别——》识别结果：图片中的验证码字符位置  41,69|101,33|40,102|120,86\n",
      "[[41, 69], [101, 33], [40, 102], [120, 86]]\n",
      "点击已完成\n",
      "点击已完成\n",
      "点击已完成\n",
      "点击已完成\n"
     ]
    }
   ],
   "source": [
    "# 【1】selenium登陆站 + 超级鹰——登陆B站：\n",
    "\n",
    "from selenium import webdriver\n",
    "from time import sleep\n",
    "from PIL import Image\n",
    "from selenium.webdriver import ActionChains\n",
    "import random\n",
    "img=[]\n",
    "bro = webdriver.Chrome('./chromedriver.exe')                   # 使用selenium打开登录界面\n",
    "def login():\n",
    "    bro.get('https://passport.bilibili.com/login')\n",
    "    bro.maximize_window()\n",
    "    username = bro.find_element_by_id('login-username')      # 定位用户名，密码输入框\n",
    "    password = bro.find_element_by_id('login-passwd')\n",
    "    sleep(1)\n",
    "    username.send_keys('18820147698')\n",
    "    sleep(1)\n",
    "    password.send_keys('cfy122333..')\n",
    "    sleep(1)\n",
    "    bro.find_element_by_xpath('//*[@id=\"geetest-wrap\"]/div/div[5]/a[1]').click()       # 定位登录按钮并点击\n",
    "    sleep(random.random()*3)\n",
    "    sleep(3)\n",
    "def save_img():                             \n",
    "    bro.save_screenshot(r'C:\\Users\\hp\\Desktop\\page.png')         # save_screenshot就是将当前页面进行截图且保\n",
    "    code_img_ele = bro.find_element_by_xpath('/html/body/div[3]/div[2]/div[6]')  # 定位验证码图片的位置\n",
    "    location = code_img_ele.location        # 验证码左上角的坐标x,y\n",
    "    size = code_img_ele.size                # 验证码图片对应的长和宽\n",
    "    print('验证码位置：',location,'验证码size：',size)\n",
    "    img.append(location)\n",
    "    img.append(size)\n",
    "    # 左上角和右下角的坐标,是否需要*1.24，在于电脑屏幕的比例是不是100%，请自行在设置中查看\n",
    "    rangle = (\n",
    "        int(location['x'] ), int(location['y'] ), int((location['x'] + size['width']) ),\n",
    "        int((location['y'] + size['height']) )\n",
    "    )\n",
    "    i = Image.open(r'C:\\Users\\hp\\Desktop\\page.png')\n",
    "    code_img_name = r'C:\\Users\\hp\\Desktop\\code.png'\n",
    "    frame = i.crop(rangle)                  # crop根据rangle元组内的坐标进行裁剪\n",
    "    frame.save(code_img_name)\n",
    "    return code_img_ele\n",
    "\n",
    "# 因为超级鹰识别的验证码图片的宽和高有限制，最好不超过460px*310px。\n",
    "# 但是截取到的验证码图片宽高为338px*432px，这时就要先将图片缩小一倍再提交即可，等到收到坐标数据再将坐标乘2。\n",
    "def narrow_img():       # 缩小图片\n",
    "    code = Image.open(r'C:\\Users\\hp\\Desktop\\code.png')\n",
    "    small_img = code.resize((int(round(img[1]['height']/2,0)),int(round((img[1]['width'])/2,0))))\n",
    "    small_img.save(r'C:\\Users\\hp\\Desktop\\small_img.png')\n",
    "# ==================================================================================\n",
    "import requests\n",
    "from hashlib import md5\n",
    "class Chaojiying_Client(object):\n",
    "    def __init__(self, username, password, soft_id):\n",
    "        self.username = username\n",
    "        password =  password.encode('utf8')\n",
    "        self.password = md5(password).hexdigest()\n",
    "        self.soft_id = soft_id\n",
    "        self.base_params = {'user': self.username,'pass2': self.password, 'softid': self.soft_id,}\n",
    "        self.headers = {'Connection': 'Keep-Alive',\n",
    "            'User-Agent': 'Mozilla/4.0 (compatible; MSIE 8.0; Windows NT 5.1; Trident/4.0)', }\n",
    "    def PostPic(self, im, codetype):\n",
    "        \"\"\"im: 图片字节,codetype: 题目类型 参考 http://www.chaojiying.com/price.html\"\"\"\n",
    "        params = { 'codetype': codetype,}\n",
    "        params.update(self.base_params)\n",
    "        files = {'userfile': ('ccc.jpg', im)}\n",
    "        r = requests.post('http://upload.chaojiying.net/Upload/Processing.php', data=params, files=files, headers=self.headers)\n",
    "        return r.json()\n",
    "    def ReportError(self, im_id):\n",
    "        \"\"\" im_id:报错题目的图片ID\"\"\"\n",
    "        params = {'id': im_id,}\n",
    "        params.update(self.base_params)\n",
    "        r = requests.post('http://upload.chaojiying.net/Upload/ReportError.php', data=params, headers=self.headers)\n",
    "        return r.json()\n",
    "\n",
    "def submit_img():       # 将验证码提交给超级鹰进行识别\n",
    "    chaojiying = Chaojiying_Client('18820147698', 'cfy122333..', '915194')  # 用户中心>>软件ID 生成一个\n",
    "    im = open(r'C:\\Users\\hp\\Desktop\\small_img.png', 'rb').read()            # 本地图片文件路径 来替换 a.jpg 有时WIN系统须要//\n",
    "    result = chaojiying.PostPic(im, 9004)['pic_str']\n",
    "    print('调用超级鹰识别——》识别结果：图片中的验证码字符位置 ',result)\n",
    "    return result\n",
    "\n",
    "def parse_data(result):\n",
    "    all_list = []       # 存储即将被点击的点的坐标  [[x1,y1],[x2,y2]]\n",
    "    if '|' in result:\n",
    "        list_1 = result.split('|')\n",
    "        count_1 = len(list_1)\n",
    "        for i in range(count_1):\n",
    "            xy_list = []\n",
    "            x = int(list_1[i].split(',')[0])\n",
    "            y = int(list_1[i].split(',')[1])\n",
    "            xy_list.append(x)\n",
    "            xy_list.append(y)\n",
    "            all_list.append(xy_list)\n",
    "    else:\n",
    "        print(result.split(',')[0])\n",
    "        print(result.split(',')[1])\n",
    "\n",
    "        x = int(result.split(',')[0])\n",
    "        y = int(result.split(',')[1])\n",
    "        xy_list = []\n",
    "        xy_list.append(x)\n",
    "        xy_list.append(y)\n",
    "        all_list.append(xy_list)\n",
    "    print(all_list)\n",
    "    return all_list\n",
    "\n",
    "def click_codeImg(all_list, code_img_ele):\n",
    "    for l in all_list:       # 遍历列表，使用动作链对每一个列表元素对应的x,y指定的位置进行点击操作\n",
    "        x = l[0]*1.6\n",
    "        y = l[1]*1.6\n",
    "        # move_to_element_with_offset移动到距某个元素（左上角坐标）多少距离的位置\n",
    "        ActionChains(bro).move_to_element_with_offset(code_img_ele, x, y).click().perform()\n",
    "        sleep(random.random()*1.5)\n",
    "        print('点击已完成')\n",
    "    sleep(random.random()*2)\n",
    "    # 完成动作链点击操作后，定位确认按钮并点击\n",
    "    bro.find_element_by_xpath('/html/body/div[3]/div[2]/div[6]/div/div/div[3]/a').click()\n",
    "\n",
    "def main():\n",
    "    login()                       # 进入登录界面，输入账号密码\n",
    "    code_img_ele = save_img()     # 保存页面截图，并根据坐标裁剪获取验证码图片\n",
    "    narrow_img()                  # 缩小图片\n",
    "    result = submit_img()         # 将图片提交给超级鹰,获取返回值\n",
    "    all_list = parse_data(result)             # 解析返回值,将数据格式化\n",
    "    click_codeImg(all_list, code_img_ele)     # 在页面验证码上完成点击操作\n",
    "main()"
   ]
  }
 ],
 "metadata": {
  "kernelspec": {
   "display_name": "Python 3",
   "language": "python",
   "name": "python3"
  },
  "language_info": {
   "codemirror_mode": {
    "name": "ipython",
    "version": 3
   },
   "file_extension": ".py",
   "mimetype": "text/x-python",
   "name": "python",
   "nbconvert_exporter": "python",
   "pygments_lexer": "ipython3",
   "version": "3.7.7"
  }
 },
 "nbformat": 4,
 "nbformat_minor": 2
}
